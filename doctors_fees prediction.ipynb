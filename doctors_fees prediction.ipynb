{
 "cells": [
  {
   "cell_type": "code",
   "execution_count": 5,
   "metadata": {},
   "outputs": [],
   "source": [
    "import pandas as pd\n",
    "import numpy as np\n",
    "import matplotlib.pyplot as plt\n",
    "import seaborn as sns\n",
    "from sklearn.preprocessing import LabelEncoder\n",
    "from sklearn.preprocessing import StandardScaler\n",
    "from scipy.stats import zscore\n",
    "from sklearn.linear_model import LogisticRegression\n",
    "from sklearn.model_selection import train_test_split,cross_val_score,GridSearchCV\n",
    "from sklearn.neighbors import KNeighborsClassifier\n",
    "from sklearn.naive_bayes import MultinomialNB\n",
    "from sklearn.preprocessing import StandardScaler\n",
    "from sklearn.metrics import accuracy_score,confusion_matrix,classification_report\n",
    "from sklearn.tree import DecisionTreeClassifier\n",
    "from sklearn.ensemble import RandomForestClassifier,AdaBoostClassifier,GradientBoostingClassifier,ExtraTreesClassifier\n",
    "from sklearn.svm import SVC\n",
    "import warnings\n",
    "warnings.filterwarnings('ignore')"
   ]
  },
  {
   "cell_type": "code",
   "execution_count": 6,
   "metadata": {},
   "outputs": [
    {
     "data": {
      "text/html": [
       "<div>\n",
       "<style scoped>\n",
       "    .dataframe tbody tr th:only-of-type {\n",
       "        vertical-align: middle;\n",
       "    }\n",
       "\n",
       "    .dataframe tbody tr th {\n",
       "        vertical-align: top;\n",
       "    }\n",
       "\n",
       "    .dataframe thead th {\n",
       "        text-align: right;\n",
       "    }\n",
       "</style>\n",
       "<table border=\"1\" class=\"dataframe\">\n",
       "  <thead>\n",
       "    <tr style=\"text-align: right;\">\n",
       "      <th></th>\n",
       "      <th>Qualification</th>\n",
       "      <th>Experience</th>\n",
       "      <th>Rating</th>\n",
       "      <th>Place</th>\n",
       "      <th>Profile</th>\n",
       "      <th>Miscellaneous_Info</th>\n",
       "      <th>Fees</th>\n",
       "    </tr>\n",
       "  </thead>\n",
       "  <tbody>\n",
       "    <tr>\n",
       "      <th>0</th>\n",
       "      <td>BHMS, MD - Homeopathy</td>\n",
       "      <td>24 years experience</td>\n",
       "      <td>100%</td>\n",
       "      <td>Kakkanad, Ernakulam</td>\n",
       "      <td>Homeopath</td>\n",
       "      <td>100% 16 Feedback Kakkanad, Ernakulam</td>\n",
       "      <td>100</td>\n",
       "    </tr>\n",
       "    <tr>\n",
       "      <th>1</th>\n",
       "      <td>BAMS, MD - Ayurveda Medicine</td>\n",
       "      <td>12 years experience</td>\n",
       "      <td>98%</td>\n",
       "      <td>Whitefield, Bangalore</td>\n",
       "      <td>Ayurveda</td>\n",
       "      <td>98% 76 Feedback Whitefield, Bangalore</td>\n",
       "      <td>350</td>\n",
       "    </tr>\n",
       "    <tr>\n",
       "      <th>2</th>\n",
       "      <td>MBBS, MS - Otorhinolaryngology</td>\n",
       "      <td>9 years experience</td>\n",
       "      <td>NaN</td>\n",
       "      <td>Mathikere - BEL, Bangalore</td>\n",
       "      <td>ENT Specialist</td>\n",
       "      <td>NaN</td>\n",
       "      <td>300</td>\n",
       "    </tr>\n",
       "    <tr>\n",
       "      <th>3</th>\n",
       "      <td>BSc - Zoology, BAMS</td>\n",
       "      <td>12 years experience</td>\n",
       "      <td>NaN</td>\n",
       "      <td>Bannerghatta Road, Bangalore</td>\n",
       "      <td>Ayurveda</td>\n",
       "      <td>Bannerghatta Road, Bangalore ₹250 Available on...</td>\n",
       "      <td>250</td>\n",
       "    </tr>\n",
       "    <tr>\n",
       "      <th>4</th>\n",
       "      <td>BAMS</td>\n",
       "      <td>20 years experience</td>\n",
       "      <td>100%</td>\n",
       "      <td>Keelkattalai, Chennai</td>\n",
       "      <td>Ayurveda</td>\n",
       "      <td>100% 4 Feedback Keelkattalai, Chennai</td>\n",
       "      <td>250</td>\n",
       "    </tr>\n",
       "  </tbody>\n",
       "</table>\n",
       "</div>"
      ],
      "text/plain": [
       "                    Qualification           Experience Rating  \\\n",
       "0           BHMS, MD - Homeopathy  24 years experience   100%   \n",
       "1    BAMS, MD - Ayurveda Medicine  12 years experience    98%   \n",
       "2  MBBS, MS - Otorhinolaryngology   9 years experience    NaN   \n",
       "3             BSc - Zoology, BAMS  12 years experience    NaN   \n",
       "4                            BAMS  20 years experience   100%   \n",
       "\n",
       "                          Place         Profile  \\\n",
       "0           Kakkanad, Ernakulam       Homeopath   \n",
       "1         Whitefield, Bangalore        Ayurveda   \n",
       "2    Mathikere - BEL, Bangalore  ENT Specialist   \n",
       "3  Bannerghatta Road, Bangalore        Ayurveda   \n",
       "4         Keelkattalai, Chennai        Ayurveda   \n",
       "\n",
       "                                  Miscellaneous_Info  Fees  \n",
       "0               100% 16 Feedback Kakkanad, Ernakulam   100  \n",
       "1              98% 76 Feedback Whitefield, Bangalore   350  \n",
       "2                                                NaN   300  \n",
       "3  Bannerghatta Road, Bangalore ₹250 Available on...   250  \n",
       "4              100% 4 Feedback Keelkattalai, Chennai   250  "
      ]
     },
     "execution_count": 6,
     "metadata": {},
     "output_type": "execute_result"
    }
   ],
   "source": [
    "df=pd.read_csv('final_train.csv')\n",
    "df.head()"
   ]
  },
  {
   "cell_type": "code",
   "execution_count": 7,
   "metadata": {},
   "outputs": [
    {
     "data": {
      "text/plain": [
       "(5961, 7)"
      ]
     },
     "execution_count": 7,
     "metadata": {},
     "output_type": "execute_result"
    }
   ],
   "source": [
    "df.shape"
   ]
  },
  {
   "cell_type": "code",
   "execution_count": 8,
   "metadata": {},
   "outputs": [
    {
     "data": {
      "text/html": [
       "<div>\n",
       "<style scoped>\n",
       "    .dataframe tbody tr th:only-of-type {\n",
       "        vertical-align: middle;\n",
       "    }\n",
       "\n",
       "    .dataframe tbody tr th {\n",
       "        vertical-align: top;\n",
       "    }\n",
       "\n",
       "    .dataframe thead th {\n",
       "        text-align: right;\n",
       "    }\n",
       "</style>\n",
       "<table border=\"1\" class=\"dataframe\">\n",
       "  <thead>\n",
       "    <tr style=\"text-align: right;\">\n",
       "      <th></th>\n",
       "      <th>Qualification</th>\n",
       "      <th>Experience</th>\n",
       "      <th>Rating</th>\n",
       "      <th>Place</th>\n",
       "      <th>Profile</th>\n",
       "      <th>Miscellaneous_Info</th>\n",
       "    </tr>\n",
       "  </thead>\n",
       "  <tbody>\n",
       "    <tr>\n",
       "      <th>0</th>\n",
       "      <td>MBBS</td>\n",
       "      <td>35 years experience</td>\n",
       "      <td>NaN</td>\n",
       "      <td>Ghatkopar East, Mumbai</td>\n",
       "      <td>General Medicine</td>\n",
       "      <td>NaN</td>\n",
       "    </tr>\n",
       "    <tr>\n",
       "      <th>1</th>\n",
       "      <td>MBBS, Diploma in Otorhinolaryngology (DLO)</td>\n",
       "      <td>31 years experience</td>\n",
       "      <td>NaN</td>\n",
       "      <td>West Marredpally, Hyderabad</td>\n",
       "      <td>ENT Specialist</td>\n",
       "      <td>NaN</td>\n",
       "    </tr>\n",
       "    <tr>\n",
       "      <th>2</th>\n",
       "      <td>MBBS, DDVL</td>\n",
       "      <td>40 years experience</td>\n",
       "      <td>70%</td>\n",
       "      <td>KK Nagar, Chennai</td>\n",
       "      <td>Dermatologists</td>\n",
       "      <td>70% 4 Feedback KK Nagar, Chennai</td>\n",
       "    </tr>\n",
       "    <tr>\n",
       "      <th>3</th>\n",
       "      <td>BAMS</td>\n",
       "      <td>0 years experience</td>\n",
       "      <td>NaN</td>\n",
       "      <td>New Ashok Nagar, Delhi</td>\n",
       "      <td>Ayurveda</td>\n",
       "      <td>NaN</td>\n",
       "    </tr>\n",
       "    <tr>\n",
       "      <th>4</th>\n",
       "      <td>BDS, MDS - Conservative Dentistry &amp; Endodontics</td>\n",
       "      <td>16 years experience</td>\n",
       "      <td>100%</td>\n",
       "      <td>Kanakpura Road, Bangalore</td>\n",
       "      <td>Dentist</td>\n",
       "      <td>General Dentistry Conservative Dentistry Cosme...</td>\n",
       "    </tr>\n",
       "  </tbody>\n",
       "</table>\n",
       "</div>"
      ],
      "text/plain": [
       "                                     Qualification           Experience  \\\n",
       "0                                             MBBS  35 years experience   \n",
       "1       MBBS, Diploma in Otorhinolaryngology (DLO)  31 years experience   \n",
       "2                                       MBBS, DDVL  40 years experience   \n",
       "3                                             BAMS   0 years experience   \n",
       "4  BDS, MDS - Conservative Dentistry & Endodontics  16 years experience   \n",
       "\n",
       "  Rating                        Place           Profile  \\\n",
       "0    NaN       Ghatkopar East, Mumbai  General Medicine   \n",
       "1    NaN  West Marredpally, Hyderabad    ENT Specialist   \n",
       "2    70%            KK Nagar, Chennai    Dermatologists   \n",
       "3    NaN       New Ashok Nagar, Delhi          Ayurveda   \n",
       "4   100%    Kanakpura Road, Bangalore           Dentist   \n",
       "\n",
       "                                  Miscellaneous_Info  \n",
       "0                                                NaN  \n",
       "1                                                NaN  \n",
       "2                   70% 4 Feedback KK Nagar, Chennai  \n",
       "3                                                NaN  \n",
       "4  General Dentistry Conservative Dentistry Cosme...  "
      ]
     },
     "execution_count": 8,
     "metadata": {},
     "output_type": "execute_result"
    }
   ],
   "source": [
    "df_test=pd.read_csv('final_test.csv')\n",
    "df_test.head()"
   ]
  },
  {
   "cell_type": "code",
   "execution_count": 9,
   "metadata": {},
   "outputs": [
    {
     "data": {
      "text/plain": [
       "(1987, 6)"
      ]
     },
     "execution_count": 9,
     "metadata": {},
     "output_type": "execute_result"
    }
   ],
   "source": [
    "df_test.shape"
   ]
  },
  {
   "cell_type": "code",
   "execution_count": 10,
   "metadata": {},
   "outputs": [
    {
     "data": {
      "text/plain": [
       "Qualification            0\n",
       "Experience               0\n",
       "Rating                3302\n",
       "Place                   25\n",
       "Profile                  0\n",
       "Miscellaneous_Info    2620\n",
       "Fees                     0\n",
       "dtype: int64"
      ]
     },
     "execution_count": 10,
     "metadata": {},
     "output_type": "execute_result"
    }
   ],
   "source": [
    "df.isnull().sum()"
   ]
  },
  {
   "cell_type": "markdown",
   "metadata": {},
   "source": [
    "there are null values present in our dataset."
   ]
  },
  {
   "cell_type": "code",
   "execution_count": 11,
   "metadata": {},
   "outputs": [
    {
     "data": {
      "text/plain": [
       "array([100, 350, 300, 250, 200, 700, 500, 400, 150, 650, 600,  50, 800,\n",
       "       750, 450,  80,  60, 550, 900, 950, 430, 130, 630, 499, 260,  70,\n",
       "        10, 299, 230, 380,   5, 280,  40,  30, 180, 920, 125, 850,  20,\n",
       "       220], dtype=int64)"
      ]
     },
     "execution_count": 11,
     "metadata": {},
     "output_type": "execute_result"
    }
   ],
   "source": [
    "df['Fees'].unique()"
   ]
  },
  {
   "cell_type": "code",
   "execution_count": 12,
   "metadata": {},
   "outputs": [
    {
     "data": {
      "text/plain": [
       "array(['Homeopath', 'Ayurveda', 'ENT Specialist', 'Dentist',\n",
       "       'General Medicine', 'Dermatologists'], dtype=object)"
      ]
     },
     "execution_count": 12,
     "metadata": {},
     "output_type": "execute_result"
    }
   ],
   "source": [
    "df['Profile'].unique()"
   ]
  },
  {
   "cell_type": "code",
   "execution_count": 13,
   "metadata": {},
   "outputs": [
    {
     "data": {
      "text/plain": [
       "Index(['Qualification', 'Experience', 'Rating', 'Place', 'Profile',\n",
       "       'Miscellaneous_Info', 'Fees'],\n",
       "      dtype='object')"
      ]
     },
     "execution_count": 13,
     "metadata": {},
     "output_type": "execute_result"
    }
   ],
   "source": [
    "df.columns"
   ]
  },
  {
   "cell_type": "code",
   "execution_count": 14,
   "metadata": {},
   "outputs": [
    {
     "data": {
      "text/plain": [
       "True"
      ]
     },
     "execution_count": 14,
     "metadata": {},
     "output_type": "execute_result"
    }
   ],
   "source": [
    "df.isnull().values.any()"
   ]
  },
  {
   "cell_type": "code",
   "execution_count": 15,
   "metadata": {},
   "outputs": [
    {
     "name": "stdout",
     "output_type": "stream",
     "text": [
      "<class 'pandas.core.frame.DataFrame'>\n",
      "RangeIndex: 5961 entries, 0 to 5960\n",
      "Data columns (total 7 columns):\n",
      " #   Column              Non-Null Count  Dtype \n",
      "---  ------              --------------  ----- \n",
      " 0   Qualification       5961 non-null   object\n",
      " 1   Experience          5961 non-null   object\n",
      " 2   Rating              2659 non-null   object\n",
      " 3   Place               5936 non-null   object\n",
      " 4   Profile             5961 non-null   object\n",
      " 5   Miscellaneous_Info  3341 non-null   object\n",
      " 6   Fees                5961 non-null   int64 \n",
      "dtypes: int64(1), object(6)\n",
      "memory usage: 326.1+ KB\n"
     ]
    }
   ],
   "source": [
    "df.info()"
   ]
  },
  {
   "cell_type": "code",
   "execution_count": 16,
   "metadata": {},
   "outputs": [
    {
     "data": {
      "text/plain": [
       "<matplotlib.axes._subplots.AxesSubplot at 0x20fc0a501c0>"
      ]
     },
     "execution_count": 16,
     "metadata": {},
     "output_type": "execute_result"
    },
    {
     "data": {
      "image/png": "[encoded data removed]",
      "text/plain": [
       "<Figure size 576x360 with 2 Axes>"
      ]
     },
     "metadata": {
      "needs_background": "light"
     },
     "output_type": "display_data"
    }
   ],
   "source": [
    "plt.figure(figsize=(8,5))\n",
    "sns.heatmap(df.isnull(),cmap='winter',yticklabels=False)"
   ]
  },
  {
   "cell_type": "code",
   "execution_count": 17,
   "metadata": {},
   "outputs": [],
   "source": [
    "for col in ['Rating','Miscellaneous_Info','Place']:\n",
    "    df[col].fillna(df[col].mode()[0],inplace=True)"
   ]
  },
  {
   "cell_type": "code",
   "execution_count": 18,
   "metadata": {},
   "outputs": [
    {
     "data": {
      "text/plain": [
       "False"
      ]
     },
     "execution_count": 18,
     "metadata": {},
     "output_type": "execute_result"
    }
   ],
   "source": [
    "df.isnull().values.any()"
   ]
  },
  {
   "cell_type": "code",
   "execution_count": 19,
   "metadata": {},
   "outputs": [
    {
     "data": {
      "text/plain": [
       "<matplotlib.axes._subplots.AxesSubplot at 0x20fbb5ba310>"
      ]
     },
     "execution_count": 19,
     "metadata": {},
     "output_type": "execute_result"
    },
    {
     "data": {
      "image/png": "[encoded data removed]",
      "text/plain": [
       "<Figure size 576x360 with 2 Axes>"
      ]
     },
     "metadata": {
      "needs_background": "light"
     },
     "output_type": "display_data"
    }
   ],
   "source": [
    "plt.figure(figsize=(8,5))\n",
    "sns.heatmap(df.isnull(),cmap='winter',yticklabels=False)"
   ]
  },
  {
   "cell_type": "markdown",
   "metadata": {},
   "source": [
    "now all the null values are replaced with the mode."
   ]
  },
  {
   "cell_type": "code",
   "execution_count": 20,
   "metadata": {},
   "outputs": [
    {
     "name": "stdout",
     "output_type": "stream",
     "text": [
      "Qualification:['BHMS, MD - Homeopathy' 'BAMS, MD - Ayurveda Medicine'\n",
      " 'MBBS, MS - Otorhinolaryngology' ...\n",
      " 'MD - Dermatology , Venereology & Leprosy, MBBS, Fellowship In Dermatosurgery'\n",
      " 'BDS, certification in smile designing'\n",
      " 'MD - Homeopathy, Post Graduate Diploma in Healthcare Management(PGDHM), DHMS (Diploma in Homeopathic Medicine and Surgery)']\n",
      "BDS                                                                                                                    488\n",
      "BHMS                                                                                                                   477\n",
      "BAMS                                                                                                                   471\n",
      "MBBS                                                                                                                   334\n",
      "MBBS, MS - ENT                                                                                                         220\n",
      "                                                                                                                      ... \n",
      "MBBS, MS - Orthopaedics, M.Ch - Orthopaedics, MRCS (UK), Fellowship in Joint Replacement                                 1\n",
      "MBBS, DNB - General Medicine, MD - General Medicine, MRCPS, Member of the Royal College of Physicians, UK (MRCP UK)      1\n",
      "MBBS, MD - Dermatology , Venereology & Leprosy, Fellowship in Dermatological Laser Surgery                               1\n",
      "MBBS, Diploma in Otorhinolaryngology (DLO), MS - ENT, M.Ch                                                               1\n",
      "DDVL, MBBS, DNB - Dermatology & Venereology, FAGE                                                                        1\n",
      "Name: Qualification, Length: 1420, dtype: int64\n",
      "__________________________________________________\n",
      "\n",
      "\n",
      "Experience:['24 years experience' '12 years experience' '9 years experience'\n",
      " '20 years experience' '8 years experience' '42 years experience'\n",
      " '10 years experience' '14 years experience' '23 years experience'\n",
      " '5 years experience' '7 years experience' '21 years experience'\n",
      " '19 years experience' '41 years experience' '31 years experience'\n",
      " '25 years experience' '16 years experience' '15 years experience'\n",
      " '11 years experience' '22 years experience' '38 years experience'\n",
      " '6 years experience' '36 years experience' '13 years experience'\n",
      " '18 years experience' '46 years experience' '40 years experience'\n",
      " '49 years experience' '33 years experience' '0 years experience'\n",
      " '27 years experience' '30 years experience' '52 years experience'\n",
      " '60 years experience' '26 years experience' '35 years experience'\n",
      " '34 years experience' '39 years experience' '32 years experience'\n",
      " '17 years experience' '28 years experience' '58 years experience'\n",
      " '4 years experience' '45 years experience' '44 years experience'\n",
      " '3 years experience' '37 years experience' '50 years experience'\n",
      " '29 years experience' '43 years experience' '54 years experience'\n",
      " '66 years experience' '2 years experience' '51 years experience'\n",
      " '47 years experience' '48 years experience' '53 years experience'\n",
      " '56 years experience' '61 years experience' '59 years experience'\n",
      " '57 years experience' '55 years experience' '65 years experience'\n",
      " '64 years experience']\n",
      "9 years experience     323\n",
      "10 years experience    294\n",
      "11 years experience    288\n",
      "8 years experience     282\n",
      "12 years experience    279\n",
      "                      ... \n",
      "61 years experience      1\n",
      "64 years experience      1\n",
      "58 years experience      1\n",
      "60 years experience      1\n",
      "66 years experience      1\n",
      "Name: Experience, Length: 64, dtype: int64\n",
      "__________________________________________________\n",
      "\n",
      "\n",
      "Rating:['100%' '98%' '99%' '79%' '95%' '97%' '94%' '88%' '90%' '80%' '93%' '36%'\n",
      " '78%' '87%' '96%' '82%' '89%' '74%' '86%' '92%' '83%' '76%' '85%' '56%'\n",
      " '91%' '68%' '60%' '75%' '69%' '73%' '67%' '77%' '33%' '55%' '71%' '84%'\n",
      " '45%' '63%' '72%' '81%' '62%' '57%' '7%' '48%' '40%' '70%' '64%' '65%'\n",
      " '47%' '58%' '53%']\n",
      "100%    3986\n",
      "98%      290\n",
      "99%      259\n",
      "97%      241\n",
      "96%      220\n",
      "95%      178\n",
      "94%      115\n",
      "93%      109\n",
      "92%       66\n",
      "90%       66\n",
      "91%       60\n",
      "89%       42\n",
      "88%       41\n",
      "85%       27\n",
      "82%       23\n",
      "83%       21\n",
      "86%       21\n",
      "80%       19\n",
      "77%       16\n",
      "87%       14\n",
      "84%       13\n",
      "79%       13\n",
      "67%       12\n",
      "81%       12\n",
      "76%        9\n",
      "71%        9\n",
      "73%        8\n",
      "75%        8\n",
      "60%        7\n",
      "74%        7\n",
      "78%        6\n",
      "56%        5\n",
      "68%        5\n",
      "70%        4\n",
      "69%        4\n",
      "57%        3\n",
      "72%        3\n",
      "63%        2\n",
      "62%        2\n",
      "55%        2\n",
      "64%        2\n",
      "33%        2\n",
      "53%        1\n",
      "47%        1\n",
      "36%        1\n",
      "45%        1\n",
      "7%         1\n",
      "58%        1\n",
      "65%        1\n",
      "40%        1\n",
      "48%        1\n",
      "Name: Rating, dtype: int64\n",
      "__________________________________________________\n",
      "\n",
      "\n",
      "Place:['Kakkanad, Ernakulam' 'Whitefield, Bangalore'\n",
      " 'Mathikere - BEL, Bangalore' 'Bannerghatta Road, Bangalore'\n",
      " 'Keelkattalai, Chennai' 'Porur, Chennai' 'Karol Bagh, Delhi'\n",
      " 'Arekere, Bangalore' 'Old City, Hyderabad' 'Athani, Ernakulam'\n",
      " 'Thousand Lights, Chennai' 'Somajiguda, Hyderabad'\n",
      " 'Coimbatore Racecourse, Coimbatore' 'Jubilee Hills, Hyderabad'\n",
      " 'Kondli, Delhi' 'Saroor Nagar, Hyderabad' 'Tambaram West, Chennai'\n",
      " 'Purasawakkam, Chennai' 'KPHB, Hyderabad' 'HSR Layout, Bangalore'\n",
      " 'Pollachi, Coimbatore' 'Vasundhra Enclave, Delhi' 'Chembur, Mumbai'\n",
      " 'Thammanam, Ernakulam' 'Andheri, Mumbai' 'Pattom, Thiruvananthapuram'\n",
      " 'Kukatpally, Hyderabad' 'Vadavalli, Coimbatore' 'Defence Colony, Delhi'\n",
      " 'Banjara Hills, Hyderabad' 'Sion West, Mumbai' 'CR Park, Delhi'\n",
      " 'Mogappair East, Chennai' 'IP Extension, Delhi'\n",
      " 'Safdarjung Enclave, Delhi' 'New Friends Colony, Delhi'\n",
      " 'Borivali West, Mumbai' 'Saket, Delhi' 'Malad, Mumbai'\n",
      " 'Hyder Nagar, Hyderabad' 'Dahisar West, Mumbai' 'RT Nagar, Bangalore'\n",
      " 'Powai, Mumbai' 'Basheerbagh, Hyderabad' 'Musheerabad, Hyderabad'\n",
      " 'AS Rao Nagar, Hyderabad' 'Madhapur, Hyderabad' 'Gandhinagar, Hyderabad'\n",
      " 'Chetpet, Chennai' 'Vileparle East, Mumbai'\n",
      " 'Yelahanka New Town, Bangalore' 'Kodambakkam, Chennai'\n",
      " 'Malleswaram, Bangalore' 'Pallikaranai, Chennai' 'Nallakunta, Hyderabad'\n",
      " 'Paschim Vihar, Delhi' 'Meera Bagh, Delhi' 'Chattarpur, Delhi'\n",
      " 'Andheri West, Mumbai' 'Himayat Nagar, Hyderabad' 'Adambakkam, Chennai'\n",
      " 'Punjabi Bagh, Delhi' 'Mahalaxmi, Mumbai' 'Kalina, Mumbai'\n",
      " 'Attapur, Hyderabad' 'Lakdikapul, Hyderabad' 'Ambattur, Chennai'\n",
      " 'Ramnagar, Coimbatore' 'Shalimar Bagh, Delhi' 'Nungambakkam, Chennai'\n",
      " 'Miyapur, Hyderabad' 'Sagarpur, Delhi' 'Girgaon, Mumbai'\n",
      " 'Jayanagar, Bangalore' 'Palayam, Thiruvananthapuram' 'Munirka, Delhi'\n",
      " 'Tuglakabad, Delhi' 'Moosarambagh, Hyderabad' 'Anna Nagar East, Chennai'\n",
      " 'Bandra West, Mumbai' 'Kanakpura Road, Bangalore' 'Green Park, Delhi'\n",
      " 'Maduravoyal, Chennai' 'Dahisar East, Mumbai' 'Moosapet, Hyderabad'\n",
      " 'Koramangala, Bangalore' 'TV Medical College, Thiruvananthapuram'\n",
      " 'Kadavanthra, Ernakulam' 'Greams Road, Chennai' 'Bommanahalli, Bangalore'\n",
      " 'T Nagar, Chennai' 'Yelahanka, Bangalore' 'Hazrat Nizamuddin, Delhi'\n",
      " 'Old Rajendra Nagar, Delhi' 'Dadar West, Mumbai' 'Indiranagar, Bangalore'\n",
      " 'Perumbakkam, Chennai' 'Shaikpet, Hyderabad' 'Vyttila, Ernakulam'\n",
      " 'Khar West, Mumbai' 'Goregaon West, Mumbai' 'Bakkarwala, Delhi'\n",
      " 'Nesapakkam, Chennai' 'BTM Layout 2nd Stage, Bangalore'\n",
      " 'Ashok Nagar, Chennai' 'Chandivali, Mumbai' 'Uttam Nagar, Delhi'\n",
      " 'Gujranwala Town, Delhi' 'Greater Kailash Part 1, Delhi'\n",
      " 'Panchsheel Park, Delhi' 'Thoraipakkam, Chennai'\n",
      " 'South Extension 2, Delhi' 'Kandivali East, Mumbai' 'Pitampura, Delhi'\n",
      " 'Banashankari 3rd Stage, Bangalore' 'Kolenchery, Ernakulam'\n",
      " 'Kumaraswamy Layout, Bangalore' 'Vadapalani, Chennai'\n",
      " 'Manikonda, Hyderabad' 'Gandhipuram, Coimbatore'\n",
      " 'Yeshwanthpur, Bangalore' 'Ayanavaram, Chennai'\n",
      " 'Basaveshwaranagar, Bangalore' 'Malad West, Mumbai' 'Vikas Puri, Delhi'\n",
      " 'Kondapur, Hyderabad' 'Andheri East, Mumbai' 'Sulur, Coimbatore'\n",
      " 'Adyar, Chennai' 'Krishna Nagar, Delhi' 'Langer House, Hyderabad'\n",
      " 'Thiruvanmiyur, Chennai' 'Dwarka, Delhi' 'Bhandup West, Mumbai'\n",
      " 'Janak Puri, Delhi' 'Rajajinagar, Bangalore' 'South Extension 1, Delhi'\n",
      " 'Kemps Corner, Mumbai' 'Peelamedu, Coimbatore' 'Kandivali West, Mumbai'\n",
      " 'Thevara, Ernakulam' 'Wilson Garden, Bangalore' 'Wadala, Mumbai'\n",
      " 'Pahar Ganj, Delhi' 'Chanchalguda, Hyderabad' 'Chikkadpally, Hyderabad'\n",
      " 'Pasur-avanashi, Coimbatore' 'Nagarbhavi, Bangalore'\n",
      " 'Lajpat Nagar, Delhi' 'Mayur Vihar Ph-I, Delhi' 'Dilshad Garden, Delhi'\n",
      " 'Vijayanagar, Bangalore' 'Alwarpet, Chennai'\n",
      " 'Pappanamcode, Thiruvananthapuram' 'Aluva, Ernakulam'\n",
      " 'Nariman Point, Mumbai' 'Kilkattalai, Chennai' 'Dilsukhnagar, Hyderabad'\n",
      " 'Kurla West, Mumbai' 'Begumpet, Hyderabad' 'Kaloor, Ernakulam'\n",
      " 'Hitech City, Hyderabad' 'Goregaon East, Mumbai'\n",
      " 'Velandipalayam, Coimbatore' 'Ghatkopar East, Mumbai'\n",
      " 'Mulund West, Mumbai' 'Yousufguda, Hyderabad' 'Ghatkopar West, Mumbai'\n",
      " 'TVM Beach, Thiruvananthapuram' 'Vanagaram, Chennai' 'Worli, Mumbai'\n",
      " 'Koramangala 1 Block, Bangalore' 'Saki Vihar Road, Mumbai'\n",
      " 'Versova, Mumbai' 'CV Raman Nagar, Bangalore' 'Secunderabad, Hyderabad'\n",
      " 'BTM Layout 1st Stage, Bangalore' 'Ramkoti, Hyderabad'\n",
      " 'MRC Nagar, Chennai' 'Malkajgiri, Hyderabad' 'Gachibowli, Hyderabad'\n",
      " 'Mogappair West, Chennai' 'Mayur Vihar Ph-III, Delhi'\n",
      " 'Kurla East, Mumbai' 'Ashok Vihar, Delhi' 'Mahim, Mumbai'\n",
      " 'Villivakkam, Chennai' 'Srinagar Colony, Hyderabad' 'Chromepet, Chennai'\n",
      " 'Pammal, Chennai' 'Banashankari, Bangalore' 'Velachery, Chennai'\n",
      " 'Chanakyapuri, Delhi' 'Kalyan Nagar, Bangalore' 'Oshiwara, Mumbai'\n",
      " 'Karapakkam, Chennai' 'Borivali, Mumbai' 'Mylapore, Chennai'\n",
      " 'Electronics City, Bangalore' 'Perungudi, Chennai'\n",
      " 'Basavanagudi, Bangalore' 'MG Road, Bangalore' 'Thiruvottiyur, Chennai'\n",
      " 'Greater Kailash Part 2, Delhi' 'Bilekahalli, Bangalore'\n",
      " 'Nanganallur, Chennai' 'Rohini, Delhi' 'Thrikkakara, Ernakulam'\n",
      " 'Manapakkam, Chennai' 'Bellandur, Bangalore' 'Ameerpet, Hyderabad'\n",
      " 'Thiruvallom, Thiruvananthapuram' 'R.S. Puram, Coimbatore'\n",
      " 'Kumarapuram, Thiruvananthapuram' 'Palam Colony, Delhi' 'Manali, Chennai'\n",
      " 'Valasaravakkam, Chennai' 'Barkatpura, Hyderabad'\n",
      " 'Singanallur, Coimbatore' 'Mulund, Mumbai' 'Dadar East, Mumbai'\n",
      " 'Borabanda, Hyderabad' 'Model Town 3, Delhi' 'Ulsoor, Bangalore'\n",
      " 'Bhayandar West, Mumbai' 'Hari Nagar, Delhi' 'Horamavu, Bangalore'\n",
      " 'Santacruz East, Mumbai' 'OMR Road, Chennai' 'Kammana Halli, Bangalore'\n",
      " 'Tilak Nagar, Delhi' 'Panathur, Bangalore'\n",
      " 'Rajarajeshwarinagar, Bangalore' 'Paravur, Ernakulam'\n",
      " 'Preet Vihar, Delhi' 'Chembur East, Mumbai' 'Jakkur, Bangalore'\n",
      " 'Vanasthalipuram, Hyderabad' 'Mandaveli, Chennai'\n",
      " 'Kumara Park West, Bangalore' 'Domlur, Bangalore'\n",
      " 'Jeevanbhimanagar, Bangalore' 'Santacruz West, Mumbai'\n",
      " 'Shankar Vihar, Delhi' 'Jogeshwari East, Mumbai'\n",
      " 'Kasavanahalli, Bangalore' 'Ambalamukku, Thiruvananthapuram'\n",
      " 'Jhilmil Colony, Delhi' 'Dwarka Sector 7, Delhi' 'Tatabad, Coimbatore'\n",
      " 'Marine Lines, Mumbai' 'Tolichowki, Hyderabad' 'Sundarapuram, Coimbatore'\n",
      " 'Kothanur, Bangalore' 'Chinmaya Nagar, Chennai' 'Vasant Vihar, Delhi'\n",
      " 'Mehdipatnam, Hyderabad' 'Kadugodi, Bangalore' 'Ganapathy, Coimbatore'\n",
      " 'SR Nagar, Hyderabad' 'Perambur, Chennai' 'Opera House, Mumbai'\n",
      " 'Selvapuram, Coimbatore' 'Karkardooma, Delhi' 'Alwarthirunagar, Chennai'\n",
      " 'KR Puram, Bangalore' 'Ramesh Nagar, Delhi' 'Malakpet, Hyderabad'\n",
      " 'Tondiarpet, Chennai' 'Vikrampuri Colony, Hyderabad'\n",
      " 'Besant Nagar, Chennai' 'Vasant Kunj, Delhi' 'Banaswadi, Bangalore'\n",
      " 'BTM Layout, Bangalore' 'Medavakkam, Chennai' 'Vileparle West, Mumbai'\n",
      " 'Sahakaranagar, Bangalore' 'LB Nagar, Hyderabad' 'Punjagutta, Hyderabad'\n",
      " 'Yamuna Vihar, Delhi' 'Marathahalli, Bangalore'\n",
      " 'JP Nagar 2 Phase, Bangalore' 'Rani Bagh, Delhi' 'Jayamahal, Bangalore'\n",
      " 'Nagpada, Mumbai' 'Kundalahalli, Bangalore' 'Kailash Colony, Delhi'\n",
      " 'Pandav Nagar, Delhi' 'Karkhana, Hyderabad' 'West Mambalam, Chennai'\n",
      " 'Aminjikarai, Chennai' 'Madipakkam, Chennai' 'Charkop, Mumbai'\n",
      " 'Adarsh Nagar, Delhi' 'Dadar, Mumbai' 'Kaggadasapura, Bangalore'\n",
      " 'Matunga, Mumbai' 'Sun city, Hyderabad' 'Mahadevapura, Bangalore'\n",
      " 'Kalady, Ernakulam' 'Anna Nagar West, Chennai' 'Mayur Vihar Ph-II, Delhi'\n",
      " 'Tis Hazari, Delhi' 'Vennala, Ernakulam' 'Mira Road, Mumbai'\n",
      " 'Alwal, Hyderabad' 'Trimulgherry, Hyderabad'\n",
      " 'Raja Annamalai Puram, Chennai' 'JP Nagar 7 Phase, Bangalore'\n",
      " 'Old Bowenpally, Hyderabad' 'Santosh Nagar, Hyderabad'\n",
      " 'Hope College, Coimbatore' 'Mulund East, Mumbai' 'Mount Road, Chennai'\n",
      " 'Patel Nagar West, Delhi' 'Jayanagar 4 Block, Bangalore'\n",
      " 'West Marredpally, Hyderabad' 'Jagriti Enclave, Delhi'\n",
      " 'Sarita Vihar, Delhi' 'Rajendra Nagar, Hyderabad'\n",
      " 'Thudiyalur, Coimbatore' 'Bhayandar East, Mumbai'\n",
      " 'Narayanguda, Hyderabad' 'Kothapet, Hyderabad' 'KK Nagar, Chennai'\n",
      " 'Tripunithura, Ernakulam' 'Model Town, Delhi'\n",
      " 'Suchitra Circle, Hyderabad' 'Pusa Road, Delhi'\n",
      " 'Vijaynagar Colony, Hyderabad' 'Alandur, Chennai' 'Cuffe Parade, Mumbai'\n",
      " 'Kalkaji, Delhi' 'Saibaba Colony, Coimbatore'\n",
      " 'Kattakada, Thiruvananthapuram' 'Jogeshwari West, Mumbai'\n",
      " 'Erragadda, Hyderabad' 'Tilak Nagar, Hyderabad' 'Edapally, Ernakulam'\n",
      " 'Patparganj, Delhi' 'Sainikpuri, Hyderabad' 'Nanjundapuram, Coimbatore'\n",
      " 'Nizampet, Hyderabad' 'Kolathur, Chennai' 'Chamarajpet, Bangalore'\n",
      " 'Kala Ghoda, Mumbai' 'Padmarao Nagar, Hyderabad' 'Uppal, Hyderabad'\n",
      " 'Guduvanchery, Chennai' 'Satya Niketan, Delhi' 'Chanda Nagar, Hyderabad'\n",
      " 'Sowripalayam, Coimbatore' 'Vikhroli West, Mumbai'\n",
      " 'Rajouri Garden, Delhi' 'Alaknanda, Delhi' 'Millers Road, Bangalore'\n",
      " 'Kandanchavadi, Chennai' 'Vigyan Vihar, Delhi' 'Bandra East, Mumbai'\n",
      " 'Vilankurichi, Coimbatore' 'Malad East, Mumbai' 'Prabhadevi, Mumbai'\n",
      " 'Ulloor, Thiruvananthapuram' 'Rajakilpakkam, Chennai'\n",
      " 'Greater Kailash, Delhi' 'Madinaguda, Hyderabad' 'Borivali East, Mumbai'\n",
      " 'Juhu, Mumbai' 'Mugalivakkam, Chennai' 'Hebbal, Bangalore'\n",
      " 'Kirti Nagar, Delhi' 'Balaramapuram, Thiruvananthapuram'\n",
      " 'Bhandup East, Mumbai' 'VV Puram, Bangalore' 'Kilpauk, Chennai'\n",
      " 'Jacob Circle, Mumbai' 'Singasandra, Bangalore' 'Khairatabad, Hyderabad'\n",
      " 'Coimbatore Aerodrome, Coimbatore' 'J.C Nagar, Bangalore'\n",
      " 'Naraina Vihar, Delhi' 'Virugambakkam, Chennai' 'RK Puram, Delhi'\n",
      " 'Banashankari 1st Stage, Bangalore' 'Lajpat Nagar 4, Delhi'\n",
      " 'Jayanagar 5 Block, Bangalore' 'Kalyanpuri, Hyderabad'\n",
      " 'Tambaram, Chennai' 'Laxmi Nagar, Delhi' 'Anand Vihar, Delhi'\n",
      " 'Charni Road, Mumbai' 'Patel Nagar East, Delhi'\n",
      " 'Jayanagar 9 Block, Bangalore' 'Ecil, Hyderabad'\n",
      " 'Ramamurthy Nagar, Bangalore' 'Raj Nagar - 2, Delhi'\n",
      " 'Chunabhatti, Mumbai' 'Vikhroli East, Mumbai' 'Shakarpur, Delhi'\n",
      " 'Shahdara, Delhi' 'Govandi, Mumbai' 'Mira Bhayandar, Mumbai'\n",
      " 'Doddanekundi, Bangalore' 'Madhu Vihar, Delhi' 'Guindy, Chennai'\n",
      " 'Palarivattom, Ernakulam' 'Charminar, Hyderabad'\n",
      " 'Old Airport Road, Bangalore' 'Sarjapur Road, Bangalore' 'Okhla, Delhi'\n",
      " 'Baghlingampally, Hyderabad' 'Trombay, Mumbai' 'HRBR Layout, Bangalore'\n",
      " 'Fort, Mumbai' 'Shastri Nagar, Delhi' 'Red Hills, Chennai'\n",
      " 'New BEL Road, Bangalore' 'Park Town, Chennai' 'Frazer Town, Bangalore'\n",
      " 'Falaknuma, Hyderabad' 'Rohini Sector 7, Delhi' 'East Of Kailash, Delhi'\n",
      " 'Chintadripet, Chennai' 'Tagore Garden, Delhi' 'Tri Nagar, Delhi'\n",
      " 'Muttada, Thiruvananthapuram' 'Munnekollal, Bangalore'\n",
      " 'TV Museum, Thiruvananthapuram' 'Shivalik, Delhi' 'Neb Sarai, Delhi'\n",
      " 'Mahalakshmi Layout, Bangalore' 'Mankhurd, Mumbai' 'Kamla Nagar, Delhi'\n",
      " 'Saravanampatti, Coimbatore' 'Selaiyur, Chennai' 'Saligramam, Chennai'\n",
      " 'Thirumullaivoyal, Chennai' 'Teynampet, Chennai' 'Kochi, Ernakulam'\n",
      " 'Vidyaranyapura, Bangalore' 'Mogappair, Chennai' 'Mazgaon, Mumbai'\n",
      " 'Shivaji Nagar, Bangalore' 'Jangpura, Delhi'\n",
      " 'Kaudiar Square, Thiruvananthapuram' 'Arumbakkam, Chennai'\n",
      " 'Cherai, Ernakulam' 'Mira-Bhayandar Road, Mumbai' 'Ram Nagar, Delhi'\n",
      " 'Parel, Mumbai' 'Thanisandra, Bangalore' 'Pragathi Nagar, Hyderabad'\n",
      " 'Karamana, Thiruvananthapuram' 'AECS Layout, Bangalore'\n",
      " 'Nizamuddin East, Delhi' 'Ramanathapuram, Coimbatore'\n",
      " 'Anna Nagar, Chennai' 'Shenoy Nagar, Chennai' 'Siddhapudur, Coimbatore'\n",
      " 'Keshav Puram, Delhi' 'Edakochi, Ernakulam' 'Nagawara, Bangalore'\n",
      " 'Chintal, Hyderabad' 'Malviya Nagar, Delhi' 'Karwan, Hyderabad'\n",
      " 'Vazhakulam, Ernakulam' 'PMG Jn, Thiruvananthapuram'\n",
      " 'Dwarka Sector 6, Delhi' 'Viveknagar, Bangalore' 'Balapur, Hyderabad'\n",
      " 'Banashankari 2nd Stage, Bangalore' 'Azadpur, Delhi' 'Moti Nagar, Delhi'\n",
      " 'Sakinaka, Mumbai' 'Thoppumpady, Ernakulam' 'Sanath Nagar, Hyderabad'\n",
      " 'Royapettah, Chennai' 'Koramangala 5 Block, Bangalore'\n",
      " 'Kanjurmarg, Mumbai' 'Ernakulam College, Ernakulam' 'Urapakkam, Chennai'\n",
      " 'Coimbatore Ukkadam, Coimbatore' 'Sreekaryam, Thiruvananthapuram'\n",
      " 'Ernakulam North, Ernakulam' 'Sultanpur, Delhi' 'Banerji Road, Ernakulam'\n",
      " 'Balkampet, Hyderabad' 'Kavundampalayam, Coimbatore'\n",
      " 'Kanchanbagh, Hyderabad' 'Patel Nagar, Delhi' 'Kilokri, Delhi'\n",
      " 'Hoodi, Bangalore' 'New Seemapuri, Delhi' 'Seshadripuram, Bangalore'\n",
      " 'Vijaynagar, Delhi' 'Bowenpally, Hyderabad' 'Ondipudur, Coimbatore'\n",
      " 'Triplicane, Chennai' 'Richmond Town, Bangalore'\n",
      " 'New Rajendra Nagar, Delhi' 'Jahangirpuri, Delhi' 'Vivek Vihar, Delhi'\n",
      " 'Malleshpalya, Bangalore' 'Pezhakkappilly, Ernakulam'\n",
      " 'Lingampally, Hyderabad' 'Jamia Nagar, Delhi' 'Begum Bazar, Hyderabad'\n",
      " 'Lower Parel, Mumbai' 'ECR Road, Chennai' 'Nangloi, Delhi'\n",
      " 'Chintalmet, Hyderabad' 'West Of Chord Road, Bangalore' 'SV Road, Mumbai'\n",
      " 'JP Nagar 5 Phase, Bangalore' 'Sanjay Nagar, Bangalore'\n",
      " 'Panampilly Nagar, Ernakulam' 'Dharavi, Mumbai' 'Abbigere, Bangalore'\n",
      " 'Manacaud, Thiruvananthapuram' 'Poonamalle, Chennai' 'Najafgarh, Delhi'\n",
      " 'Uttarahalli, Bangalore' 'Sembakkam, Chennai' 'Tarnaka, Hyderabad'\n",
      " 'Nandanam, Chennai' 'Saidapet, Chennai' 'Choolaimedu, Chennai'\n",
      " 'Perungalathur, Chennai' 'Gulabi Bagh, Delhi' 'Jasola, Delhi'\n",
      " 'JP Nagar 3 Phase, Bangalore' 'Uppilipalayam, Coimbatore'\n",
      " 'Sadashivanagar, Bangalore' 'Rohini Sector 24, Delhi'\n",
      " 'Muvattupuzha, Ernakulam' 'Khan Market, Delhi' 'Abids, Hyderabad'\n",
      " 'Geeta Colony, Delhi' 'Madandapuram, Chennai' 'Dwarka Sector 22, Delhi'\n",
      " 'Grant Road, Mumbai' 'Jeedimetla, Hyderabad' 'Tambaram East, Chennai'\n",
      " 'Kothaguda, Hyderabad' 'Hauz Khas, Delhi' 'Habsiguda, Hyderabad'\n",
      " 'Breach Candy, Mumbai' 'Vidyanagar, Bangalore' 'Begur, Bangalore'\n",
      " 'Dahisar, Mumbai' 'Pachalam, Ernakulam' 'Perumbavoor, Ernakulam'\n",
      " 'Avadi, Chennai' 'Coimbatore Central, Coimbatore' 'Lokhandwala, Mumbai'\n",
      " 'Tiruvottiyur, Chennai' 'Ullal Upanagara, Bangalore'\n",
      " 'Perurkada, Thiruvananthapuram' 'Ashok Vihar Phase 3, Delhi'\n",
      " 'Walkeshwar, Mumbai' 'Saidabad, Hyderabad'\n",
      " 'Koramangala 6 Block, Bangalore' 'New Ashok Nagar, Delhi'\n",
      " 'Peddar Road, Mumbai' 'Aya Nagar, Delhi' 'JP Nagar, Bangalore'\n",
      " 'Sasthamangalam, Thiruvananthapuram' 'Yakutpura, Hyderabad'\n",
      " 'Sampangiramnagar, Bangalore' 'Kasturi nagar, Bangalore'\n",
      " 'Pallavaram, Chennai' 'Moti Bagh, Delhi' 'Mukherjee Nagar, Delhi'\n",
      " 'Byculla, Mumbai' 'Peeragarhi, Delhi' 'Amberpet, Hyderabad'\n",
      " 'JP Nagar 6 Phase, Bangalore' 'Sholinganallur, Chennai'\n",
      " 'Langford Road, Bangalore' 'Cumballa Hill, Mumbai' 'Colaba, Mumbai'\n",
      " 'Qutab Institutional Area, Delhi' 'Dommasandra, Bangalore'\n",
      " 'Malabar Hill, Mumbai' 'Koramangala 8 Block, Bangalore'\n",
      " 'Rohini Sector 22, Delhi' 'Lothkunta, Hyderabad'\n",
      " 'HAL 2nd Stage, Bangalore' 'Jayanagar 7 Block, Bangalore'\n",
      " 'Vadasserikonam, Thiruvananthapuram' 'East Marredpally, Hyderabad'\n",
      " 'Kelambakkam, Chennai' 'Chinchpokli, Mumbai' 'Delhi Cantt, Delhi'\n",
      " 'Padmanabhanagar, Bangalore' 'Sheikh Sarai, Delhi'\n",
      " 'Washermenpet, Chennai' 'Konanakunte, Bangalore'\n",
      " 'Ashok Vihar Phase 1, Delhi' 'Thirumala, Thiruvananthapuram'\n",
      " 'Sarjapura, Bangalore' 'JP Nagar 1 Phase, Bangalore' 'JB Nagar, Mumbai'\n",
      " 'Paruthippara, Thiruvananthapuram' 'Vikhroli, Mumbai'\n",
      " 'JP Nagar 8 Phase, Bangalore' 'GTB Nagar, Delhi' 'Vidyanagar, Hyderabad'\n",
      " 'Masab Tank, Hyderabad' 'Hafeezpet, Hyderabad' 'Jeevan Park, Delhi'\n",
      " 'Dwarka Sector 5, Delhi' 'Civil Lines, Delhi' 'Anand Niketan, Delhi'\n",
      " 'Pappanaickenpalayam, Coimbatore' 'Koovappady, Ernakulam'\n",
      " 'Dwarka, Sector 5, Delhi' 'Srirampuram, Bangalore' 'Korattur, Chennai'\n",
      " 'Pappanaickenpudur, Coimbatore' 'Gandhi Nagar, Delhi'\n",
      " 'Vignan Nagar, Bangalore' 'Ganganagar, Bangalore' 'Elamakkara, Ernakulam'\n",
      " 'Boduppal, Hyderabad' 'Tilak Nagar, Mumbai' 'Khetwadi, Mumbai'\n",
      " 'Kengeri, Bangalore' 'Sion East, Mumbai' 'Rohini Sector 6, Delhi'\n",
      " 'Kazhakuttam, Thiruvananthapuram' 'Goregaon, Mumbai'\n",
      " 'Peroor, Thiruvananthapuram' 'New Thippasandra, Bangalore'\n",
      " 'Jalahalli, Bangalore' 'King Koti, Hyderabad'\n",
      " 'Kallambalam, Thiruvananthapuram' 'Dwarka Sector 13, Delhi'\n",
      " 'Residency Road, Bangalore' 'Radhakrishnan Salai, Chennai'\n",
      " 'Hulimavu, Bangalore' 'Dasarahalli, Bangalore' 'Vileparle, Mumbai'\n",
      " 'Delhi, Delhi' 'Kachiguda, Hyderabad' 'Venkitapuram, Coimbatore'\n",
      " 'Kuniamuthur, Coimbatore' 'TV Chalai, Thiruvananthapuram'\n",
      " 'Serilingampally, Hyderabad' 'RMV 2nd Stage, Bangalore'\n",
      " 'Champapet, Hyderabad' 'Surya Niketan, Delhi' 'Kovilpalayam, Coimbatore'\n",
      " 'Nampally, Hyderabad' 'Siddapura, Bangalore' 'Neredmet, Hyderabad'\n",
      " 'Vellakinar, Coimbatore' 'Egmore, Chennai' 'Katwaria Sarai, Delhi'\n",
      " 'Navalur, Chennai' 'Mehrauli, Delhi' 'HBR Layout, Bangalore'\n",
      " 'Subhash Nagar, Delhi' 'Mallepally, Hyderabad' 'Eroor South, Ernakulam'\n",
      " 'Lajpat Nagar III, Delhi' 'Kodungaiyur, Chennai'\n",
      " 'Kuppakonanpudur, Coimbatore' 'Paradise, Hyderabad'\n",
      " 'Rohini Sector 4, Delhi' 'Koramangala 4 Block, Bangalore'\n",
      " 'Dwarka Sector 3, Delhi' 'Durga Puri, Delhi' 'Kalamassery, Ernakulam'\n",
      " 'Gulmohar Park, Delhi' 'Adugodi, Bangalore' 'Moti Nagar, Hyderabad'\n",
      " 'Nallagandla, Hyderabad' 'Gowrivakkam, Chennai' 'Periyar Nagar, Chennai'\n",
      " 'Austin Town, Bangalore' 'Afzalgunj, Hyderabad'\n",
      " 'Cotton Hill, Thiruvananthapuram' 'Goldwins, Coimbatore'\n",
      " 'Kuravankonam, Thiruvananthapuram' 'Rohini Sector 3, Delhi'\n",
      " 'Lado Sarai, Delhi' 'Koramangala 2 Block, Bangalore' 'Madangir, Delhi'\n",
      " 'Marine Drive, Mumbai' 'Marine Drive, Ernakulam' 'Angamaly, Ernakulam'\n",
      " 'Neelankarai, Chennai' 'Churchgate, Mumbai' 'Kalapatti, Coimbatore'\n",
      " 'Nand Nagri, Delhi' 'Kandivali, Mumbai' 'Madanpura, Mumbai'\n",
      " 'Hegde Nagar, Bangalore' 'Domalguda, Hyderabad' 'Mumbai Central, Mumbai'\n",
      " 'Vasanthnagar, Bangalore' 'Kapashera, Delhi' 'August Kranti Marg, Delhi'\n",
      " 'Krishna Nagar, Hyderabad' 'Lal baug, Mumbai'\n",
      " 'Perumathura, Thiruvananthapuram' 'Molarband, Delhi' 'Piravom, Ernakulam'\n",
      " 'Neeti Bagh, Delhi' 'Kishanbagh, Hyderabad' 'Shantinagar, Bangalore'\n",
      " 'Poojapura, Thiruvananthapuram' 'Rathinapuri, Coimbatore'\n",
      " 'Model Town 1, Delhi' 'Koothattukulam, Ernakulam' 'Anand Lok, Delhi'\n",
      " 'Pappanaickenpalayam West, Coimbatore' 'Subzi Mandi, Delhi'\n",
      " 'Sion, Mumbai' 'Nagole, Hyderabad' 'TVM Pettah, Thiruvananthapuram'\n",
      " 'Changampuzha Nagar, Ernakulam' 'Puzhal, Chennai'\n",
      " 'Vanchiyur, Thiruvananthapuram' 'Sukh Vihar, Delhi'\n",
      " 'Kovalam, Thiruvananthapuram' 'Swasthya Vihar, Delhi' 'Tardeo, Mumbai'\n",
      " 'Vishnu Garden, Delhi' 'Jayanagar 1 Block, Bangalore'\n",
      " 'Sion Koliwada, Mumbai' 'Marol, Mumbai' 'Kalkere, Bangalore'\n",
      " 'Sindhi Colony, Hyderabad' 'Silampur, Delhi' 'Varthur, Bangalore'\n",
      " 'Model Town 2, Delhi' 'Surajmal Vihar, Delhi' 'Chandni Chowk, Delhi'\n",
      " 'Veerakeralam, Coimbatore' 'T Dasarahalli, Bangalore'\n",
      " 'Kaggalipura, Bangalore' 'Thonnakkal, Thiruvananthapuram'\n",
      " 'Manjapra, Ernakulam' 'Yellareddyguda, Hyderabad'\n",
      " 'Kovilambakkam, Chennai' 'Broadway, Chennai' 'Podanur, Coimbatore'\n",
      " 'Kompally, Hyderabad' 'Kottivakkam, Chennai' 'Mansarover Garden, Delhi'\n",
      " 'Mandapeshwar, Mumbai' 'Rohini Sector 15, Delhi' 'Vaduthala, Ernakulam'\n",
      " 'Hebbal Kempapura, Bangalore' 'Sithalapakkam, Chennai'\n",
      " 'MKB Nagar, Chennai' 'MG Road, Hyderabad' 'Darya Ganj, Delhi'\n",
      " 'Venjaramoodu, Thiruvananthapuram' 'Kotturpuram, Chennai'\n",
      " 'Ramapuram, Chennai' 'Karmanghat, Hyderabad' 'Moula Ali, Hyderabad'\n",
      " 'Netaji Nagar, Delhi' 'Chandra Layout, Bangalore'\n",
      " 'Akshaya nagar, Bangalore' 'Nirman Vihar, Delhi' 'Vasant Enclave, Delhi'\n",
      " 'St Thomas Mount, Chennai' 'Royapuram, Chennai' 'Abhiramapuram, Chennai'\n",
      " 'Inder Puri, Delhi' 'Edayarpalayam, Coimbatore' 'Deoli, Delhi'\n",
      " 'Mulanthuruthy, Ernakulam' 'Sukhdev Vihar, Delhi' 'e'\n",
      " 'Kothamangalam, Ernakulam' 'Harlur, Bangalore' 'Bolarum, Hyderabad'\n",
      " 'Richards Town, Bangalore' 'Narela, Delhi' 'Nehru Place, Delhi'\n",
      " 'Ramanthapur, Hyderabad' 'Bali Nagar, Delhi' 'Palavakkam, Chennai'\n",
      " 'Balanagar, Hyderabad' 'Hyderguda, Hyderabad' 'Cherannagar, Coimbatore'\n",
      " 'Rohini Sector 11, Delhi' 'Dwarka Sector 4, Delhi'\n",
      " 'Palluruthy, Ernakulam' 'Vizhinjam, Thiruvananthapuram'\n",
      " 'Santacruz, Mumbai' 'Ganesh Nagar, Delhi' 'Vengal Rao Nagar, Hyderabad'\n",
      " 'Deonar, Mumbai' 'Edapally North, Ernakulam' 'Red Hills, Hyderabad'\n",
      " 'IDA Jeedimetla, Hyderabad' 'Mettupalayam, Coimbatore'\n",
      " 'Hayathnagar, Hyderabad' 'Kakkanad West, Ernakulam'\n",
      " 'Khajaguda, Hyderabad' 'Rohini Sector 5, Delhi' 'Saraswati Vihar, Delhi'\n",
      " 'Kingsway Camp, Delhi' 'Ramamangalam, Ernakulam' 'Indirapuram, Delhi'\n",
      " 'Parassala, Thiruvananthapuram' 'Connaught Place, Delhi'\n",
      " 'Gottigerre, Bangalore' 'Shivrampally, Hyderabad' 'Vyasarpadi, Chennai'\n",
      " 'Kovaipudur, Coimbatore' 'Vallakkadavoo, Thiruvananthapuram'\n",
      " 'Kattupakkam, Chennai' 'Nellimoodu, Thiruvananthapuram'\n",
      " 'Pondy Bazaar, Chennai' 'Prashant Vihar, Delhi' 'Chullickal, Ernakulam'\n",
      " 'Murugeshpalya, Bangalore' 'Khanpur, Delhi' 'Madiwala, Bangalore'\n",
      " 'Dwarka Sector 23, Delhi' 'Badarpur, Delhi' 'Peyad, Thiruvananthapuram'\n",
      " 'Gandhi Nagar, Chennai' 'Uday Park, Delhi' 'Bandlaguda, Hyderabad'\n",
      " 'Karukappilli, Ernakulam' 'Rana Pratap Bagh, Delhi'\n",
      " 'Kochi M.G.Road, Ernakulam' 'Gopalapuram, Chennai'\n",
      " 'Puthenvelikkara, Ernakulam' 'Sowcarpet, Chennai' 'Chitlapakkam, Chennai'\n",
      " 'Malumichampatti, Coimbatore' 'Rohini Sector 8, Delhi'\n",
      " 'Rohini Sector 2, Delhi' 'Ram Nagar, Hyderabad' 'Dwarka Sector 10, Delhi'\n",
      " 'Agaram, Chennai' 'Poovachal, Thiruvananthapuram' 'Shanti Niketan, Delhi'\n",
      " 'Pothencode, Thiruvananthapuram' 'Dickenson Road, Bangalore'\n",
      " 'RTC X Road, Hyderabad' 'Film Nagar, Hyderabad' 'Lodhi Colony, Delhi'\n",
      " 'SG Palya (Kormangla), Bangalore' 'Palkulangara, Thiruvananthapuram'\n",
      " 'Mahalingapuram, Chennai' 'Matunga West, Mumbai' 'Nettoor, Ernakulam'\n",
      " 'Rani Khera, Delhi' 'Beeramguda, Hyderabad' 'Ramachandrapuram, Hyderabad'\n",
      " 'Neyyattinkara Town, Thiruvananthapuram' 'Gorai, Mumbai'\n",
      " 'Jayanagar 3 Block, Bangalore' 'Shakti Nagar, Delhi'\n",
      " 'Sangam Vihar, Delhi' 'Shakurpur, Delhi' 'Chaitanyapuri, Hyderabad'\n",
      " 'TVM Fort, Thiruvananthapuram' 'JP Nagar 4 Phase, Bangalore'\n",
      " 'Nayandahalli, Bangalore' 'Valiathura, Thiruvananthapuram'\n",
      " 'Kowdiar, Thiruvananthapuram' 'Cunningham Road, Bangalore'\n",
      " 'Hennur, Bangalore' 'Peenya, Bangalore' 'Pattimattam, Ernakulam'\n",
      " 'HAL, Bangalore']\n",
      "HSR Layout, Bangalore                100\n",
      "Andheri West, Mumbai                  70\n",
      "Dwarka, Delhi                         67\n",
      "Banjara Hills, Hyderabad              64\n",
      "Mulund West, Mumbai                   54\n",
      "                                    ... \n",
      "Nampally, Hyderabad                    1\n",
      "Balaramapuram, Thiruvananthapuram      1\n",
      "Pothencode, Thiruvananthapuram         1\n",
      "Coimbatore Aerodrome, Coimbatore       1\n",
      "Neredmet, Hyderabad                    1\n",
      "Name: Place, Length: 877, dtype: int64\n",
      "__________________________________________________\n",
      "\n",
      "\n",
      "Profile:['Homeopath' 'Ayurveda' 'ENT Specialist' 'Dentist' 'General Medicine'\n",
      " 'Dermatologists']\n",
      "Dentist             1397\n",
      "General Medicine    1173\n",
      "Dermatologists      1034\n",
      "Homeopath            843\n",
      "Ayurveda             786\n",
      "ENT Specialist       728\n",
      "Name: Profile, dtype: int64\n",
      "__________________________________________________\n",
      "\n",
      "\n",
      "Miscellaneous_Info:['100% 16 Feedback Kakkanad, Ernakulam'\n",
      " '98% 76 Feedback Whitefield, Bangalore'\n",
      " 'Acrylic Partial Denture Crowns and Bridges Fixing Artificial Teeth' ...\n",
      " '98% 45 Feedback Basavanagudi, Bangalore'\n",
      " '97% 11 Feedback Greater Kailash Part 2, Delhi'\n",
      " 'General Medical Consultation Viral Fever Treatment Infectious Disease Treatment']\n",
      "Acrylic Partial Denture Crowns and Bridges Fixing Artificial Teeth                      2660\n",
      "Tooth Extraction Dental Fillings Scaling / Polishing                                      12\n",
      "Dental Fillings Zirconia Crowns Dental Implant Fixing                                     12\n",
      "Skin Disease Treatment Kidney Stone Treatment Gall Bladder (Biliary) Stone Treatment       9\n",
      "Skin Allergy Treatment Skin Allergies Dermabrasion                                         9\n",
      "                                                                                        ... \n",
      "100% 15 Feedback Suchitra Circle, Hyderabad                                                1\n",
      "33% 13 Feedback Janak Puri, Delhi                                                          1\n",
      "Dermatosurgery Dermaroller for scars Chemical Peels                                        1\n",
      "Dental Examinations Dental Fillings Dental Services                                        1\n",
      "98% 43 Feedback HSR Layout, Bangalore                                                      1\n",
      "Name: Miscellaneous_Info, Length: 2998, dtype: int64\n",
      "__________________________________________________\n",
      "\n",
      "\n"
     ]
    }
   ],
   "source": [
    "for column in df.columns:\n",
    "    if df[column].dtypes==object:\n",
    "        print(str(column)+ ':' +str(df[column].unique()))\n",
    "        print(df[column].value_counts())\n",
    "        print('__________________________________________________')\n",
    "        print('\\n')"
   ]
  },
  {
   "cell_type": "code",
   "execution_count": 21,
   "metadata": {},
   "outputs": [
    {
     "data": {
      "text/html": [
       "<div>\n",
       "<style scoped>\n",
       "    .dataframe tbody tr th:only-of-type {\n",
       "        vertical-align: middle;\n",
       "    }\n",
       "\n",
       "    .dataframe tbody tr th {\n",
       "        vertical-align: top;\n",
       "    }\n",
       "\n",
       "    .dataframe thead th {\n",
       "        text-align: right;\n",
       "    }\n",
       "</style>\n",
       "<table border=\"1\" class=\"dataframe\">\n",
       "  <thead>\n",
       "    <tr style=\"text-align: right;\">\n",
       "      <th></th>\n",
       "      <th>Fees</th>\n",
       "    </tr>\n",
       "  </thead>\n",
       "  <tbody>\n",
       "    <tr>\n",
       "      <th>count</th>\n",
       "      <td>5961.000000</td>\n",
       "    </tr>\n",
       "    <tr>\n",
       "      <th>mean</th>\n",
       "      <td>307.944640</td>\n",
       "    </tr>\n",
       "    <tr>\n",
       "      <th>std</th>\n",
       "      <td>190.920373</td>\n",
       "    </tr>\n",
       "    <tr>\n",
       "      <th>min</th>\n",
       "      <td>5.000000</td>\n",
       "    </tr>\n",
       "    <tr>\n",
       "      <th>25%</th>\n",
       "      <td>150.000000</td>\n",
       "    </tr>\n",
       "    <tr>\n",
       "      <th>50%</th>\n",
       "      <td>300.000000</td>\n",
       "    </tr>\n",
       "    <tr>\n",
       "      <th>75%</th>\n",
       "      <td>500.000000</td>\n",
       "    </tr>\n",
       "    <tr>\n",
       "      <th>max</th>\n",
       "      <td>950.000000</td>\n",
       "    </tr>\n",
       "  </tbody>\n",
       "</table>\n",
       "</div>"
      ],
      "text/plain": [
       "              Fees\n",
       "count  5961.000000\n",
       "mean    307.944640\n",
       "std     190.920373\n",
       "min       5.000000\n",
       "25%     150.000000\n",
       "50%     300.000000\n",
       "75%     500.000000\n",
       "max     950.000000"
      ]
     },
     "execution_count": 21,
     "metadata": {},
     "output_type": "execute_result"
    }
   ],
   "source": [
    "df.describe()"
   ]
  },
  {
   "cell_type": "markdown",
   "metadata": {},
   "source": [
    "all other columns are in object format we have convert it into integer form to make some analysis."
   ]
  },
  {
   "cell_type": "markdown",
   "metadata": {},
   "source": [
    "# data Analysis."
   ]
  },
  {
   "cell_type": "code",
   "execution_count": 22,
   "metadata": {},
   "outputs": [
    {
     "name": "stdout",
     "output_type": "stream",
     "text": [
      "\n",
      "\n",
      "100    1306\n",
      "500     938\n",
      "200     904\n",
      "300     864\n",
      "400     424\n",
      "250     307\n",
      "150     253\n",
      "600     215\n",
      "700     153\n",
      "800     143\n",
      "350     143\n",
      "50       81\n",
      "450      65\n",
      "750      34\n",
      "550      22\n",
      "650      21\n",
      "900      18\n",
      "70       18\n",
      "80       12\n",
      "60       11\n",
      "30        4\n",
      "10        2\n",
      "260       2\n",
      "130       2\n",
      "180       2\n",
      "40        2\n",
      "380       2\n",
      "220       1\n",
      "280       1\n",
      "499       1\n",
      "5         1\n",
      "920       1\n",
      "299       1\n",
      "125       1\n",
      "230       1\n",
      "430       1\n",
      "630       1\n",
      "850       1\n",
      "950       1\n",
      "20        1\n",
      "Name: Fees, dtype: int64\n"
     ]
    },
    {
     "data": {
      "image/png": "[encoded data removed]",
      "text/plain": [
       "<Figure size 936x432 with 1 Axes>"
      ]
     },
     "metadata": {
      "needs_background": "light"
     },
     "output_type": "display_data"
    }
   ],
   "source": [
    "plt.figure(figsize=(13,6))\n",
    "sns.countplot(x='Fees',data=df)\n",
    "plt.xticks(rotation=30)\n",
    "plt.title('fees of doctors',size=18)\n",
    "print('\\n')\n",
    "print(df['Fees'].value_counts())"
   ]
  },
  {
   "cell_type": "markdown",
   "metadata": {},
   "source": [
    "most doctors are having a standard fees of 100."
   ]
  },
  {
   "cell_type": "code",
   "execution_count": 23,
   "metadata": {},
   "outputs": [
    {
     "name": "stdout",
     "output_type": "stream",
     "text": [
      "\n",
      "\n",
      "Dentist             1397\n",
      "General Medicine    1173\n",
      "Dermatologists      1034\n",
      "Homeopath            843\n",
      "Ayurveda             786\n",
      "ENT Specialist       728\n",
      "Name: Profile, dtype: int64\n"
     ]
    },
    {
     "data": {
      "image/png": "[encoded data removed]",
      "text/plain": [
       "<Figure size 936x432 with 1 Axes>"
      ]
     },
     "metadata": {
      "needs_background": "light"
     },
     "output_type": "display_data"
    }
   ],
   "source": [
    "plt.figure(figsize=(13,6))\n",
    "sns.countplot(x='Profile',data=df)\n",
    "plt.xticks(rotation=30)\n",
    "plt.title('Profiles of doctors',size=18)\n",
    "print('\\n')\n",
    "print(df['Profile'].value_counts())"
   ]
  },
  {
   "cell_type": "markdown",
   "metadata": {},
   "source": [
    "most doctors are dentists."
   ]
  },
  {
   "cell_type": "code",
   "execution_count": 24,
   "metadata": {},
   "outputs": [
    {
     "name": "stdout",
     "output_type": "stream",
     "text": [
      "\n",
      "\n",
      "100%    3986\n",
      "98%      290\n",
      "99%      259\n",
      "97%      241\n",
      "96%      220\n",
      "95%      178\n",
      "94%      115\n",
      "93%      109\n",
      "92%       66\n",
      "90%       66\n",
      "91%       60\n",
      "89%       42\n",
      "88%       41\n",
      "85%       27\n",
      "82%       23\n",
      "83%       21\n",
      "86%       21\n",
      "80%       19\n",
      "77%       16\n",
      "87%       14\n",
      "84%       13\n",
      "79%       13\n",
      "67%       12\n",
      "81%       12\n",
      "76%        9\n",
      "71%        9\n",
      "73%        8\n",
      "75%        8\n",
      "60%        7\n",
      "74%        7\n",
      "78%        6\n",
      "56%        5\n",
      "68%        5\n",
      "70%        4\n",
      "69%        4\n",
      "57%        3\n",
      "72%        3\n",
      "63%        2\n",
      "62%        2\n",
      "55%        2\n",
      "64%        2\n",
      "33%        2\n",
      "53%        1\n",
      "47%        1\n",
      "36%        1\n",
      "45%        1\n",
      "7%         1\n",
      "58%        1\n",
      "65%        1\n",
      "40%        1\n",
      "48%        1\n",
      "Name: Rating, dtype: int64\n"
     ]
    },
    {
     "data": {
      "image/png": "[encoded data removed]",
      "text/plain": [
       "<Figure size 1224x432 with 1 Axes>"
      ]
     },
     "metadata": {
      "needs_background": "light"
     },
     "output_type": "display_data"
    }
   ],
   "source": [
    "plt.figure(figsize=(17,6))\n",
    "sns.countplot(x='Rating',data=df)\n",
    "plt.xticks(rotation=30)\n",
    "plt.title('ratings of doctors',size=18)\n",
    "print('\\n')\n",
    "print(df['Rating'].value_counts())"
   ]
  },
  {
   "cell_type": "markdown",
   "metadata": {},
   "source": [
    "most of the doctors are having 100% ratings"
   ]
  },
  {
   "cell_type": "code",
   "execution_count": 25,
   "metadata": {},
   "outputs": [
    {
     "name": "stdout",
     "output_type": "stream",
     "text": [
      "\n",
      "\n",
      "9 years experience     323\n",
      "10 years experience    294\n",
      "11 years experience    288\n",
      "8 years experience     282\n",
      "12 years experience    279\n",
      "                      ... \n",
      "61 years experience      1\n",
      "64 years experience      1\n",
      "58 years experience      1\n",
      "60 years experience      1\n",
      "66 years experience      1\n",
      "Name: Experience, Length: 64, dtype: int64\n"
     ]
    },
    {
     "data": {
      "image/png": "[encoded data removed]",
      "text/plain": [
       "<Figure size 1440x432 with 1 Axes>"
      ]
     },
     "metadata": {
      "needs_background": "light"
     },
     "output_type": "display_data"
    }
   ],
   "source": [
    "plt.figure(figsize=(20,6))\n",
    "sns.countplot(x='Experience',data=df)\n",
    "plt.xticks(rotation=30)\n",
    "plt.title('Experiences of doctors',size=18)\n",
    "print('\\n')\n",
    "print(df['Experience'].value_counts())"
   ]
  },
  {
   "cell_type": "markdown",
   "metadata": {},
   "source": [
    "most of the doctors are having 9 years of experience."
   ]
  },
  {
   "cell_type": "markdown",
   "metadata": {},
   "source": [
    "# bivirate analysis."
   ]
  },
  {
   "cell_type": "code",
   "execution_count": 26,
   "metadata": {},
   "outputs": [
    {
     "name": "stdout",
     "output_type": "stream",
     "text": [
      "\n",
      "\n",
      "Experience          Fees\n",
      "0 years experience  100     47\n",
      "                    200     13\n",
      "                    500      6\n",
      "                    400      5\n",
      "                    150      3\n",
      "                            ..\n",
      "9 years experience  550      2\n",
      "                    650      2\n",
      "                    30       1\n",
      "                    60       1\n",
      "                    750      1\n",
      "Name: Fees, Length: 712, dtype: int64\n"
     ]
    },
    {
     "data": {
      "image/png": "[encoded data removed]",
      "text/plain": [
       "<Figure size 1944x720 with 1 Axes>"
      ]
     },
     "metadata": {
      "needs_background": "light"
     },
     "output_type": "display_data"
    }
   ],
   "source": [
    "plt.figure(figsize=(27,10))\n",
    "sns.countplot(x='Experience',hue='Fees',data=df)\n",
    "plt.xticks(rotation=30)\n",
    "plt.title('Experiences of doctors vs their fees',size=18)\n",
    "print('\\n')\n",
    "print(df.groupby('Experience')['Fees'].value_counts())"
   ]
  },
  {
   "cell_type": "code",
   "execution_count": 27,
   "metadata": {},
   "outputs": [
    {
     "name": "stdout",
     "output_type": "stream",
     "text": [
      "\n",
      "\n",
      "Profile    Fees\n",
      "Ayurveda   100     203\n",
      "           200     126\n",
      "           300     120\n",
      "           500     111\n",
      "           150      57\n",
      "                  ... \n",
      "Homeopath  40        1\n",
      "           130       1\n",
      "           499       1\n",
      "           550       1\n",
      "           920       1\n",
      "Name: Fees, Length: 133, dtype: int64\n"
     ]
    },
    {
     "data": {
      "image/png": "[encoded data removed]",
      "text/plain": [
       "<Figure size 1944x720 with 1 Axes>"
      ]
     },
     "metadata": {
      "needs_background": "light"
     },
     "output_type": "display_data"
    }
   ],
   "source": [
    "plt.figure(figsize=(27,10))\n",
    "sns.countplot(x='Profile',hue='Fees',data=df)\n",
    "plt.xticks(rotation=30)\n",
    "plt.title('Profile of doctors vs their fees',size=18)\n",
    "print('\\n')\n",
    "print(df.groupby('Profile')['Fees'].value_counts())"
   ]
  },
  {
   "cell_type": "markdown",
   "metadata": {},
   "source": [
    "dentist doctors are having more fees than others."
   ]
  },
  {
   "cell_type": "code",
   "execution_count": 28,
   "metadata": {},
   "outputs": [
    {
     "name": "stdout",
     "output_type": "stream",
     "text": [
      "\n",
      "\n",
      "Rating  Fees\n",
      "100%    100     959\n",
      "        200     648\n",
      "        300     569\n",
      "        500     558\n",
      "        250     233\n",
      "               ... \n",
      "99%     150       5\n",
      "        350       5\n",
      "        800       5\n",
      "        750       3\n",
      "        450       1\n",
      "Name: Fees, Length: 371, dtype: int64\n"
     ]
    },
    {
     "data": {
      "image/png": "[encoded data removed]",
      "text/plain": [
       "<Figure size 1944x720 with 1 Axes>"
      ]
     },
     "metadata": {
      "needs_background": "light"
     },
     "output_type": "display_data"
    }
   ],
   "source": [
    "plt.figure(figsize=(27,10))\n",
    "sns.countplot(x='Rating',hue='Fees',data=df)\n",
    "plt.xticks(rotation=30)\n",
    "plt.title('Ratings of doctors vs their fees',size=18)\n",
    "print('\\n')\n",
    "print(df.groupby('Rating')['Fees'].value_counts())"
   ]
  },
  {
   "cell_type": "markdown",
   "metadata": {},
   "source": [
    "# changing the values:"
   ]
  },
  {
   "cell_type": "code",
   "execution_count": 29,
   "metadata": {},
   "outputs": [],
   "source": [
    "le=LabelEncoder()"
   ]
  },
  {
   "cell_type": "code",
   "execution_count": 30,
   "metadata": {},
   "outputs": [],
   "source": [
    "df['Qualification']=le.fit_transform(df['Qualification'])"
   ]
  },
  {
   "cell_type": "code",
   "execution_count": 31,
   "metadata": {},
   "outputs": [],
   "source": [
    "df['Experience']=le.fit_transform(df['Experience'])"
   ]
  },
  {
   "cell_type": "code",
   "execution_count": 32,
   "metadata": {},
   "outputs": [],
   "source": [
    "df['Rating']=le.fit_transform(df['Rating'])"
   ]
  },
  {
   "cell_type": "code",
   "execution_count": 33,
   "metadata": {},
   "outputs": [],
   "source": [
    "df['Place']=le.fit_transform(df['Place'])"
   ]
  },
  {
   "cell_type": "code",
   "execution_count": 34,
   "metadata": {},
   "outputs": [],
   "source": [
    "df['Profile']=le.fit_transform(df['Profile'])"
   ]
  },
  {
   "cell_type": "code",
   "execution_count": 35,
   "metadata": {},
   "outputs": [],
   "source": [
    "df['Miscellaneous_Info']=le.fit_transform(df['Miscellaneous_Info'])"
   ]
  },
  {
   "cell_type": "code",
   "execution_count": null,
   "metadata": {},
   "outputs": [],
   "source": []
  },
  {
   "cell_type": "code",
   "execution_count": 36,
   "metadata": {},
   "outputs": [
    {
     "data": {
      "text/plain": [
       "Qualification         int32\n",
       "Experience            int32\n",
       "Rating                int32\n",
       "Place                 int32\n",
       "Profile               int32\n",
       "Miscellaneous_Info    int32\n",
       "Fees                  int64\n",
       "dtype: object"
      ]
     },
     "execution_count": 36,
     "metadata": {},
     "output_type": "execute_result"
    }
   ],
   "source": [
    "df.dtypes"
   ]
  },
  {
   "cell_type": "markdown",
   "metadata": {},
   "source": [
    "all the values are coverted into numerical."
   ]
  },
  {
   "cell_type": "markdown",
   "metadata": {},
   "source": [
    "# summary stats"
   ]
  },
  {
   "cell_type": "code",
   "execution_count": 37,
   "metadata": {},
   "outputs": [
    {
     "data": {
      "text/html": [
       "<div>\n",
       "<style scoped>\n",
       "    .dataframe tbody tr th:only-of-type {\n",
       "        vertical-align: middle;\n",
       "    }\n",
       "\n",
       "    .dataframe tbody tr th {\n",
       "        vertical-align: top;\n",
       "    }\n",
       "\n",
       "    .dataframe thead th {\n",
       "        text-align: right;\n",
       "    }\n",
       "</style>\n",
       "<table border=\"1\" class=\"dataframe\">\n",
       "  <thead>\n",
       "    <tr style=\"text-align: right;\">\n",
       "      <th></th>\n",
       "      <th>Qualification</th>\n",
       "      <th>Experience</th>\n",
       "      <th>Rating</th>\n",
       "      <th>Place</th>\n",
       "      <th>Profile</th>\n",
       "      <th>Miscellaneous_Info</th>\n",
       "      <th>Fees</th>\n",
       "    </tr>\n",
       "  </thead>\n",
       "  <tbody>\n",
       "    <tr>\n",
       "      <th>count</th>\n",
       "      <td>5961.000000</td>\n",
       "      <td>5961.000000</td>\n",
       "      <td>5961.000000</td>\n",
       "      <td>5961.000000</td>\n",
       "      <td>5961.000000</td>\n",
       "      <td>5961.000000</td>\n",
       "      <td>5961.000000</td>\n",
       "    </tr>\n",
       "    <tr>\n",
       "      <th>mean</th>\n",
       "      <td>596.857574</td>\n",
       "      <td>23.010904</td>\n",
       "      <td>14.534139</td>\n",
       "      <td>414.368059</td>\n",
       "      <td>2.441872</td>\n",
       "      <td>1573.343902</td>\n",
       "      <td>307.944640</td>\n",
       "    </tr>\n",
       "    <tr>\n",
       "      <th>std</th>\n",
       "      <td>413.842446</td>\n",
       "      <td>20.937163</td>\n",
       "      <td>21.137633</td>\n",
       "      <td>258.547684</td>\n",
       "      <td>1.658014</td>\n",
       "      <td>640.388185</td>\n",
       "      <td>190.920373</td>\n",
       "    </tr>\n",
       "    <tr>\n",
       "      <th>min</th>\n",
       "      <td>0.000000</td>\n",
       "      <td>0.000000</td>\n",
       "      <td>0.000000</td>\n",
       "      <td>0.000000</td>\n",
       "      <td>0.000000</td>\n",
       "      <td>0.000000</td>\n",
       "      <td>5.000000</td>\n",
       "    </tr>\n",
       "    <tr>\n",
       "      <th>25%</th>\n",
       "      <td>219.000000</td>\n",
       "      <td>6.000000</td>\n",
       "      <td>0.000000</td>\n",
       "      <td>197.000000</td>\n",
       "      <td>1.000000</td>\n",
       "      <td>1477.000000</td>\n",
       "      <td>150.000000</td>\n",
       "    </tr>\n",
       "    <tr>\n",
       "      <th>50%</th>\n",
       "      <td>596.000000</td>\n",
       "      <td>15.000000</td>\n",
       "      <td>0.000000</td>\n",
       "      <td>407.000000</td>\n",
       "      <td>2.000000</td>\n",
       "      <td>1595.000000</td>\n",
       "      <td>300.000000</td>\n",
       "    </tr>\n",
       "    <tr>\n",
       "      <th>75%</th>\n",
       "      <td>943.000000</td>\n",
       "      <td>36.000000</td>\n",
       "      <td>42.000000</td>\n",
       "      <td>628.000000</td>\n",
       "      <td>4.000000</td>\n",
       "      <td>1746.000000</td>\n",
       "      <td>500.000000</td>\n",
       "    </tr>\n",
       "    <tr>\n",
       "      <th>max</th>\n",
       "      <td>1419.000000</td>\n",
       "      <td>63.000000</td>\n",
       "      <td>50.000000</td>\n",
       "      <td>876.000000</td>\n",
       "      <td>5.000000</td>\n",
       "      <td>2997.000000</td>\n",
       "      <td>950.000000</td>\n",
       "    </tr>\n",
       "  </tbody>\n",
       "</table>\n",
       "</div>"
      ],
      "text/plain": [
       "       Qualification   Experience       Rating        Place      Profile  \\\n",
       "count    5961.000000  5961.000000  5961.000000  5961.000000  5961.000000   \n",
       "mean      596.857574    23.010904    14.534139   414.368059     2.441872   \n",
       "std       413.842446    20.937163    21.137633   258.547684     1.658014   \n",
       "min         0.000000     0.000000     0.000000     0.000000     0.000000   \n",
       "25%       219.000000     6.000000     0.000000   197.000000     1.000000   \n",
       "50%       596.000000    15.000000     0.000000   407.000000     2.000000   \n",
       "75%       943.000000    36.000000    42.000000   628.000000     4.000000   \n",
       "max      1419.000000    63.000000    50.000000   876.000000     5.000000   \n",
       "\n",
       "       Miscellaneous_Info         Fees  \n",
       "count         5961.000000  5961.000000  \n",
       "mean          1573.343902   307.944640  \n",
       "std            640.388185   190.920373  \n",
       "min              0.000000     5.000000  \n",
       "25%           1477.000000   150.000000  \n",
       "50%           1595.000000   300.000000  \n",
       "75%           1746.000000   500.000000  \n",
       "max           2997.000000   950.000000  "
      ]
     },
     "execution_count": 37,
     "metadata": {},
     "output_type": "execute_result"
    }
   ],
   "source": [
    "df.describe()"
   ]
  },
  {
   "cell_type": "markdown",
   "metadata": {},
   "source": [
    "observationS:\n",
    "    huge difference in 75% and 100% of data , therefore outliers are present.\n",
    "    data is mostly right side skewed, as mean is greater than median."
   ]
  },
  {
   "cell_type": "code",
   "execution_count": 38,
   "metadata": {},
   "outputs": [
    {
     "data": {
      "text/plain": [
       "Text(0.5, 1.0, 'Correlation with the target variable')"
      ]
     },
     "execution_count": 38,
     "metadata": {},
     "output_type": "execute_result"
    },
    {
     "data": {
      "image/png": "[encoded data removed]",
      "text/plain": [
       "<Figure size 1080x720 with 1 Axes>"
      ]
     },
     "metadata": {
      "needs_background": "light"
     },
     "output_type": "display_data"
    }
   ],
   "source": [
    "plt.figure(figsize=(15,10))\n",
    "df.drop('Fees',axis=1).corrwith(df['Fees']).plot(kind='bar',grid=True)\n",
    "plt.xticks(rotation=30)\n",
    "plt.title('Correlation with the target variable',size=18)"
   ]
  },
  {
   "cell_type": "markdown",
   "metadata": {},
   "source": [
    "observation:\n",
    "    qualification is highly dependent on fees,whether miscellaneous info is negatively independent."
   ]
  },
  {
   "cell_type": "code",
   "execution_count": 39,
   "metadata": {},
   "outputs": [
    {
     "data": {
      "text/plain": [
       "array(['Qualification', 'Experience', 'Rating', 'Place', 'Profile',\n",
       "       'Miscellaneous_Info', 'Fees'], dtype=object)"
      ]
     },
     "execution_count": 39,
     "metadata": {},
     "output_type": "execute_result"
    }
   ],
   "source": [
    "collist=df.columns.values\n",
    "ncol=13\n",
    "nrow=10\n",
    "collist"
   ]
  },
  {
   "cell_type": "code",
   "execution_count": 40,
   "metadata": {},
   "outputs": [
    {
     "data": {
      "image/png": "[encoded data removed]",
      "text/plain": [
       "<Figure size 1152x1152 with 7 Axes>"
      ]
     },
     "metadata": {
      "needs_background": "light"
     },
     "output_type": "display_data"
    }
   ],
   "source": [
    "plt.figure(figsize=(16,16))\n",
    "for i in range(0,len(collist)):\n",
    "    plt.subplot(ncol,nrow,i+1)\n",
    "    sns.boxplot(df[collist[i]],color='blue',orient='v')\n",
    "    plt.tight_layout()"
   ]
  },
  {
   "cell_type": "code",
   "execution_count": 41,
   "metadata": {},
   "outputs": [
    {
     "data": {
      "text/plain": [
       "Qualification         0.239720\n",
       "Experience            0.823531\n",
       "Rating                0.817666\n",
       "Place                 0.124862\n",
       "Profile               0.108803\n",
       "Miscellaneous_Info   -0.218459\n",
       "Fees                  0.751870\n",
       "dtype: float64"
      ]
     },
     "execution_count": 41,
     "metadata": {},
     "output_type": "execute_result"
    }
   ],
   "source": [
    "df.skew()"
   ]
  },
  {
   "cell_type": "markdown",
   "metadata": {},
   "source": [
    "# removing outliers"
   ]
  },
  {
   "cell_type": "code",
   "execution_count": 42,
   "metadata": {},
   "outputs": [],
   "source": [
    "threshold=3\n",
    "df_zscore=df.drop('Fees',axis=1)"
   ]
  },
  {
   "cell_type": "code",
   "execution_count": 43,
   "metadata": {},
   "outputs": [],
   "source": [
    "z=np.abs(zscore(df_zscore))"
   ]
  },
  {
   "cell_type": "code",
   "execution_count": 44,
   "metadata": {},
   "outputs": [
    {
     "data": {
      "text/plain": [
       "(5961, 7)"
      ]
     },
     "execution_count": 44,
     "metadata": {},
     "output_type": "execute_result"
    }
   ],
   "source": [
    "df_new=df[(z<3).all(axis=1)]\n",
    "df_new.shape"
   ]
  },
  {
   "cell_type": "code",
   "execution_count": 45,
   "metadata": {},
   "outputs": [],
   "source": [
    "df=df_new"
   ]
  },
  {
   "cell_type": "code",
   "execution_count": 46,
   "metadata": {},
   "outputs": [],
   "source": [
    "x=df.drop('Fees',axis=1)"
   ]
  },
  {
   "cell_type": "markdown",
   "metadata": {},
   "source": [
    "# scaling of model"
   ]
  },
  {
   "cell_type": "code",
   "execution_count": 47,
   "metadata": {},
   "outputs": [
    {
     "data": {
      "text/plain": [
       "(5961, 6)"
      ]
     },
     "execution_count": 47,
     "metadata": {},
     "output_type": "execute_result"
    }
   ],
   "source": [
    "sc=StandardScaler()\n",
    "x=sc.fit_transform(x)\n",
    "x=pd.DataFrame(x)\n",
    "x.shape"
   ]
  },
  {
   "cell_type": "code",
   "execution_count": 48,
   "metadata": {},
   "outputs": [
    {
     "data": {
      "text/plain": [
       "(5961,)"
      ]
     },
     "execution_count": 48,
     "metadata": {},
     "output_type": "execute_result"
    }
   ],
   "source": [
    "y=df['Fees']\n",
    "y.shape"
   ]
  },
  {
   "cell_type": "markdown",
   "metadata": {},
   "source": [
    "# model training."
   ]
  },
  {
   "cell_type": "code",
   "execution_count": 49,
   "metadata": {},
   "outputs": [],
   "source": [
    "model=[LogisticRegression(),SVC(),KNeighborsClassifier(),DecisionTreeClassifier(),RandomForestClassifier(),AdaBoostClassifier(),GradientBoostingClassifier(),ExtraTreesClassifier()]"
   ]
  },
  {
   "cell_type": "code",
   "execution_count": 50,
   "metadata": {},
   "outputs": [
    {
     "name": "stdout",
     "output_type": "stream",
     "text": [
      "0.2311241610738255\n",
      "the accuracy score of LogisticRegression() is: 0.2347024308466052\n",
      "the confusion matrix of LogisticRegression() is: [[  0   0   0   0  12   0   0   0   0   0   0   0   0   0   0   0   0   0\n",
      "    0   0   0   0   0   0   0]\n",
      " [  0   0   0   0   1   0   0   0   0   0   0   0   0   0   0   0   0   0\n",
      "    0   0   0   0   0   0   0]\n",
      " [  0   0   0   0   3   0   0   0   0   0   0   0   0   0   0   0   0   0\n",
      "    0   0   0   0   0   0   0]\n",
      " [  0   0   0   0   5   0   0   0   0   0   0   0   0   0   0   0   0   0\n",
      "    0   0   0   0   0   0   0]\n",
      " [  0   0   0   0 197   0   0   6   0   0   6   0   0   1   0  42   0   0\n",
      "    0   0   0   0   0   0   0]\n",
      " [  0   0   0   0  40   0   0   4   0   0   1   0   0   0   0   4   0   0\n",
      "    0   0   0   0   0   0   0]\n",
      " [  0   0   0   0   1   0   0   0   0   0   0   0   0   0   0   0   0   0\n",
      "    0   0   0   0   0   0   0]\n",
      " [  0   0   0   0 147   0   0  19   0   0   2   0   0   0   0  17   0   0\n",
      "    0   0   0   0   0   0   0]\n",
      " [  0   0   0   0   0   0   0   0   0   0   1   0   0   0   0   0   0   0\n",
      "    0   0   0   0   0   0   0]\n",
      " [  0   0   0   0  55   0   0   1   0   0   0   0   0   0   0  10   0   0\n",
      "    0   0   0   0   0   0   0]\n",
      " [  0   0   0   0 130   0   0   5   0   0   4   0   0   1   0  33   0   0\n",
      "    0   0   0   0   0   0   0]\n",
      " [  0   0   0   0  18   0   0   0   0   0   1   0   0   0   0   8   0   0\n",
      "    0   0   0   0   0   0   0]\n",
      " [  0   0   0   0   0   0   0   0   0   0   1   0   0   0   0   0   0   0\n",
      "    0   0   0   0   0   0   0]\n",
      " [  0   0   0   0  52   0   0   3   0   0   4   0   0   0   0  38   0   0\n",
      "    0   0   0   0   0   0   0]\n",
      " [  0   0   0   0   8   0   0   0   0   0   0   0   0   0   0   5   0   0\n",
      "    0   0   0   0   0   0   0]\n",
      " [  0   0   0   0 122   0   0   7   0   0   4   0   0   1   0  60   0   0\n",
      "    0   0   0   0   0   0   0]\n",
      " [  0   0   0   0   5   0   0   0   0   0   0   0   0   0   0   1   0   0\n",
      "    0   0   0   0   0   0   0]\n",
      " [  0   0   0   0  26   0   0   2   0   0   2   0   0   0   0  16   0   0\n",
      "    0   0   0   0   0   0   0]\n",
      " [  0   0   0   0   2   0   0   0   0   0   0   0   0   0   0   3   0   0\n",
      "    0   0   0   0   0   0   0]\n",
      " [  0   0   0   0  14   0   0   0   0   0   0   0   0   0   0   9   0   0\n",
      "    0   0   0   0   0   0   0]\n",
      " [  0   0   0   0   0   0   0   0   0   0   0   0   0   0   0   3   0   0\n",
      "    0   0   0   0   0   0   0]\n",
      " [  0   0   0   0  15   0   0   0   0   0   0   0   0   0   0   9   0   0\n",
      "    0   0   0   0   0   0   0]\n",
      " [  0   0   0   0   3   0   0   0   0   0   0   0   0   0   0   1   0   0\n",
      "    0   0   0   0   0   0   0]\n",
      " [  0   0   0   0   0   0   0   0   0   0   0   0   0   0   0   1   0   0\n",
      "    0   0   0   0   0   0   0]\n",
      " [  0   0   0   0   0   0   0   0   0   0   0   0   0   0   0   1   0   0\n",
      "    0   0   0   0   0   0   0]]\n",
      "              precision    recall  f1-score   support\n",
      "\n",
      "          50       0.00      0.00      0.00        12\n",
      "          60       0.00      0.00      0.00         1\n",
      "          70       0.00      0.00      0.00         3\n",
      "          80       0.00      0.00      0.00         5\n",
      "         100       0.23      0.78      0.36       252\n",
      "         150       0.00      0.00      0.00        49\n",
      "         180       0.00      0.00      0.00         1\n",
      "         200       0.40      0.10      0.16       185\n",
      "         220       0.00      0.00      0.00         1\n",
      "         250       0.00      0.00      0.00        66\n",
      "         300       0.15      0.02      0.04       173\n",
      "         350       0.00      0.00      0.00        27\n",
      "         380       0.00      0.00      0.00         1\n",
      "         400       0.00      0.00      0.00        97\n",
      "         450       0.00      0.00      0.00        13\n",
      "         500       0.23      0.31      0.26       194\n",
      "         550       0.00      0.00      0.00         6\n",
      "         600       0.00      0.00      0.00        46\n",
      "         650       0.00      0.00      0.00         5\n",
      "         700       0.00      0.00      0.00        23\n",
      "         750       0.00      0.00      0.00         3\n",
      "         800       0.00      0.00      0.00        24\n",
      "         900       0.00      0.00      0.00         4\n",
      "         920       0.00      0.00      0.00         1\n",
      "         950       0.00      0.00      0.00         1\n",
      "\n",
      "    accuracy                           0.23      1193\n",
      "   macro avg       0.04      0.05      0.03      1193\n",
      "weighted avg       0.17      0.23      0.15      1193\n",
      "\n",
      "_________________________________________________________________\n",
      "0.2888003355704698\n",
      "the accuracy score of SVC() is: 0.25230511316010057\n",
      "the confusion matrix of SVC() is: [[  0   0   0   0  12   0   0   0   0   0   0   0   0   0   0   0   0   0\n",
      "    0   0   0   0   0   0   0]\n",
      " [  0   0   0   0   1   0   0   0   0   0   0   0   0   0   0   0   0   0\n",
      "    0   0   0   0   0   0   0]\n",
      " [  0   0   0   0   2   0   0   1   0   0   0   0   0   0   0   0   0   0\n",
      "    0   0   0   0   0   0   0]\n",
      " [  0   0   0   0   4   0   0   0   0   0   1   0   0   0   0   0   0   0\n",
      "    0   0   0   0   0   0   0]\n",
      " [  0   0   0   0 168   0   0  39   0   0  16   0   0   1   0  28   0   0\n",
      "    0   0   0   0   0   0   0]\n",
      " [  0   0   0   0  32   0   0  13   0   0   3   0   0   0   0   1   0   0\n",
      "    0   0   0   0   0   0   0]\n",
      " [  0   0   0   0   1   0   0   0   0   0   0   0   0   0   0   0   0   0\n",
      "    0   0   0   0   0   0   0]\n",
      " [  0   0   0   0  99   0   0  63   0   0   8   0   0   0   0  15   0   0\n",
      "    0   0   0   0   0   0   0]\n",
      " [  0   0   0   0   0   0   0   0   0   0   1   0   0   0   0   0   0   0\n",
      "    0   0   0   0   0   0   0]\n",
      " [  0   0   0   0  37   0   0  13   0   0  10   0   0   0   0   6   0   0\n",
      "    0   0   0   0   0   0   0]\n",
      " [  0   0   0   0  81   0   0  50   0   0  21   0   0   0   0  21   0   0\n",
      "    0   0   0   0   0   0   0]\n",
      " [  0   0   0   0  14   0   0   2   0   0   3   0   0   0   0   8   0   0\n",
      "    0   0   0   0   0   0   0]\n",
      " [  0   0   0   0   0   0   0   0   0   0   1   0   0   0   0   0   0   0\n",
      "    0   0   0   0   0   0   0]\n",
      " [  0   0   0   0  34   0   0  13   0   0  21   0   0   0   0  29   0   0\n",
      "    0   0   0   0   0   0   0]\n",
      " [  0   0   0   0   5   0   0   0   0   0   3   0   0   0   0   5   0   0\n",
      "    0   0   0   0   0   0   0]\n",
      " [  0   0   0   0  78   0   0  34   0   0  31   0   0   2   0  49   0   0\n",
      "    0   0   0   0   0   0   0]\n",
      " [  0   0   0   0   5   0   0   0   0   0   0   0   0   0   0   1   0   0\n",
      "    0   0   0   0   0   0   0]\n",
      " [  0   0   0   0  17   0   0   3   0   0   6   0   0   0   0  20   0   0\n",
      "    0   0   0   0   0   0   0]\n",
      " [  0   0   0   0   1   0   0   0   0   0   1   0   0   0   0   3   0   0\n",
      "    0   0   0   0   0   0   0]\n",
      " [  0   0   0   0   9   0   0   1   0   0   5   0   0   0   0   8   0   0\n",
      "    0   0   0   0   0   0   0]\n",
      " [  0   0   0   0   0   0   0   0   0   0   0   0   0   0   0   3   0   0\n",
      "    0   0   0   0   0   0   0]\n",
      " [  0   0   0   0  12   0   0   0   0   0   5   0   0   0   0   7   0   0\n",
      "    0   0   0   0   0   0   0]\n",
      " [  0   0   0   0   3   0   0   0   0   0   0   0   0   0   0   1   0   0\n",
      "    0   0   0   0   0   0   0]\n",
      " [  0   0   0   0   0   0   0   0   0   0   0   0   0   0   0   1   0   0\n",
      "    0   0   0   0   0   0   0]\n",
      " [  0   0   0   0   0   0   0   0   0   0   0   0   0   0   0   1   0   0\n",
      "    0   0   0   0   0   0   0]]\n",
      "              precision    recall  f1-score   support\n",
      "\n",
      "          50       0.00      0.00      0.00        12\n",
      "          60       0.00      0.00      0.00         1\n",
      "          70       0.00      0.00      0.00         3\n",
      "          80       0.00      0.00      0.00         5\n",
      "         100       0.27      0.67      0.39       252\n",
      "         150       0.00      0.00      0.00        49\n",
      "         180       0.00      0.00      0.00         1\n",
      "         200       0.27      0.34      0.30       185\n",
      "         220       0.00      0.00      0.00         1\n",
      "         250       0.00      0.00      0.00        66\n",
      "         300       0.15      0.12      0.14       173\n",
      "         350       0.00      0.00      0.00        27\n",
      "         380       0.00      0.00      0.00         1\n",
      "         400       0.00      0.00      0.00        97\n",
      "         450       0.00      0.00      0.00        13\n",
      "         500       0.24      0.25      0.24       194\n",
      "         550       0.00      0.00      0.00         6\n",
      "         600       0.00      0.00      0.00        46\n",
      "         650       0.00      0.00      0.00         5\n",
      "         700       0.00      0.00      0.00        23\n",
      "         750       0.00      0.00      0.00         3\n",
      "         800       0.00      0.00      0.00        24\n",
      "         900       0.00      0.00      0.00         4\n",
      "         920       0.00      0.00      0.00         1\n",
      "         950       0.00      0.00      0.00         1\n",
      "\n",
      "    accuracy                           0.25      1193\n",
      "   macro avg       0.04      0.06      0.04      1193\n",
      "weighted avg       0.16      0.25      0.19      1193\n",
      "\n",
      "_________________________________________________________________\n",
      "0.4460989932885906\n",
      "the accuracy score of KNeighborsClassifier() is: 0.2154233025984912\n",
      "the confusion matrix of KNeighborsClassifier() is: [[  0   0   0   0   0   0   0   0   0   0   0   0   0   0   0   0   0   0\n",
      "    0   0   0   0   0   0   0   0   0   0   0]\n",
      " [  0   0   0   0   0   0   0   0   0   0   0   0   0   0   0   0   0   0\n",
      "    0   0   0   0   0   0   0   0   0   0   0]\n",
      " [  0   0   2   0   0   0   9   0   0   0   0   1   0   0   0   0   0   0\n",
      "    0   0   0   0   0   0   0   0   0   0   0]\n",
      " [  0   0   0   1   0   0   0   0   0   0   0   0   0   0   0   0   0   0\n",
      "    0   0   0   0   0   0   0   0   0   0   0]\n",
      " [  0   0   0   0   0   0   1   0   0   0   0   1   0   0   0   0   0   0\n",
      "    0   1   0   0   0   0   0   0   0   0   0]\n",
      " [  0   0   1   0   0   0   2   0   0   0   0   1   0   0   1   0   0   0\n",
      "    0   0   0   0   0   0   0   0   0   0   0]\n",
      " [  1   0   7   1   1   0 125   0   1   5   0  40   0  12  22   0   0   4\n",
      "    0  25   0   3   0   3   0   2   0   0   0]\n",
      " [  0   0   0   0   0   0   0   0   0   0   0   0   0   0   0   0   0   0\n",
      "    0   0   0   0   0   0   0   0   0   0   0]\n",
      " [  0   0   0   0   0   0   0   0   0   0   0   0   0   0   0   0   0   0\n",
      "    0   0   0   0   0   0   0   0   0   0   0]\n",
      " [  0   0   1   0   1   0  16   0   0   4   0  13   0   0  11   0   0   0\n",
      "    0   2   0   1   0   0   0   0   0   0   0]\n",
      " [  0   0   0   0   0   0   1   0   0   0   0   0   0   0   0   0   0   0\n",
      "    0   0   0   0   0   0   0   0   0   0   0]\n",
      " [  2   1   2   1   4   0  77   0   0   6   0  52   0   5  13   0   0   8\n",
      "    0   9   0   4   1   0   0   0   0   0   0]\n",
      " [  0   0   0   0   0   0   0   0   0   0   0   0   0   0   0   0   0   1\n",
      "    0   0   0   0   0   0   0   0   0   0   0]\n",
      " [  0   0   5   0   0   0  26   0   0   0   0  13   0   1   6   1   0   3\n",
      "    0   8   0   2   0   1   0   0   0   0   0]\n",
      " [  0   1   7   1   0   0  65   0   0   2   0  42   0   7  22   1   0   7\n",
      "    0  14   0   2   0   1   0   1   0   0   0]\n",
      " [  0   0   2   0   0   0  10   0   0   2   0   3   0   1   1   2   0   0\n",
      "    0   5   0   0   0   0   0   1   0   0   0]\n",
      " [  0   0   0   0   0   0   1   0   0   0   0   0   0   0   0   0   0   0\n",
      "    0   0   0   0   0   0   0   0   0   0   0]\n",
      " [  0   0   2   0   1   0  34   0   0   3   0  10   0   7  12   0   0   8\n",
      "    0  16   0   3   0   1   0   0   0   0   0]\n",
      " [  0   0   0   0   0   0   3   0   0   0   0   1   0   0   3   0   0   1\n",
      "    0   4   0   0   0   0   0   1   0   0   0]\n",
      " [  0   0   3   1   0   0  67   1   0   7   0  25   0   5  28   0   0  17\n",
      "    0  33   0   3   0   3   0   1   0   0   0]\n",
      " [  0   0   0   0   0   0   1   0   0   0   0   1   0   1   2   0   0   0\n",
      "    0   1   0   0   0   0   0   0   0   0   0]\n",
      " [  0   0   0   0   0   0  14   0   0   2   0   4   0   1   6   0   0   2\n",
      "    0  11   0   4   0   2   0   0   0   0   0]\n",
      " [  0   0   0   0   0   0   2   0   0   0   0   0   0   0   0   0   0   2\n",
      "    0   1   0   0   0   0   0   0   0   0   0]\n",
      " [  0   0   0   0   0   0  10   0   0   0   0   2   0   1   3   0   0   0\n",
      "    1   3   0   0   0   3   0   0   0   0   0]\n",
      " [  0   0   0   0   0   0   2   0   0   0   0   0   0   0   1   0   0   0\n",
      "    0   0   0   0   0   0   0   0   0   0   0]\n",
      " [  0   0   0   0   0   0  13   0   0   0   0   2   0   1   1   0   0   0\n",
      "    0   4   0   0   0   3   0   0   0   0   0]\n",
      " [  0   0   1   0   0   0   1   0   0   0   0   0   0   0   1   0   0   0\n",
      "    0   1   0   0   0   0   0   0   0   0   0]\n",
      " [  0   0   0   0   0   0   0   0   0   0   0   0   0   0   0   0   0   0\n",
      "    0   1   0   0   0   0   0   0   0   0   0]\n",
      " [  0   0   0   0   0   0   1   0   0   0   0   0   0   0   0   0   0   0\n",
      "    0   0   0   0   0   0   0   0   0   0   0]]\n",
      "              precision    recall  f1-score   support\n",
      "\n",
      "          10       0.00      0.00      0.00         0\n",
      "          30       0.00      0.00      0.00         0\n",
      "          50       0.06      0.17      0.09        12\n",
      "          60       0.20      1.00      0.33         1\n",
      "          70       0.00      0.00      0.00         3\n",
      "          80       0.00      0.00      0.00         5\n",
      "         100       0.26      0.50      0.34       252\n",
      "         125       0.00      0.00      0.00         0\n",
      "         130       0.00      0.00      0.00         0\n",
      "         150       0.13      0.08      0.10        49\n",
      "         180       0.00      0.00      0.00         1\n",
      "         200       0.25      0.28      0.26       185\n",
      "         220       0.00      0.00      0.00         1\n",
      "         250       0.02      0.02      0.02        66\n",
      "         300       0.17      0.13      0.14       173\n",
      "         350       0.50      0.07      0.13        27\n",
      "         380       0.00      0.00      0.00         1\n",
      "         400       0.15      0.08      0.11        97\n",
      "         450       0.00      0.00      0.00        13\n",
      "         500       0.24      0.17      0.20       194\n",
      "         550       0.00      0.00      0.00         6\n",
      "         600       0.18      0.09      0.12        46\n",
      "         650       0.00      0.00      0.00         5\n",
      "         700       0.18      0.13      0.15        23\n",
      "         750       0.00      0.00      0.00         3\n",
      "         800       0.00      0.00      0.00        24\n",
      "         900       0.00      0.00      0.00         4\n",
      "         920       0.00      0.00      0.00         1\n",
      "         950       0.00      0.00      0.00         1\n",
      "\n",
      "    accuracy                           0.22      1193\n",
      "   macro avg       0.08      0.09      0.07      1193\n",
      "weighted avg       0.20      0.22      0.19      1193\n",
      "\n",
      "_________________________________________________________________\n",
      "0.9968540268456376\n",
      "the accuracy score of DecisionTreeClassifier() is: 0.2145850796311819\n",
      "the confusion matrix of DecisionTreeClassifier() is: [[ 0  0  0  0  0  0  0  0  0  0  0  0  0  0  0  0  0  0  0  0  0  0  0  0\n",
      "   0  0  0  0  0  0  0]\n",
      " [ 0  0  0  0  0  0  0  0  0  0  0  0  0  0  0  0  0  0  0  0  0  0  0  0\n",
      "   0  0  0  0  0  0  0]\n",
      " [ 0  0  0  0  0  0  0  0  0  0  0  0  0  0  0  0  0  0  0  0  0  0  0  0\n",
      "   0  0  0  0  0  0  0]\n",
      " [ 0  0  0  2  0  0  0  7  0  0  3  0  0  0  0  0  0  0  0  0  0  0  0  0\n",
      "   0  0  0  0  0  0  0]\n",
      " [ 0  0  0  0  0  0  0  0  0  0  0  0  0  0  0  1  0  0  0  0  0  0  0  0\n",
      "   0  0  0  0  0  0  0]\n",
      " [ 0  0  0  0  0  0  0  1  0  0  1  0  0  0  0  1  0  0  0  0  0  0  0  0\n",
      "   0  0  0  0  0  0  0]\n",
      " [ 0  0  0  0  0  1  0  0  0  0  2  0  0  0  0  0  0  0  0  0  0  0  2  0\n",
      "   0  0  0  0  0  0  0]\n",
      " [ 2  0  1  6  0  1  0 94  7  0 34  0 10  0  0 29  1  0  7  4 31  1  8  1\n",
      "   8  1  6  0  0  0  0]\n",
      " [ 0  0  0  0  0  0  0 13  8  0  9  0  3  0  0  5  1  0  2  2  3  0  1  0\n",
      "   2  0  0  0  0  0  0]\n",
      " [ 0  0  0  0  0  0  0  0  0  0  0  0  0  0  0  0  1  0  0  0  0  0  0  0\n",
      "   0  0  0  0  0  0  0]\n",
      " [ 0  0  1  1  0  2  0 46  9  0 46  0  8  1  0 21  3  0  7  1 26  1  6  0\n",
      "   2  0  4  0  0  0  0]\n",
      " [ 0  0  0  0  0  0  0  0  0  0  0  0  1  0  0  0  0  0  0  0  0  0  0  0\n",
      "   0  0  0  0  0  0  0]\n",
      " [ 0  1  0  3  0  0  0 13  3  0 17  0  4  0  0  7  2  0  2  0 10  0  2  0\n",
      "   0  0  1  0  1  0  0]\n",
      " [ 0  0  0  0  0  0  0  0  0  0  0  0  0  0  0  0  0  0  0  0  0  0  0  0\n",
      "   0  0  0  0  0  0  0]\n",
      " [ 0  0  0  0  0  0  0  0  0  0  0  0  0  0  0  0  0  0  0  0  0  0  0  0\n",
      "   0  0  0  0  0  0  0]\n",
      " [ 0  0  0  2  0  0  0 28  6  0 31  0  9  0  0 35  4  0 12  0 29  0  5  0\n",
      "   6  1  3  0  2  0  0]\n",
      " [ 0  0  0  0  0  0  0  7  2  0  5  0  0  0  0  3  3  0  0  0  5  0  1  0\n",
      "   0  1  0  0  0  0  0]\n",
      " [ 0  0  0  0  0  0  0  0  0  0  0  0  1  0  0  0  0  0  0  0  0  0  0  0\n",
      "   0  0  0  0  0  0  0]\n",
      " [ 0  0  1  0  0  0  0 11  0  0  8  0  5  1  0 17  4  0 10  1 19  0  8  2\n",
      "   5  2  2  1  0  0  0]\n",
      " [ 0  0  0  0  0  0  0  3  0  0  1  0  0  0  0  2  0  0  1  1  3  0  0  0\n",
      "   0  0  2  0  0  0  0]\n",
      " [ 0  0  0  4  0  0  1 21  6  0 30  0 10  0  1 24  6  0 20  0 44  1 11  1\n",
      "   4  3  7  0  0  0  0]\n",
      " [ 0  0  0  0  0  0  0  1  1  0  1  0  0  0  0  0  0  0  0  0  0  0  1  1\n",
      "   1  0  0  0  0  0  0]\n",
      " [ 0  0  0  0  0  1  0  7  7  0  1  0  2  0  0 10  3  0  1  0  7  0  3  0\n",
      "   1  0  2  0  1  0  0]\n",
      " [ 0  0  0  0  0  0  0  0  0  0  0  0  0  0  0  1  0  0  2  0  0  0  0  1\n",
      "   0  1  0  0  0  0  0]\n",
      " [ 0  0  0  0  0  0  0  4  1  0  4  0  0  0  0  2  2  0  0  0  3  0  2  0\n",
      "   4  0  1  0  0  0  0]\n",
      " [ 0  0  0  0  0  0  0  1  0  0  0  0  0  0  0  0  0  0  0  0  2  0  0  0\n",
      "   0  0  0  0  0  0  0]\n",
      " [ 0  0  0  0  0  0  0 11  1  0  0  0  1  0  0  1  0  0  0  0  3  0  3  0\n",
      "   2  1  1  0  0  0  0]\n",
      " [ 0  0  0  0  0  0  0  0  0  0  0  0  0  0  0  0  0  0  0  0  0  0  0  0\n",
      "   0  0  0  0  0  0  0]\n",
      " [ 0  0  0  0  0  0  0  1  0  0  0  0  0  0  0  1  0  0  0  0  1  0  0  0\n",
      "   0  0  1  0  0  0  0]\n",
      " [ 0  0  0  0  0  0  0  0  0  0  0  0  0  0  0  1  0  0  0  0  0  0  0  0\n",
      "   0  0  0  0  0  0  0]\n",
      " [ 0  0  0  0  0  0  0  0  0  0  0  0  0  0  0  0  0  0  1  0  0  0  0  0\n",
      "   0  0  0  0  0  0  0]]\n",
      "              precision    recall  f1-score   support\n",
      "\n",
      "           5       0.00      0.00      0.00         0\n",
      "          20       0.00      0.00      0.00         0\n",
      "          30       0.00      0.00      0.00         0\n",
      "          50       0.11      0.17      0.13        12\n",
      "          60       0.00      0.00      0.00         1\n",
      "          70       0.00      0.00      0.00         3\n",
      "          80       0.00      0.00      0.00         5\n",
      "         100       0.35      0.37      0.36       252\n",
      "         150       0.16      0.16      0.16        49\n",
      "         180       0.00      0.00      0.00         1\n",
      "         200       0.24      0.25      0.24       185\n",
      "         220       0.00      0.00      0.00         1\n",
      "         250       0.07      0.06      0.07        66\n",
      "         260       0.00      0.00      0.00         0\n",
      "         299       0.00      0.00      0.00         0\n",
      "         300       0.22      0.20      0.21       173\n",
      "         350       0.10      0.11      0.11        27\n",
      "         380       0.00      0.00      0.00         1\n",
      "         400       0.15      0.10      0.12        97\n",
      "         450       0.11      0.08      0.09        13\n",
      "         500       0.24      0.23      0.23       194\n",
      "         550       0.00      0.00      0.00         6\n",
      "         600       0.06      0.07      0.06        46\n",
      "         650       0.17      0.20      0.18         5\n",
      "         700       0.11      0.17      0.14        23\n",
      "         750       0.00      0.00      0.00         3\n",
      "         800       0.03      0.04      0.04        24\n",
      "         850       0.00      0.00      0.00         0\n",
      "         900       0.00      0.00      0.00         4\n",
      "         920       0.00      0.00      0.00         1\n",
      "         950       0.00      0.00      0.00         1\n",
      "\n",
      "    accuracy                           0.21      1193\n",
      "   macro avg       0.07      0.07      0.07      1193\n",
      "weighted avg       0.21      0.21      0.21      1193\n",
      "\n",
      "_________________________________________________________________\n",
      "0.9968540268456376\n",
      "the accuracy score of RandomForestClassifier() is: 0.2531433361274099\n",
      "the confusion matrix of RandomForestClassifier() is: [[  0   0   0   0   0   0   0   0   0   0   0   0   0   0   0   0   0   0\n",
      "    0   0   0   0   0   0   0   0   0   0   0]\n",
      " [  0   0   0   0   0   0   0   0   0   0   0   0   0   0   0   0   0   0\n",
      "    0   0   0   0   0   0   0   0   0   0   0]\n",
      " [  0   0   1   0   0   0   9   1   0   1   0   0   0   0   0   0   0   0\n",
      "    0   0   0   0   0   0   0   0   0   0   0]\n",
      " [  0   0   0   0   0   0   0   0   0   0   0   0   0   0   1   0   0   0\n",
      "    0   0   0   0   0   0   0   0   0   0   0]\n",
      " [  0   0   0   0   0   0   2   0   0   1   0   0   0   0   0   0   0   0\n",
      "    0   0   0   0   0   0   0   0   0   0   0]\n",
      " [  0   0   0   0   0   0   2   0   0   2   0   0   0   0   1   0   0   0\n",
      "    0   0   0   0   0   0   0   0   0   0   0]\n",
      " [  1   0   4   0   0   0 118   6   0  31   0   0   6   0  32   2   0   9\n",
      "    2  34   0   2   0   2   0   3   0   0   0]\n",
      " [  0   0   0   0   1   0  15   4   0  12   0   1   1   0   6   0   0   1\n",
      "    2   4   0   1   0   1   0   0   0   0   0]\n",
      " [  0   0   0   0   0   0   1   0   0   0   0   0   0   0   0   0   0   0\n",
      "    0   0   0   0   0   0   0   0   0   0   0]\n",
      " [  0   1   1   0   1   0  56   6   0  60   0   0   2   0  23   1   0   8\n",
      "    0  17   0   7   0   0   0   1   1   0   0]\n",
      " [  0   0   0   0   0   0   0   0   0   0   0   0   0   0   0   0   0   1\n",
      "    0   0   0   0   0   0   0   0   0   0   0]\n",
      " [  0   0   0   0   0   0   0   0   0   0   0   0   0   0   0   0   0   0\n",
      "    0   0   0   0   0   0   0   0   0   0   0]\n",
      " [  0   0   2   0   0   0  12   2   0  19   0   0   3   0  11   3   0   3\n",
      "    0   9   0   1   0   0   0   0   1   0   0]\n",
      " [  0   0   0   0   0   0   0   0   0   0   0   0   0   0   0   0   0   0\n",
      "    0   0   0   0   0   0   0   0   0   0   0]\n",
      " [  0   0   2   1   0   0  42   3   0  43   0   0   2   0  38   2   0   8\n",
      "    0  25   0   3   0   3   0   1   0   0   0]\n",
      " [  0   0   0   0   0   0   5   1   0   4   0   0   0   0   6   1   0   1\n",
      "    0   7   0   0   0   0   0   2   0   0   0]\n",
      " [  0   0   0   0   0   0   0   0   0   0   0   0   0   0   0   0   0   1\n",
      "    0   0   0   0   0   0   0   0   0   0   0]\n",
      " [  0   0   1   0   0   0  17   1   0   7   0   0   2   0  18   0   0  14\n",
      "    1  28   0   5   2   0   0   1   0   0   0]\n",
      " [  0   0   0   0   0   0   1   0   0   2   0   0   0   0   3   0   0   2\n",
      "    1   3   0   0   0   0   0   1   0   0   0]\n",
      " [  0   0   2   0   0   0  44   5   0  22   0   0   4   1  28   1   0  21\n",
      "    0  57   0   3   0   3   0   2   1   0   0]\n",
      " [  0   0   0   0   0   0   0   0   0   0   0   0   0   0   0   1   0   0\n",
      "    0   2   0   1   1   1   0   0   0   0   0]\n",
      " [  0   0   0   0   1   0   4   3   0   3   0   0   3   0   7   0   0   3\n",
      "    0  17   0   2   0   1   0   2   0   0   0]\n",
      " [  0   0   0   0   0   0   2   0   0   0   0   0   0   0   0   0   0   1\n",
      "    0   1   0   1   0   0   0   0   0   0   0]\n",
      " [  0   0   0   0   0   0   8   0   0   2   0   0   0   0   4   1   0   0\n",
      "    0   5   0   1   0   2   0   0   0   0   0]\n",
      " [  0   0   0   0   0   0   2   0   0   0   0   0   0   0   1   0   0   0\n",
      "    0   0   0   0   0   0   0   0   0   0   0]\n",
      " [  0   0   0   0   0   0   9   0   0   1   0   0   0   0   4   0   0   0\n",
      "    0   5   0   1   0   3   0   1   0   0   0]\n",
      " [  0   0   0   0   0   0   2   0   0   0   0   0   0   0   1   0   0   0\n",
      "    0   1   0   0   0   0   0   0   0   0   0]\n",
      " [  0   0   0   0   0   0   0   0   0   0   0   0   0   0   1   0   0   0\n",
      "    0   0   0   0   0   0   0   0   0   0   0]\n",
      " [  0   0   0   0   0   0   0   0   0   0   0   0   0   0   0   0   0   0\n",
      "    0   1   0   0   0   0   0   0   0   0   0]]\n",
      "              precision    recall  f1-score   support\n",
      "\n",
      "          10       0.00      0.00      0.00         0\n",
      "          30       0.00      0.00      0.00         0\n",
      "          50       0.08      0.08      0.08        12\n",
      "          60       0.00      0.00      0.00         1\n",
      "          70       0.00      0.00      0.00         3\n",
      "          80       0.00      0.00      0.00         5\n",
      "         100       0.34      0.47      0.39       252\n",
      "         150       0.12      0.08      0.10        49\n",
      "         180       0.00      0.00      0.00         1\n",
      "         200       0.29      0.32      0.30       185\n",
      "         220       0.00      0.00      0.00         1\n",
      "         230       0.00      0.00      0.00         0\n",
      "         250       0.13      0.05      0.07        66\n",
      "         299       0.00      0.00      0.00         0\n",
      "         300       0.21      0.22      0.21       173\n",
      "         350       0.08      0.04      0.05        27\n",
      "         380       0.00      0.00      0.00         1\n",
      "         400       0.19      0.14      0.16        97\n",
      "         450       0.17      0.08      0.11        13\n",
      "         500       0.26      0.29      0.28       194\n",
      "         550       0.00      0.00      0.00         6\n",
      "         600       0.07      0.04      0.05        46\n",
      "         650       0.00      0.00      0.00         5\n",
      "         700       0.12      0.09      0.10        23\n",
      "         750       0.00      0.00      0.00         3\n",
      "         800       0.07      0.04      0.05        24\n",
      "         900       0.00      0.00      0.00         4\n",
      "         920       0.00      0.00      0.00         1\n",
      "         950       0.00      0.00      0.00         1\n",
      "\n",
      "    accuracy                           0.25      1193\n",
      "   macro avg       0.07      0.07      0.07      1193\n",
      "weighted avg       0.23      0.25      0.24      1193\n",
      "\n",
      "_________________________________________________________________\n",
      "0.21539429530201343\n",
      "the accuracy score of AdaBoostClassifier() is: 0.20787929589270746\n",
      "the confusion matrix of AdaBoostClassifier() is: [[  0   0   0   0  12   0   0   0   0   0   0   0   0   0   0   0   0   0\n",
      "    0   0   0   0   0   0   0]\n",
      " [  0   0   0   0   1   0   0   0   0   0   0   0   0   0   0   0   0   0\n",
      "    0   0   0   0   0   0   0]\n",
      " [  0   0   0   0   3   0   0   0   0   0   0   0   0   0   0   0   0   0\n",
      "    0   0   0   0   0   0   0]\n",
      " [  0   0   0   0   5   0   0   0   0   0   0   0   0   0   0   0   0   0\n",
      "    0   0   0   0   0   0   0]\n",
      " [  0   0   0   0 242   0   0   0   0   0   0   0   4   0   0   6   0   0\n",
      "    0   0   0   0   0   0   0]\n",
      " [  0   0   0   0  47   0   0   0   0   0   0   0   2   0   0   0   0   0\n",
      "    0   0   0   0   0   0   0]\n",
      " [  0   0   0   0   1   0   0   0   0   0   0   0   0   0   0   0   0   0\n",
      "    0   0   0   0   0   0   0]\n",
      " [  0   0   0   0 176   0   0   0   0   0   0   0   9   0   0   0   0   0\n",
      "    0   0   0   0   0   0   0]\n",
      " [  0   0   0   0   1   0   0   0   0   0   0   0   0   0   0   0   0   0\n",
      "    0   0   0   0   0   0   0]\n",
      " [  0   0   0   0  63   0   0   0   0   0   0   0   3   0   0   0   0   0\n",
      "    0   0   0   0   0   0   0]\n",
      " [  0   0   0   0 158   0   0   0   0   0   0   0  11   0   0   4   0   0\n",
      "    0   0   0   0   0   0   0]\n",
      " [  0   0   0   0  26   0   0   0   0   0   0   0   0   0   0   1   0   0\n",
      "    0   0   0   0   0   0   0]\n",
      " [  0   0   0   0   1   0   0   0   0   0   0   0   0   0   0   0   0   0\n",
      "    0   0   0   0   0   0   0]\n",
      " [  0   0   0   0  94   0   0   0   0   0   0   0   2   0   0   1   0   0\n",
      "    0   0   0   0   0   0   0]\n",
      " [  0   0   0   0  11   0   0   0   0   0   0   0   0   0   0   2   0   0\n",
      "    0   0   0   0   0   0   0]\n",
      " [  0   0   0   0 186   0   0   0   0   0   0   0   2   0   0   6   0   0\n",
      "    0   0   0   0   0   0   0]\n",
      " [  0   0   0   0   5   0   0   0   0   0   0   0   0   0   0   1   0   0\n",
      "    0   0   0   0   0   0   0]\n",
      " [  0   0   0   0  41   0   0   0   0   0   0   0   0   0   0   5   0   0\n",
      "    0   0   0   0   0   0   0]\n",
      " [  0   0   0   0   5   0   0   0   0   0   0   0   0   0   0   0   0   0\n",
      "    0   0   0   0   0   0   0]\n",
      " [  0   0   0   0  22   0   0   0   0   0   0   0   0   0   0   1   0   0\n",
      "    0   0   0   0   0   0   0]\n",
      " [  0   0   0   0   3   0   0   0   0   0   0   0   0   0   0   0   0   0\n",
      "    0   0   0   0   0   0   0]\n",
      " [  0   0   0   0  23   0   0   0   0   0   0   0   0   0   0   1   0   0\n",
      "    0   0   0   0   0   0   0]\n",
      " [  0   0   0   0   4   0   0   0   0   0   0   0   0   0   0   0   0   0\n",
      "    0   0   0   0   0   0   0]\n",
      " [  0   0   0   0   1   0   0   0   0   0   0   0   0   0   0   0   0   0\n",
      "    0   0   0   0   0   0   0]\n",
      " [  0   0   0   0   1   0   0   0   0   0   0   0   0   0   0   0   0   0\n",
      "    0   0   0   0   0   0   0]]\n",
      "              precision    recall  f1-score   support\n",
      "\n",
      "          50       0.00      0.00      0.00        12\n",
      "          60       0.00      0.00      0.00         1\n",
      "          70       0.00      0.00      0.00         3\n",
      "          80       0.00      0.00      0.00         5\n",
      "         100       0.21      0.96      0.35       252\n",
      "         150       0.00      0.00      0.00        49\n",
      "         180       0.00      0.00      0.00         1\n",
      "         200       0.00      0.00      0.00       185\n",
      "         220       0.00      0.00      0.00         1\n",
      "         250       0.00      0.00      0.00        66\n",
      "         300       0.00      0.00      0.00       173\n",
      "         350       0.00      0.00      0.00        27\n",
      "         380       0.00      0.00      0.00         1\n",
      "         400       0.00      0.00      0.00        97\n",
      "         450       0.00      0.00      0.00        13\n",
      "         500       0.21      0.03      0.05       194\n",
      "         550       0.00      0.00      0.00         6\n",
      "         600       0.00      0.00      0.00        46\n",
      "         650       0.00      0.00      0.00         5\n",
      "         700       0.00      0.00      0.00        23\n",
      "         750       0.00      0.00      0.00         3\n",
      "         800       0.00      0.00      0.00        24\n",
      "         900       0.00      0.00      0.00         4\n",
      "         920       0.00      0.00      0.00         1\n",
      "         950       0.00      0.00      0.00         1\n",
      "\n",
      "    accuracy                           0.21      1193\n",
      "   macro avg       0.02      0.04      0.02      1193\n",
      "weighted avg       0.08      0.21      0.08      1193\n",
      "\n",
      "_________________________________________________________________\n",
      "0.544253355704698\n",
      "the accuracy score of GradientBoostingClassifier() is: 0.28667225481978204\n",
      "the confusion matrix of GradientBoostingClassifier() is: [[0 0 0 ... 0 0 0]\n",
      " [0 0 0 ... 0 0 0]\n",
      " [0 0 0 ... 0 0 0]\n",
      " ...\n",
      " [0 0 0 ... 0 0 0]\n",
      " [0 0 0 ... 0 0 0]\n",
      " [0 0 0 ... 0 0 0]]\n",
      "              precision    recall  f1-score   support\n",
      "\n",
      "           5       0.00      0.00      0.00         0\n",
      "          10       0.00      0.00      0.00         0\n",
      "          20       0.00      0.00      0.00         0\n",
      "          50       0.20      0.08      0.12        12\n",
      "          60       0.50      1.00      0.67         1\n",
      "          70       0.00      0.00      0.00         3\n",
      "          80       0.00      0.00      0.00         5\n",
      "         100       0.32      0.60      0.42       252\n",
      "         125       0.00      0.00      0.00         0\n",
      "         130       0.00      0.00      0.00         0\n",
      "         150       0.00      0.00      0.00        49\n",
      "         180       0.00      0.00      0.00         1\n",
      "         200       0.34      0.41      0.37       185\n",
      "         220       0.00      0.00      0.00         1\n",
      "         230       0.00      0.00      0.00         0\n",
      "         250       0.00      0.00      0.00        66\n",
      "         300       0.22      0.19      0.20       173\n",
      "         350       0.00      0.00      0.00        27\n",
      "         380       0.00      0.00      0.00         1\n",
      "         400       0.18      0.07      0.10        97\n",
      "         450       0.30      0.23      0.26        13\n",
      "         500       0.30      0.33      0.31       194\n",
      "         550       0.00      0.00      0.00         6\n",
      "         600       0.29      0.09      0.13        46\n",
      "         650       0.14      0.20      0.17         5\n",
      "         700       0.18      0.09      0.12        23\n",
      "         750       0.20      0.33      0.25         3\n",
      "         800       0.00      0.00      0.00        24\n",
      "         850       0.00      0.00      0.00         0\n",
      "         900       0.00      0.00      0.00         4\n",
      "         920       0.00      0.00      0.00         1\n",
      "         950       0.00      0.00      0.00         1\n",
      "\n",
      "    accuracy                           0.29      1193\n",
      "   macro avg       0.10      0.11      0.10      1193\n",
      "weighted avg       0.24      0.29      0.25      1193\n",
      "\n",
      "_________________________________________________________________\n",
      "0.9968540268456376\n",
      "the accuracy score of ExtraTreesClassifier() is: 0.2372170997485331\n",
      "the confusion matrix of ExtraTreesClassifier() is: [[  0   0   0   0   0   0   0   0   0   0   0   0   0   0   0   0   0   0\n",
      "    0   0   0   0   0   0   0   0   0   0   0   0]\n",
      " [  0   0   0   0   0   0   0   0   0   0   0   0   0   0   0   0   0   0\n",
      "    0   0   0   0   0   0   0   0   0   0   0   0]\n",
      " [  0   0   0   0   0   0   0   0   0   0   0   0   0   0   0   0   0   0\n",
      "    0   0   0   0   0   0   0   0   0   0   0   0]\n",
      " [  0   0   0   1   0   0   0   9   0   0   2   0   0   0   0   0   0   0\n",
      "    0   0   0   0   0   0   0   0   0   0   0   0]\n",
      " [  0   0   0   0   0   0   0   0   0   0   0   0   0   0   0   1   0   0\n",
      "    0   0   0   0   0   0   0   0   0   0   0   0]\n",
      " [  0   0   0   0   0   0   0   1   0   0   1   0   0   0   0   1   0   0\n",
      "    0   0   0   0   0   0   0   0   0   0   0   0]\n",
      " [  0   0   0   0   0   1   0   1   0   0   2   0   0   0   0   1   0   0\n",
      "    0   0   0   0   0   0   0   0   0   0   0   0]\n",
      " [  1   0   0   5   0   0   0 109   5   0  33   0   0  10   1  29   2   0\n",
      "   11   3  32   0   4   0   4   0   3   0   0   0]\n",
      " [  0   0   0   0   0   0   0  12   6   0  11   0   1   1   0   7   0   0\n",
      "    0   2   7   0   1   0   1   0   0   0   0   0]\n",
      " [  0   0   0   0   0   0   0   1   0   0   0   0   0   0   0   0   0   0\n",
      "    0   0   0   0   0   0   0   0   0   0   0   0]\n",
      " [  0   0   1   1   0   1   0  56   3   0  59   0   0   5   1  19   1   0\n",
      "    8   0  19   0   8   0   1   0   1   1   0   0]\n",
      " [  0   0   0   0   0   0   0   0   0   0   0   0   0   0   0   0   0   0\n",
      "    1   0   0   0   0   0   0   0   0   0   0   0]\n",
      " [  0   0   0   0   0   0   0   0   0   0   0   0   0   0   0   0   0   0\n",
      "    0   0   0   0   0   0   0   0   0   0   0   0]\n",
      " [  0   1   0   2   0   0   1  15   2   0  17   0   0   5   0   8   3   0\n",
      "    3   0   6   0   1   0   1   0   0   1   0   0]\n",
      " [  0   0   0   0   0   0   0   0   0   0   0   0   0   0   0   0   0   0\n",
      "    0   0   0   0   0   0   0   0   0   0   0   0]\n",
      " [  0   0   0   3   0   0   0  39   4   0  41   0   0   6   0  31   6   0\n",
      "   11   0  24   0   3   0   2   0   3   0   0   0]\n",
      " [  0   0   0   0   0   0   0   6   1   0   3   0   0   2   0   5   0   0\n",
      "    1   0   6   0   2   0   1   0   0   0   0   0]\n",
      " [  0   0   0   0   0   0   0   1   0   0   0   0   0   0   0   0   0   0\n",
      "    0   0   0   0   0   0   0   0   0   0   0   0]\n",
      " [  0   0   0   1   0   0   0  16   2   0  12   0   0   2   0  19   1   0\n",
      "   10   0  24   0   3   2   1   0   4   0   0   0]\n",
      " [  0   0   0   0   0   0   0   1   0   0   2   0   0   0   0   4   0   0\n",
      "    2   1   2   0   0   0   0   0   1   0   0   0]\n",
      " [  0   0   0   3   0   0   0  46   5   0  22   0   0   6   1  22   3   0\n",
      "   18   0  54   0   5   0   7   0   1   1   0   0]\n",
      " [  0   0   0   0   0   0   0   0   0   0   1   0   0   0   0   1   0   0\n",
      "    0   0   1   0   1   1   0   0   1   0   0   0]\n",
      " [  0   0   0   0   0   1   0   6   4   0   3   0   0   2   0   6   1   0\n",
      "    5   0  13   0   3   0   1   0   1   0   0   0]\n",
      " [  0   0   0   0   0   0   0   2   0   0   0   0   0   0   0   0   0   0\n",
      "    2   0   0   0   1   0   0   0   0   0   0   0]\n",
      " [  0   0   0   0   0   0   0   6   0   0   2   0   0   0   0   3   1   0\n",
      "    0   0   6   0   2   0   2   0   1   0   0   0]\n",
      " [  0   0   0   0   0   0   0   2   0   0   0   0   0   0   0   1   0   0\n",
      "    0   0   0   0   0   0   0   0   0   0   0   0]\n",
      " [  0   0   0   0   0   0   0  10   0   0   1   0   0   0   0   3   0   0\n",
      "    0   0   5   0   1   0   2   0   2   0   0   0]\n",
      " [  0   0   0   0   0   0   0   3   0   0   0   0   0   0   0   1   0   0\n",
      "    0   0   0   0   0   0   0   0   0   0   0   0]\n",
      " [  0   0   0   0   0   0   0   0   0   0   0   0   0   0   0   1   0   0\n",
      "    0   0   0   0   0   0   0   0   0   0   0   0]\n",
      " [  0   0   0   0   0   0   0   0   0   0   0   0   0   0   0   0   0   0\n",
      "    0   0   1   0   0   0   0   0   0   0   0   0]]\n",
      "              precision    recall  f1-score   support\n",
      "\n",
      "          10       0.00      0.00      0.00         0\n",
      "          20       0.00      0.00      0.00         0\n",
      "          30       0.00      0.00      0.00         0\n",
      "          50       0.06      0.08      0.07        12\n",
      "          60       0.00      0.00      0.00         1\n",
      "          70       0.00      0.00      0.00         3\n",
      "          80       0.00      0.00      0.00         5\n",
      "         100       0.32      0.43      0.37       252\n",
      "         150       0.19      0.12      0.15        49\n",
      "         180       0.00      0.00      0.00         1\n",
      "         200       0.28      0.32      0.30       185\n",
      "         220       0.00      0.00      0.00         1\n",
      "         230       0.00      0.00      0.00         0\n",
      "         250       0.13      0.08      0.10        66\n",
      "         260       0.00      0.00      0.00         0\n",
      "         300       0.19      0.18      0.18       173\n",
      "         350       0.00      0.00      0.00        27\n",
      "         380       0.00      0.00      0.00         1\n",
      "         400       0.14      0.10      0.12        97\n",
      "         450       0.17      0.08      0.11        13\n",
      "         500       0.27      0.28      0.27       194\n",
      "         550       0.00      0.00      0.00         6\n",
      "         600       0.09      0.07      0.07        46\n",
      "         650       0.00      0.00      0.00         5\n",
      "         700       0.09      0.09      0.09        23\n",
      "         750       0.00      0.00      0.00         3\n",
      "         800       0.11      0.08      0.10        24\n",
      "         900       0.00      0.00      0.00         4\n",
      "         920       0.00      0.00      0.00         1\n",
      "         950       0.00      0.00      0.00         1\n",
      "\n",
      "    accuracy                           0.24      1193\n",
      "   macro avg       0.07      0.06      0.06      1193\n",
      "weighted avg       0.22      0.24      0.22      1193\n",
      "\n",
      "_________________________________________________________________\n"
     ]
    }
   ],
   "source": [
    "for m in model:\n",
    "    x_train,x_test,y_train,y_test=train_test_split(x,y,train_size=.80,random_state=42)\n",
    "    m.fit(x_train,y_train)\n",
    "    print(m.score(x_train,y_train))\n",
    "    predm=m.predict(x_test)\n",
    "    print('the accuracy score of',m,'is:',accuracy_score(y_test,predm))\n",
    "    print('the confusion matrix of',m,'is:',confusion_matrix(y_test,predm))\n",
    "    print(classification_report(y_test,predm))\n",
    "    print('_________________________________________________________________')"
   ]
  },
  {
   "cell_type": "markdown",
   "metadata": {},
   "source": [
    "we are getting the max accuracy in gradient boosting classifier."
   ]
  },
  {
   "cell_type": "code",
   "execution_count": 51,
   "metadata": {},
   "outputs": [
    {
     "name": "stdout",
     "output_type": "stream",
     "text": [
      "Model LogisticRegression()\n",
      "score [0.23218776 0.22231544 0.21728188 0.23154362 0.22651007]\n",
      "mean score of LogisticRegression() is: 0.22596775373121733\n",
      "standard deviation of LogisticRegression() is- 0.005636608493438434\n",
      "_________________________________________________________________\n",
      "Model SVC()\n",
      "score [0.26571668 0.24832215 0.24580537 0.25419463 0.24412752]\n",
      "mean score of SVC() is: 0.25163326901331595\n",
      "standard deviation of SVC() is- 0.00782518135127921\n",
      "_________________________________________________________________\n",
      "Model KNeighborsClassifier()\n",
      "score [0.21458508 0.2147651  0.2147651  0.21224832 0.23154362]\n",
      "mean score of KNeighborsClassifier() is: 0.2175814454564377\n",
      "standard deviation of KNeighborsClassifier() is- 0.007045941277998501\n",
      "_________________________________________________________________\n",
      "Model DecisionTreeClassifier()\n",
      "score [0.22045264 0.21392617 0.19043624 0.20385906 0.23322148]\n",
      "mean score of DecisionTreeClassifier() is: 0.21237911868449624\n",
      "standard deviation of DecisionTreeClassifier() is- 0.014533136356225154\n",
      "_________________________________________________________________\n",
      "Model RandomForestClassifier()\n",
      "score [0.26320201 0.25587248 0.25587248 0.25167785 0.2692953 ]\n",
      "mean score of RandomForestClassifier() is: 0.25918402650809813\n",
      "standard deviation of RandomForestClassifier() is- 0.006271481260664154\n",
      "_________________________________________________________________\n",
      "Model AdaBoostClassifier()\n",
      "score [0.22212909 0.21979866 0.22231544 0.22231544 0.21979866]\n",
      "mean score of AdaBoostClassifier() is: 0.22127145485128574\n",
      "standard deviation of AdaBoostClassifier() is- 0.001204457458180826\n",
      "_________________________________________________________________\n",
      "Model GradientBoostingClassifier()\n",
      "score [0.2774518  0.27265101 0.2692953  0.27936242 0.28104027]\n",
      "mean score of GradientBoostingClassifier() is: 0.275960159093594\n",
      "standard deviation of GradientBoostingClassifier() is- 0.0043584096275750715\n",
      "_________________________________________________________________\n",
      "Model ExtraTreesClassifier()\n",
      "score [0.24392288 0.2307047  0.23657718 0.22567114 0.26174497]\n",
      "mean score of ExtraTreesClassifier() is: 0.23972417401283774\n",
      "standard deviation of ExtraTreesClassifier() is- 0.012580037444761025\n",
      "_________________________________________________________________\n"
     ]
    }
   ],
   "source": [
    "for m in model:\n",
    "    score=cross_val_score(m,x,y,cv=5,scoring='accuracy')\n",
    "    print('Model',m)\n",
    "    print('score',score)\n",
    "    print('mean score of',m,'is:',score.mean())\n",
    "    print('standard deviation of',m,'is-',score.std())\n",
    "    print('_________________________________________________________________')"
   ]
  },
  {
   "cell_type": "code",
   "execution_count": null,
   "metadata": {},
   "outputs": [],
   "source": []
  }
 ],
 "metadata": {
  "kernelspec": {
   "display_name": "Python 3",
   "language": "python",
   "name": "python3"
  },
  "language_info": {
   "codemirror_mode": {
    "name": "ipython",
    "version": 3
   },
   "file_extension": ".py",
   "mimetype": "text/x-python",
   "name": "python",
   "nbconvert_exporter": "python",
   "pygments_lexer": "ipython3",
   "version": "3.8.3"
  }
 },
 "nbformat": 4,
 "nbformat_minor": 4
}
