{
 "cells": [
  {
   "cell_type": "code",
   "execution_count": 45,
   "metadata": {},
   "outputs": [],
   "source": [
    "import pandas as pd\n",
    "import numpy as np\n",
    "import matplotlib.pyplot as plt\n",
    "import seaborn as sns\n",
    "from sklearn.preprocessing import LabelEncoder\n",
    "from sklearn.preprocessing import StandardScaler\n",
    "from scipy.stats import zscore\n",
    "from sklearn.linear_model import LogisticRegression\n",
    "from sklearn.model_selection import train_test_split,cross_val_score,GridSearchCV\n",
    "from sklearn.neighbors import KNeighborsClassifier\n",
    "from sklearn.naive_bayes import MultinomialNB\n",
    "from sklearn.preprocessing import StandardScaler\n",
    "from sklearn.metrics import accuracy_score,confusion_matrix,classification_report\n",
    "from sklearn.tree import DecisionTreeClassifier\n",
    "from sklearn.ensemble import RandomForestClassifier,AdaBoostClassifier,GradientBoostingClassifier,ExtraTreesClassifier\n",
    "from sklearn.svm import SVC\n",
    "import warnings\n",
    "warnings.filterwarnings('ignore')"
   ]
  },
  {
   "cell_type": "code",
   "execution_count": 2,
   "metadata": {
    "scrolled": false
   },
   "outputs": [
    {
     "data": {
      "text/html": [
       "<div>\n",
       "<style scoped>\n",
       "    .dataframe tbody tr th:only-of-type {\n",
       "        vertical-align: middle;\n",
       "    }\n",
       "\n",
       "    .dataframe tbody tr th {\n",
       "        vertical-align: top;\n",
       "    }\n",
       "\n",
       "    .dataframe thead th {\n",
       "        text-align: right;\n",
       "    }\n",
       "</style>\n",
       "<table border=\"1\" class=\"dataframe\">\n",
       "  <thead>\n",
       "    <tr style=\"text-align: right;\">\n",
       "      <th></th>\n",
       "      <th>objid</th>\n",
       "      <th>ra</th>\n",
       "      <th>dec</th>\n",
       "      <th>u</th>\n",
       "      <th>g</th>\n",
       "      <th>r</th>\n",
       "      <th>i</th>\n",
       "      <th>z</th>\n",
       "      <th>run</th>\n",
       "      <th>rerun</th>\n",
       "      <th>camcol</th>\n",
       "      <th>field</th>\n",
       "      <th>specobjid</th>\n",
       "      <th>class</th>\n",
       "      <th>redshift</th>\n",
       "      <th>plate</th>\n",
       "      <th>mjd</th>\n",
       "      <th>fiberid</th>\n",
       "    </tr>\n",
       "  </thead>\n",
       "  <tbody>\n",
       "    <tr>\n",
       "      <th>0</th>\n",
       "      <td>1.237650e+18</td>\n",
       "      <td>183.531326</td>\n",
       "      <td>0.089693</td>\n",
       "      <td>19.47406</td>\n",
       "      <td>17.04240</td>\n",
       "      <td>15.94699</td>\n",
       "      <td>15.50342</td>\n",
       "      <td>15.22531</td>\n",
       "      <td>752</td>\n",
       "      <td>301</td>\n",
       "      <td>4</td>\n",
       "      <td>267</td>\n",
       "      <td>3.722360e+18</td>\n",
       "      <td>STAR</td>\n",
       "      <td>-0.000009</td>\n",
       "      <td>3306</td>\n",
       "      <td>54922</td>\n",
       "      <td>491</td>\n",
       "    </tr>\n",
       "    <tr>\n",
       "      <th>1</th>\n",
       "      <td>1.237650e+18</td>\n",
       "      <td>183.598371</td>\n",
       "      <td>0.135285</td>\n",
       "      <td>18.66280</td>\n",
       "      <td>17.21449</td>\n",
       "      <td>16.67637</td>\n",
       "      <td>16.48922</td>\n",
       "      <td>16.39150</td>\n",
       "      <td>752</td>\n",
       "      <td>301</td>\n",
       "      <td>4</td>\n",
       "      <td>267</td>\n",
       "      <td>3.638140e+17</td>\n",
       "      <td>STAR</td>\n",
       "      <td>-0.000055</td>\n",
       "      <td>323</td>\n",
       "      <td>51615</td>\n",
       "      <td>541</td>\n",
       "    </tr>\n",
       "    <tr>\n",
       "      <th>2</th>\n",
       "      <td>1.237650e+18</td>\n",
       "      <td>183.680207</td>\n",
       "      <td>0.126185</td>\n",
       "      <td>19.38298</td>\n",
       "      <td>18.19169</td>\n",
       "      <td>17.47428</td>\n",
       "      <td>17.08732</td>\n",
       "      <td>16.80125</td>\n",
       "      <td>752</td>\n",
       "      <td>301</td>\n",
       "      <td>4</td>\n",
       "      <td>268</td>\n",
       "      <td>3.232740e+17</td>\n",
       "      <td>GALAXY</td>\n",
       "      <td>0.123111</td>\n",
       "      <td>287</td>\n",
       "      <td>52023</td>\n",
       "      <td>513</td>\n",
       "    </tr>\n",
       "    <tr>\n",
       "      <th>3</th>\n",
       "      <td>1.237650e+18</td>\n",
       "      <td>183.870529</td>\n",
       "      <td>0.049911</td>\n",
       "      <td>17.76536</td>\n",
       "      <td>16.60272</td>\n",
       "      <td>16.16116</td>\n",
       "      <td>15.98233</td>\n",
       "      <td>15.90438</td>\n",
       "      <td>752</td>\n",
       "      <td>301</td>\n",
       "      <td>4</td>\n",
       "      <td>269</td>\n",
       "      <td>3.722370e+18</td>\n",
       "      <td>STAR</td>\n",
       "      <td>-0.000111</td>\n",
       "      <td>3306</td>\n",
       "      <td>54922</td>\n",
       "      <td>510</td>\n",
       "    </tr>\n",
       "    <tr>\n",
       "      <th>4</th>\n",
       "      <td>1.237650e+18</td>\n",
       "      <td>183.883288</td>\n",
       "      <td>0.102557</td>\n",
       "      <td>17.55025</td>\n",
       "      <td>16.26342</td>\n",
       "      <td>16.43869</td>\n",
       "      <td>16.55492</td>\n",
       "      <td>16.61326</td>\n",
       "      <td>752</td>\n",
       "      <td>301</td>\n",
       "      <td>4</td>\n",
       "      <td>269</td>\n",
       "      <td>3.722370e+18</td>\n",
       "      <td>STAR</td>\n",
       "      <td>0.000590</td>\n",
       "      <td>3306</td>\n",
       "      <td>54922</td>\n",
       "      <td>512</td>\n",
       "    </tr>\n",
       "    <tr>\n",
       "      <th>...</th>\n",
       "      <td>...</td>\n",
       "      <td>...</td>\n",
       "      <td>...</td>\n",
       "      <td>...</td>\n",
       "      <td>...</td>\n",
       "      <td>...</td>\n",
       "      <td>...</td>\n",
       "      <td>...</td>\n",
       "      <td>...</td>\n",
       "      <td>...</td>\n",
       "      <td>...</td>\n",
       "      <td>...</td>\n",
       "      <td>...</td>\n",
       "      <td>...</td>\n",
       "      <td>...</td>\n",
       "      <td>...</td>\n",
       "      <td>...</td>\n",
       "      <td>...</td>\n",
       "    </tr>\n",
       "    <tr>\n",
       "      <th>9995</th>\n",
       "      <td>1.237650e+18</td>\n",
       "      <td>131.316413</td>\n",
       "      <td>51.539547</td>\n",
       "      <td>18.81777</td>\n",
       "      <td>17.47053</td>\n",
       "      <td>16.91508</td>\n",
       "      <td>16.68305</td>\n",
       "      <td>16.50570</td>\n",
       "      <td>1345</td>\n",
       "      <td>301</td>\n",
       "      <td>3</td>\n",
       "      <td>161</td>\n",
       "      <td>5.033450e+17</td>\n",
       "      <td>GALAXY</td>\n",
       "      <td>0.027583</td>\n",
       "      <td>447</td>\n",
       "      <td>51877</td>\n",
       "      <td>246</td>\n",
       "    </tr>\n",
       "    <tr>\n",
       "      <th>9996</th>\n",
       "      <td>1.237650e+18</td>\n",
       "      <td>131.306083</td>\n",
       "      <td>51.671341</td>\n",
       "      <td>18.27255</td>\n",
       "      <td>17.43849</td>\n",
       "      <td>17.07692</td>\n",
       "      <td>16.71661</td>\n",
       "      <td>16.69897</td>\n",
       "      <td>1345</td>\n",
       "      <td>301</td>\n",
       "      <td>3</td>\n",
       "      <td>162</td>\n",
       "      <td>5.033400e+17</td>\n",
       "      <td>GALAXY</td>\n",
       "      <td>0.117772</td>\n",
       "      <td>447</td>\n",
       "      <td>51877</td>\n",
       "      <td>228</td>\n",
       "    </tr>\n",
       "    <tr>\n",
       "      <th>9997</th>\n",
       "      <td>1.237650e+18</td>\n",
       "      <td>131.552562</td>\n",
       "      <td>51.666986</td>\n",
       "      <td>18.75818</td>\n",
       "      <td>17.77784</td>\n",
       "      <td>17.51872</td>\n",
       "      <td>17.43302</td>\n",
       "      <td>17.42048</td>\n",
       "      <td>1345</td>\n",
       "      <td>301</td>\n",
       "      <td>3</td>\n",
       "      <td>162</td>\n",
       "      <td>8.222620e+18</td>\n",
       "      <td>STAR</td>\n",
       "      <td>-0.000402</td>\n",
       "      <td>7303</td>\n",
       "      <td>57013</td>\n",
       "      <td>622</td>\n",
       "    </tr>\n",
       "    <tr>\n",
       "      <th>9998</th>\n",
       "      <td>1.237650e+18</td>\n",
       "      <td>131.477151</td>\n",
       "      <td>51.753068</td>\n",
       "      <td>18.88287</td>\n",
       "      <td>17.91068</td>\n",
       "      <td>17.53152</td>\n",
       "      <td>17.36284</td>\n",
       "      <td>17.13988</td>\n",
       "      <td>1345</td>\n",
       "      <td>301</td>\n",
       "      <td>3</td>\n",
       "      <td>163</td>\n",
       "      <td>5.033400e+17</td>\n",
       "      <td>GALAXY</td>\n",
       "      <td>0.014019</td>\n",
       "      <td>447</td>\n",
       "      <td>51877</td>\n",
       "      <td>229</td>\n",
       "    </tr>\n",
       "    <tr>\n",
       "      <th>9999</th>\n",
       "      <td>1.237650e+18</td>\n",
       "      <td>131.665012</td>\n",
       "      <td>51.805307</td>\n",
       "      <td>19.27586</td>\n",
       "      <td>17.37829</td>\n",
       "      <td>16.30542</td>\n",
       "      <td>15.83548</td>\n",
       "      <td>15.50588</td>\n",
       "      <td>1345</td>\n",
       "      <td>301</td>\n",
       "      <td>3</td>\n",
       "      <td>163</td>\n",
       "      <td>5.033410e+17</td>\n",
       "      <td>GALAXY</td>\n",
       "      <td>0.118417</td>\n",
       "      <td>447</td>\n",
       "      <td>51877</td>\n",
       "      <td>233</td>\n",
       "    </tr>\n",
       "  </tbody>\n",
       "</table>\n",
       "<p>10000 rows × 18 columns</p>\n",
       "</div>"
      ],
      "text/plain": [
       "             objid          ra        dec         u         g         r  \\\n",
       "0     1.237650e+18  183.531326   0.089693  19.47406  17.04240  15.94699   \n",
       "1     1.237650e+18  183.598371   0.135285  18.66280  17.21449  16.67637   \n",
       "2     1.237650e+18  183.680207   0.126185  19.38298  18.19169  17.47428   \n",
       "3     1.237650e+18  183.870529   0.049911  17.76536  16.60272  16.16116   \n",
       "4     1.237650e+18  183.883288   0.102557  17.55025  16.26342  16.43869   \n",
       "...            ...         ...        ...       ...       ...       ...   \n",
       "9995  1.237650e+18  131.316413  51.539547  18.81777  17.47053  16.91508   \n",
       "9996  1.237650e+18  131.306083  51.671341  18.27255  17.43849  17.07692   \n",
       "9997  1.237650e+18  131.552562  51.666986  18.75818  17.77784  17.51872   \n",
       "9998  1.237650e+18  131.477151  51.753068  18.88287  17.91068  17.53152   \n",
       "9999  1.237650e+18  131.665012  51.805307  19.27586  17.37829  16.30542   \n",
       "\n",
       "             i         z   run  rerun  camcol  field     specobjid   class  \\\n",
       "0     15.50342  15.22531   752    301       4    267  3.722360e+18    STAR   \n",
       "1     16.48922  16.39150   752    301       4    267  3.638140e+17    STAR   \n",
       "2     17.08732  16.80125   752    301       4    268  3.232740e+17  GALAXY   \n",
       "3     15.98233  15.90438   752    301       4    269  3.722370e+18    STAR   \n",
       "4     16.55492  16.61326   752    301       4    269  3.722370e+18    STAR   \n",
       "...        ...       ...   ...    ...     ...    ...           ...     ...   \n",
       "9995  16.68305  16.50570  1345    301       3    161  5.033450e+17  GALAXY   \n",
       "9996  16.71661  16.69897  1345    301       3    162  5.033400e+17  GALAXY   \n",
       "9997  17.43302  17.42048  1345    301       3    162  8.222620e+18    STAR   \n",
       "9998  17.36284  17.13988  1345    301       3    163  5.033400e+17  GALAXY   \n",
       "9999  15.83548  15.50588  1345    301       3    163  5.033410e+17  GALAXY   \n",
       "\n",
       "      redshift  plate    mjd  fiberid  \n",
       "0    -0.000009   3306  54922      491  \n",
       "1    -0.000055    323  51615      541  \n",
       "2     0.123111    287  52023      513  \n",
       "3    -0.000111   3306  54922      510  \n",
       "4     0.000590   3306  54922      512  \n",
       "...        ...    ...    ...      ...  \n",
       "9995  0.027583    447  51877      246  \n",
       "9996  0.117772    447  51877      228  \n",
       "9997 -0.000402   7303  57013      622  \n",
       "9998  0.014019    447  51877      229  \n",
       "9999  0.118417    447  51877      233  \n",
       "\n",
       "[10000 rows x 18 columns]"
      ]
     },
     "execution_count": 2,
     "metadata": {},
     "output_type": "execute_result"
    }
   ],
   "source": [
    "space=pd.read_csv('space_server.csv')\n",
    "space"
   ]
  },
  {
   "cell_type": "code",
   "execution_count": 3,
   "metadata": {},
   "outputs": [
    {
     "data": {
      "text/plain": [
       "False"
      ]
     },
     "execution_count": 3,
     "metadata": {},
     "output_type": "execute_result"
    }
   ],
   "source": [
    "space.isnull().values.any()"
   ]
  },
  {
   "cell_type": "markdown",
   "metadata": {},
   "source": [
    "no null values are present in the dataset."
   ]
  },
  {
   "cell_type": "code",
   "execution_count": 4,
   "metadata": {},
   "outputs": [
    {
     "data": {
      "text/plain": [
       "objid        float64\n",
       "ra           float64\n",
       "dec          float64\n",
       "u            float64\n",
       "g            float64\n",
       "r            float64\n",
       "i            float64\n",
       "z            float64\n",
       "run            int64\n",
       "rerun          int64\n",
       "camcol         int64\n",
       "field          int64\n",
       "specobjid    float64\n",
       "class         object\n",
       "redshift     float64\n",
       "plate          int64\n",
       "mjd            int64\n",
       "fiberid        int64\n",
       "dtype: object"
      ]
     },
     "execution_count": 4,
     "metadata": {},
     "output_type": "execute_result"
    }
   ],
   "source": [
    "space.dtypes"
   ]
  },
  {
   "cell_type": "code",
   "execution_count": 5,
   "metadata": {},
   "outputs": [
    {
     "data": {
      "text/plain": [
       "GALAXY    4998\n",
       "STAR      4152\n",
       "QSO        850\n",
       "Name: class, dtype: int64"
      ]
     },
     "execution_count": 5,
     "metadata": {},
     "output_type": "execute_result"
    }
   ],
   "source": [
    "space['class'].value_counts()"
   ]
  },
  {
   "cell_type": "markdown",
   "metadata": {},
   "source": [
    "data is in classes of 3 therefore it is a classification type of problem statement."
   ]
  },
  {
   "cell_type": "code",
   "execution_count": 6,
   "metadata": {},
   "outputs": [
    {
     "data": {
      "text/plain": [
       "4    1834\n",
       "5    1827\n",
       "6    1769\n",
       "2    1712\n",
       "3    1560\n",
       "1    1298\n",
       "Name: camcol, dtype: int64"
      ]
     },
     "execution_count": 6,
     "metadata": {},
     "output_type": "execute_result"
    }
   ],
   "source": [
    "space['camcol'].value_counts()"
   ]
  },
  {
   "cell_type": "code",
   "execution_count": 7,
   "metadata": {},
   "outputs": [
    {
     "data": {
      "text/plain": [
       "0"
      ]
     },
     "execution_count": 7,
     "metadata": {},
     "output_type": "execute_result"
    }
   ],
   "source": [
    "space['objid'].isnull().sum()"
   ]
  },
  {
   "cell_type": "markdown",
   "metadata": {},
   "source": [
    "# summary stats"
   ]
  },
  {
   "cell_type": "code",
   "execution_count": 8,
   "metadata": {},
   "outputs": [
    {
     "data": {
      "text/html": [
       "<div>\n",
       "<style scoped>\n",
       "    .dataframe tbody tr th:only-of-type {\n",
       "        vertical-align: middle;\n",
       "    }\n",
       "\n",
       "    .dataframe tbody tr th {\n",
       "        vertical-align: top;\n",
       "    }\n",
       "\n",
       "    .dataframe thead th {\n",
       "        text-align: right;\n",
       "    }\n",
       "</style>\n",
       "<table border=\"1\" class=\"dataframe\">\n",
       "  <thead>\n",
       "    <tr style=\"text-align: right;\">\n",
       "      <th></th>\n",
       "      <th>objid</th>\n",
       "      <th>ra</th>\n",
       "      <th>dec</th>\n",
       "      <th>u</th>\n",
       "      <th>g</th>\n",
       "      <th>r</th>\n",
       "      <th>i</th>\n",
       "      <th>z</th>\n",
       "      <th>run</th>\n",
       "      <th>rerun</th>\n",
       "      <th>camcol</th>\n",
       "      <th>field</th>\n",
       "      <th>specobjid</th>\n",
       "      <th>redshift</th>\n",
       "      <th>plate</th>\n",
       "      <th>mjd</th>\n",
       "      <th>fiberid</th>\n",
       "    </tr>\n",
       "  </thead>\n",
       "  <tbody>\n",
       "    <tr>\n",
       "      <th>count</th>\n",
       "      <td>1.000000e+04</td>\n",
       "      <td>10000.000000</td>\n",
       "      <td>10000.000000</td>\n",
       "      <td>10000.000000</td>\n",
       "      <td>10000.000000</td>\n",
       "      <td>10000.000000</td>\n",
       "      <td>10000.000000</td>\n",
       "      <td>10000.000000</td>\n",
       "      <td>10000.000000</td>\n",
       "      <td>10000.0</td>\n",
       "      <td>10000.000000</td>\n",
       "      <td>10000.000000</td>\n",
       "      <td>1.000000e+04</td>\n",
       "      <td>10000.000000</td>\n",
       "      <td>10000.000000</td>\n",
       "      <td>10000.000000</td>\n",
       "      <td>10000.000000</td>\n",
       "    </tr>\n",
       "    <tr>\n",
       "      <th>mean</th>\n",
       "      <td>1.237650e+18</td>\n",
       "      <td>175.529987</td>\n",
       "      <td>14.836148</td>\n",
       "      <td>18.619355</td>\n",
       "      <td>17.371931</td>\n",
       "      <td>16.840963</td>\n",
       "      <td>16.583579</td>\n",
       "      <td>16.422833</td>\n",
       "      <td>981.034800</td>\n",
       "      <td>301.0</td>\n",
       "      <td>3.648700</td>\n",
       "      <td>302.380100</td>\n",
       "      <td>1.645022e+18</td>\n",
       "      <td>0.143726</td>\n",
       "      <td>1460.986400</td>\n",
       "      <td>52943.533300</td>\n",
       "      <td>353.069400</td>\n",
       "    </tr>\n",
       "    <tr>\n",
       "      <th>std</th>\n",
       "      <td>1.577039e+05</td>\n",
       "      <td>47.783439</td>\n",
       "      <td>25.212207</td>\n",
       "      <td>0.828656</td>\n",
       "      <td>0.945457</td>\n",
       "      <td>1.067764</td>\n",
       "      <td>1.141805</td>\n",
       "      <td>1.203188</td>\n",
       "      <td>273.305024</td>\n",
       "      <td>0.0</td>\n",
       "      <td>1.666183</td>\n",
       "      <td>162.577763</td>\n",
       "      <td>2.013998e+18</td>\n",
       "      <td>0.388774</td>\n",
       "      <td>1788.778371</td>\n",
       "      <td>1511.150651</td>\n",
       "      <td>206.298149</td>\n",
       "    </tr>\n",
       "    <tr>\n",
       "      <th>min</th>\n",
       "      <td>1.237650e+18</td>\n",
       "      <td>8.235100</td>\n",
       "      <td>-5.382632</td>\n",
       "      <td>12.988970</td>\n",
       "      <td>12.799550</td>\n",
       "      <td>12.431600</td>\n",
       "      <td>11.947210</td>\n",
       "      <td>11.610410</td>\n",
       "      <td>308.000000</td>\n",
       "      <td>301.0</td>\n",
       "      <td>1.000000</td>\n",
       "      <td>11.000000</td>\n",
       "      <td>2.995780e+17</td>\n",
       "      <td>-0.004136</td>\n",
       "      <td>266.000000</td>\n",
       "      <td>51578.000000</td>\n",
       "      <td>1.000000</td>\n",
       "    </tr>\n",
       "    <tr>\n",
       "      <th>25%</th>\n",
       "      <td>1.237650e+18</td>\n",
       "      <td>157.370946</td>\n",
       "      <td>-0.539035</td>\n",
       "      <td>18.178035</td>\n",
       "      <td>16.815100</td>\n",
       "      <td>16.173333</td>\n",
       "      <td>15.853705</td>\n",
       "      <td>15.618285</td>\n",
       "      <td>752.000000</td>\n",
       "      <td>301.0</td>\n",
       "      <td>2.000000</td>\n",
       "      <td>184.000000</td>\n",
       "      <td>3.389248e+17</td>\n",
       "      <td>0.000081</td>\n",
       "      <td>301.000000</td>\n",
       "      <td>51900.000000</td>\n",
       "      <td>186.750000</td>\n",
       "    </tr>\n",
       "    <tr>\n",
       "      <th>50%</th>\n",
       "      <td>1.237650e+18</td>\n",
       "      <td>180.394514</td>\n",
       "      <td>0.404166</td>\n",
       "      <td>18.853095</td>\n",
       "      <td>17.495135</td>\n",
       "      <td>16.858770</td>\n",
       "      <td>16.554985</td>\n",
       "      <td>16.389945</td>\n",
       "      <td>756.000000</td>\n",
       "      <td>301.0</td>\n",
       "      <td>4.000000</td>\n",
       "      <td>299.000000</td>\n",
       "      <td>4.966580e+17</td>\n",
       "      <td>0.042591</td>\n",
       "      <td>441.000000</td>\n",
       "      <td>51997.000000</td>\n",
       "      <td>351.000000</td>\n",
       "    </tr>\n",
       "    <tr>\n",
       "      <th>75%</th>\n",
       "      <td>1.237650e+18</td>\n",
       "      <td>201.547279</td>\n",
       "      <td>35.649397</td>\n",
       "      <td>19.259232</td>\n",
       "      <td>18.010145</td>\n",
       "      <td>17.512675</td>\n",
       "      <td>17.258550</td>\n",
       "      <td>17.141447</td>\n",
       "      <td>1331.000000</td>\n",
       "      <td>301.0</td>\n",
       "      <td>5.000000</td>\n",
       "      <td>414.000000</td>\n",
       "      <td>2.881300e+18</td>\n",
       "      <td>0.092579</td>\n",
       "      <td>2559.000000</td>\n",
       "      <td>54468.000000</td>\n",
       "      <td>510.000000</td>\n",
       "    </tr>\n",
       "    <tr>\n",
       "      <th>max</th>\n",
       "      <td>1.237650e+18</td>\n",
       "      <td>260.884382</td>\n",
       "      <td>68.542265</td>\n",
       "      <td>19.599900</td>\n",
       "      <td>19.918970</td>\n",
       "      <td>24.802040</td>\n",
       "      <td>28.179630</td>\n",
       "      <td>22.833060</td>\n",
       "      <td>1412.000000</td>\n",
       "      <td>301.0</td>\n",
       "      <td>6.000000</td>\n",
       "      <td>768.000000</td>\n",
       "      <td>9.468830e+18</td>\n",
       "      <td>5.353854</td>\n",
       "      <td>8410.000000</td>\n",
       "      <td>57481.000000</td>\n",
       "      <td>1000.000000</td>\n",
       "    </tr>\n",
       "  </tbody>\n",
       "</table>\n",
       "</div>"
      ],
      "text/plain": [
       "              objid            ra           dec             u             g  \\\n",
       "count  1.000000e+04  10000.000000  10000.000000  10000.000000  10000.000000   \n",
       "mean   1.237650e+18    175.529987     14.836148     18.619355     17.371931   \n",
       "std    1.577039e+05     47.783439     25.212207      0.828656      0.945457   \n",
       "min    1.237650e+18      8.235100     -5.382632     12.988970     12.799550   \n",
       "25%    1.237650e+18    157.370946     -0.539035     18.178035     16.815100   \n",
       "50%    1.237650e+18    180.394514      0.404166     18.853095     17.495135   \n",
       "75%    1.237650e+18    201.547279     35.649397     19.259232     18.010145   \n",
       "max    1.237650e+18    260.884382     68.542265     19.599900     19.918970   \n",
       "\n",
       "                  r             i             z           run    rerun  \\\n",
       "count  10000.000000  10000.000000  10000.000000  10000.000000  10000.0   \n",
       "mean      16.840963     16.583579     16.422833    981.034800    301.0   \n",
       "std        1.067764      1.141805      1.203188    273.305024      0.0   \n",
       "min       12.431600     11.947210     11.610410    308.000000    301.0   \n",
       "25%       16.173333     15.853705     15.618285    752.000000    301.0   \n",
       "50%       16.858770     16.554985     16.389945    756.000000    301.0   \n",
       "75%       17.512675     17.258550     17.141447   1331.000000    301.0   \n",
       "max       24.802040     28.179630     22.833060   1412.000000    301.0   \n",
       "\n",
       "             camcol         field     specobjid      redshift         plate  \\\n",
       "count  10000.000000  10000.000000  1.000000e+04  10000.000000  10000.000000   \n",
       "mean       3.648700    302.380100  1.645022e+18      0.143726   1460.986400   \n",
       "std        1.666183    162.577763  2.013998e+18      0.388774   1788.778371   \n",
       "min        1.000000     11.000000  2.995780e+17     -0.004136    266.000000   \n",
       "25%        2.000000    184.000000  3.389248e+17      0.000081    301.000000   \n",
       "50%        4.000000    299.000000  4.966580e+17      0.042591    441.000000   \n",
       "75%        5.000000    414.000000  2.881300e+18      0.092579   2559.000000   \n",
       "max        6.000000    768.000000  9.468830e+18      5.353854   8410.000000   \n",
       "\n",
       "                mjd       fiberid  \n",
       "count  10000.000000  10000.000000  \n",
       "mean   52943.533300    353.069400  \n",
       "std     1511.150651    206.298149  \n",
       "min    51578.000000      1.000000  \n",
       "25%    51900.000000    186.750000  \n",
       "50%    51997.000000    351.000000  \n",
       "75%    54468.000000    510.000000  \n",
       "max    57481.000000   1000.000000  "
      ]
     },
     "execution_count": 8,
     "metadata": {},
     "output_type": "execute_result"
    }
   ],
   "source": [
    "space.describe()"
   ]
  },
  {
   "cell_type": "markdown",
   "metadata": {},
   "source": [
    "# observation:\n",
    "    huge difference in 75% and max values hence outliers are present.\n",
    "    data is right side skewed as mean is greater than our median."
   ]
  },
  {
   "cell_type": "code",
   "execution_count": 9,
   "metadata": {},
   "outputs": [
    {
     "data": {
      "text/plain": [
       "301    10000\n",
       "Name: rerun, dtype: int64"
      ]
     },
     "execution_count": 9,
     "metadata": {},
     "output_type": "execute_result"
    }
   ],
   "source": [
    "space['rerun'].value_counts()"
   ]
  },
  {
   "cell_type": "markdown",
   "metadata": {},
   "source": [
    "we can drop this columns as there is no use of it."
   ]
  },
  {
   "cell_type": "code",
   "execution_count": 10,
   "metadata": {},
   "outputs": [],
   "source": [
    "space.drop(['rerun'],axis=1,inplace=True)"
   ]
  },
  {
   "cell_type": "markdown",
   "metadata": {},
   "source": [
    "# data analysis univariate"
   ]
  },
  {
   "cell_type": "code",
   "execution_count": 11,
   "metadata": {},
   "outputs": [
    {
     "data": {
      "text/plain": [
       "<matplotlib.axes._subplots.AxesSubplot at 0x16cb59183a0>"
      ]
     },
     "execution_count": 11,
     "metadata": {},
     "output_type": "execute_result"
    },
    {
     "data": {
      "image/png": "[encoded data removed]",
      "text/plain": [
       "<Figure size 576x288 with 2 Axes>"
      ]
     },
     "metadata": {
      "needs_background": "light"
     },
     "output_type": "display_data"
    }
   ],
   "source": [
    "plt.figure(figsize=(8,4))\n",
    "sns.heatmap(space.isnull(),yticklabels=False,cmap='Blues')"
   ]
  },
  {
   "cell_type": "code",
   "execution_count": 12,
   "metadata": {},
   "outputs": [
    {
     "data": {
      "image/png": "[encoded data removed]",
      "text/plain": [
       "<Figure size 576x288 with 1 Axes>"
      ]
     },
     "metadata": {
      "needs_background": "light"
     },
     "output_type": "display_data"
    },
    {
     "name": "stdout",
     "output_type": "stream",
     "text": [
      "values as per the type GALAXY    4998\n",
      "STAR      4152\n",
      "QSO        850\n",
      "Name: class, dtype: int64\n"
     ]
    }
   ],
   "source": [
    "plt.figure(figsize=(8,4))\n",
    "sns.countplot(x='class',data=space)\n",
    "plt.ylabel('Frequency')\n",
    "plt.xlabel('type of class')\n",
    "plt.show()\n",
    "\n",
    "print('values as per the type',space['class'].value_counts())"
   ]
  },
  {
   "cell_type": "markdown",
   "metadata": {},
   "source": [
    "Galaxy has most the counts as per the data and QSO  has the least."
   ]
  },
  {
   "cell_type": "code",
   "execution_count": 13,
   "metadata": {},
   "outputs": [
    {
     "data": {
      "image/png": "[encoded data removed]",
      "text/plain": [
       "<Figure size 576x288 with 1 Axes>"
      ]
     },
     "metadata": {
      "needs_background": "light"
     },
     "output_type": "display_data"
    },
    {
     "name": "stdout",
     "output_type": "stream",
     "text": [
      "values as per the type 4    1834\n",
      "5    1827\n",
      "6    1769\n",
      "2    1712\n",
      "3    1560\n",
      "1    1298\n",
      "Name: camcol, dtype: int64\n"
     ]
    }
   ],
   "source": [
    "plt.figure(figsize=(8,4))\n",
    "sns.countplot(x='camcol',data=space)\n",
    "plt.ylabel('Frequency')\n",
    "plt.xlabel('type of camcol')\n",
    "plt.xticks(rotation=20)\n",
    "plt.show()\n",
    "\n",
    "print('values as per the type',space['camcol'].value_counts())"
   ]
  },
  {
   "cell_type": "code",
   "execution_count": 14,
   "metadata": {},
   "outputs": [
    {
     "data": {
      "image/png": "[encoded data removed]",
      "text/plain": [
       "<Figure size 1008x432 with 1 Axes>"
      ]
     },
     "metadata": {
      "needs_background": "light"
     },
     "output_type": "display_data"
    },
    {
     "name": "stdout",
     "output_type": "stream",
     "text": [
      "values as per the type 756     3060\n",
      "752     2086\n",
      "1345     915\n",
      "1350     540\n",
      "1140     527\n",
      "745      453\n",
      "1035     396\n",
      "1412     347\n",
      "1302     246\n",
      "1331     245\n",
      "1231     245\n",
      "1334     212\n",
      "1239     197\n",
      "1336     182\n",
      "1404     137\n",
      "1045     112\n",
      "1402      49\n",
      "308       31\n",
      "1411      10\n",
      "1356       4\n",
      "727        4\n",
      "1119       1\n",
      "1332       1\n",
      "Name: run, dtype: int64\n"
     ]
    }
   ],
   "source": [
    "plt.figure(figsize=(14,6))\n",
    "sns.countplot(x='run',data=space)\n",
    "plt.ylabel('Frequency')\n",
    "plt.xlabel('no. of of runs')\n",
    "plt.xticks(rotation=30)\n",
    "plt.show()\n",
    "\n",
    "print('values as per the type',space['run'].value_counts())"
   ]
  },
  {
   "cell_type": "code",
   "execution_count": 15,
   "metadata": {},
   "outputs": [
    {
     "data": {
      "image/png": "[encoded data removed]",
      "text/plain": [
       "<Figure size 1008x432 with 1 Axes>"
      ]
     },
     "metadata": {
      "needs_background": "light"
     },
     "output_type": "display_data"
    },
    {
     "name": "stdout",
     "output_type": "stream",
     "text": [
      "values as per the type 2558    222\n",
      "2559    221\n",
      "2895    166\n",
      "276     156\n",
      "7456    139\n",
      "       ... \n",
      "7319      1\n",
      "2952      1\n",
      "7090      1\n",
      "7562      1\n",
      "1635      1\n",
      "Name: plate, Length: 487, dtype: int64\n"
     ]
    }
   ],
   "source": [
    "plt.figure(figsize=(14,6))\n",
    "sns.countplot(x='plate',data=space)\n",
    "plt.ylabel('Frequency')\n",
    "plt.xlabel('no. of of plates')\n",
    "plt.show()\n",
    "\n",
    "print('values as per the type',space['plate'].value_counts())"
   ]
  },
  {
   "cell_type": "markdown",
   "metadata": {},
   "source": [
    "plate=2558 has received highest no. of counts."
   ]
  },
  {
   "cell_type": "code",
   "execution_count": 16,
   "metadata": {},
   "outputs": [
    {
     "data": {
      "image/png": "[encoded data removed]",
      "text/plain": [
       "<Figure size 1008x432 with 1 Axes>"
      ]
     },
     "metadata": {
      "needs_background": "light"
     },
     "output_type": "display_data"
    },
    {
     "name": "stdout",
     "output_type": "stream",
     "text": [
      "values as per the type 52000    312\n",
      "54140    222\n",
      "51909    222\n",
      "54208    221\n",
      "51908    214\n",
      "        ... \n",
      "53299      1\n",
      "55618      1\n",
      "56991      1\n",
      "51696      1\n",
      "53053      1\n",
      "Name: mjd, Length: 355, dtype: int64\n"
     ]
    }
   ],
   "source": [
    "plt.figure(figsize=(14,6))\n",
    "sns.countplot(x='mjd',data=space)\n",
    "plt.ylabel('Frequency')\n",
    "plt.xlabel('no. of mjd observation')\n",
    "plt.show()\n",
    "\n",
    "print('values as per the type',space['mjd'].value_counts())"
   ]
  },
  {
   "cell_type": "markdown",
   "metadata": {},
   "source": [
    "mjd observation 52000 received highest frequency or counts."
   ]
  },
  {
   "cell_type": "code",
   "execution_count": 15,
   "metadata": {},
   "outputs": [
    {
     "data": {
      "text/plain": [
       "<matplotlib.axes._subplots.AxesSubplot at 0x2bbcbf9fdc0>"
      ]
     },
     "execution_count": 15,
     "metadata": {},
     "output_type": "execute_result"
    },
    {
     "data": {
      "image/png": "[encoded data removed]",
      "text/plain": [
       "<Figure size 1008x432 with 2 Axes>"
      ]
     },
     "metadata": {
      "needs_background": "light"
     },
     "output_type": "display_data"
    }
   ],
   "source": [
    "plt.figure(figsize=(14,6))\n",
    "sns.heatmap(space.corr(),cmap='winter',fmt='.0%',annot=True)"
   ]
  },
  {
   "cell_type": "markdown",
   "metadata": {},
   "source": [
    "field and run column have received negatively correlation."
   ]
  },
  {
   "cell_type": "markdown",
   "metadata": {},
   "source": [
    "# biviriate analysis"
   ]
  },
  {
   "cell_type": "code",
   "execution_count": 18,
   "metadata": {},
   "outputs": [
    {
     "data": {
      "image/png": "[encoded data removed]",
      "text/plain": [
       "<Figure size 1008x432 with 1 Axes>"
      ]
     },
     "metadata": {
      "needs_background": "light"
     },
     "output_type": "display_data"
    },
    {
     "name": "stdout",
     "output_type": "stream",
     "text": [
      "values as per the type run   class \n",
      "308   STAR       27\n",
      "      GALAXY      4\n",
      "727   GALAXY      3\n",
      "      QSO         1\n",
      "745   GALAXY    230\n",
      "               ... \n",
      "1411  STAR        2\n",
      "      QSO         1\n",
      "1412  GALAXY    156\n",
      "      STAR      153\n",
      "      QSO        38\n",
      "Name: class, Length: 62, dtype: int64\n"
     ]
    }
   ],
   "source": [
    "plt.figure(figsize=(14,6))\n",
    "sns.countplot(x='run',hue='class',data=space)\n",
    "plt.ylabel('frequency')\n",
    "plt.xlabel('classes according to runs')\n",
    "plt.show()\n",
    "\n",
    "print('values as per the type',space.groupby('run')['class'].value_counts())"
   ]
  },
  {
   "cell_type": "raw",
   "metadata": {},
   "source": [
    "# run 756 have highest no of classes."
   ]
  },
  {
   "cell_type": "code",
   "execution_count": 19,
   "metadata": {},
   "outputs": [
    {
     "data": {
      "image/png": "[encoded data removed]",
      "text/plain": [
       "<Figure size 1008x432 with 1 Axes>"
      ]
     },
     "metadata": {
      "needs_background": "light"
     },
     "output_type": "display_data"
    },
    {
     "name": "stdout",
     "output_type": "stream",
     "text": [
      "values as per the type field  class \n",
      "11     STAR      17\n",
      "       GALAXY     7\n",
      "12     STAR      12\n",
      "       GALAXY     9\n",
      "13     STAR      13\n",
      "                 ..\n",
      "764    GALAXY     1\n",
      "765    STAR       4\n",
      "766    STAR       3\n",
      "767    STAR       5\n",
      "768    STAR       3\n",
      "Name: class, Length: 1743, dtype: int64\n"
     ]
    }
   ],
   "source": [
    "plt.figure(figsize=(14,6))\n",
    "sns.countplot(x='field',hue='class',data=space)\n",
    "plt.ylabel('frequency')\n",
    "plt.xlabel('classes according to field')\n",
    "plt.show()\n",
    "\n",
    "print('values as per the type',space.groupby('field')['class'].value_counts())"
   ]
  },
  {
   "cell_type": "code",
   "execution_count": 20,
   "metadata": {},
   "outputs": [
    {
     "data": {
      "image/png": "[encoded data removed]",
      "text/plain": [
       "<Figure size 1008x432 with 1 Axes>"
      ]
     },
     "metadata": {
      "needs_background": "light"
     },
     "output_type": "display_data"
    },
    {
     "name": "stdout",
     "output_type": "stream",
     "text": [
      "values as per the type camcol  class \n",
      "1       GALAXY    687\n",
      "        STAR      497\n",
      "        QSO       114\n",
      "2       GALAXY    818\n",
      "        STAR      758\n",
      "        QSO       136\n",
      "3       GALAXY    752\n",
      "        STAR      690\n",
      "        QSO       118\n",
      "4       GALAXY    901\n",
      "        STAR      772\n",
      "        QSO       161\n",
      "5       GALAXY    957\n",
      "        STAR      700\n",
      "        QSO       170\n",
      "6       GALAXY    883\n",
      "        STAR      735\n",
      "        QSO       151\n",
      "Name: class, dtype: int64\n"
     ]
    }
   ],
   "source": [
    "plt.figure(figsize=(14,6))\n",
    "sns.countplot(x='camcol',hue='class',data=space)\n",
    "plt.ylabel('frequency')\n",
    "plt.xlabel('classes according to field')\n",
    "plt.show()\n",
    "\n",
    "print('values as per the type',space.groupby('camcol')['class'].value_counts())"
   ]
  },
  {
   "cell_type": "markdown",
   "metadata": {},
   "source": [
    "camcol 5 have recieved highest no. of classes."
   ]
  },
  {
   "cell_type": "code",
   "execution_count": 16,
   "metadata": {},
   "outputs": [
    {
     "data": {
      "text/plain": [
       "<seaborn.axisgrid.FacetGrid at 0x2bbcd85ad60>"
      ]
     },
     "execution_count": 16,
     "metadata": {},
     "output_type": "execute_result"
    },
    {
     "data": {
      "image/png": "[encoded data removed]",
      "text/plain": [
       "<Figure size 648x216 with 3 Axes>"
      ]
     },
     "metadata": {
      "needs_background": "light"
     },
     "output_type": "display_data"
    }
   ],
   "source": [
    "facet=sns.FacetGrid(space,col='class')\n",
    "facet.map(sns.distplot,'camcol')"
   ]
  },
  {
   "cell_type": "code",
   "execution_count": 17,
   "metadata": {},
   "outputs": [
    {
     "data": {
      "text/plain": [
       "<seaborn.axisgrid.FacetGrid at 0x2bbcd474190>"
      ]
     },
     "execution_count": 17,
     "metadata": {},
     "output_type": "execute_result"
    },
    {
     "data": {
      "image/png": "[encoded data removed]",
      "text/plain": [
       "<Figure size 648x216 with 3 Axes>"
      ]
     },
     "metadata": {
      "needs_background": "light"
     },
     "output_type": "display_data"
    }
   ],
   "source": [
    "facet=sns.FacetGrid(space,col='class')\n",
    "facet.map(sns.distplot,'run')"
   ]
  },
  {
   "cell_type": "code",
   "execution_count": 12,
   "metadata": {},
   "outputs": [
    {
     "data": {
      "text/plain": [
       "objid        0.000000\n",
       "ra          -1.227350\n",
       "dec          1.191544\n",
       "u           -1.219795\n",
       "g           -0.536293\n",
       "r           -0.021673\n",
       "i            0.286442\n",
       "z            0.214313\n",
       "run          0.412555\n",
       "camcol      -0.100220\n",
       "field        0.249795\n",
       "specobjid    1.794627\n",
       "redshift     4.265729\n",
       "plate        1.794609\n",
       "mjd          1.039610\n",
       "fiberid      0.308053\n",
       "dtype: float64"
      ]
     },
     "execution_count": 12,
     "metadata": {},
     "output_type": "execute_result"
    }
   ],
   "source": [
    "space.skew()"
   ]
  },
  {
   "cell_type": "code",
   "execution_count": 13,
   "metadata": {},
   "outputs": [],
   "source": [
    "for c in space.skew().index:\n",
    "    if c in space.describe().columns:\n",
    "        if space[c].skew()>0.55:\n",
    "            space[c]=np.sqrt(space[c])\n",
    "        if space[c].skew()<-0.55:\n",
    "            space[c]=np.cbrt(space[c])"
   ]
  },
  {
   "cell_type": "code",
   "execution_count": 14,
   "metadata": {},
   "outputs": [
    {
     "data": {
      "text/plain": [
       "objid        0.000000\n",
       "ra          -2.773755\n",
       "dec          0.298224\n",
       "u           -1.315798\n",
       "g           -0.536293\n",
       "r           -0.021673\n",
       "i            0.286442\n",
       "z            0.214313\n",
       "run          0.412555\n",
       "camcol      -0.100220\n",
       "field        0.249795\n",
       "specobjid    1.093905\n",
       "redshift     2.268173\n",
       "plate        1.093870\n",
       "mjd          1.025184\n",
       "fiberid      0.308053\n",
       "dtype: float64"
      ]
     },
     "execution_count": 14,
     "metadata": {},
     "output_type": "execute_result"
    }
   ],
   "source": [
    "space.skew()"
   ]
  },
  {
   "cell_type": "code",
   "execution_count": 15,
   "metadata": {},
   "outputs": [
    {
     "data": {
      "text/html": [
       "<div>\n",
       "<style scoped>\n",
       "    .dataframe tbody tr th:only-of-type {\n",
       "        vertical-align: middle;\n",
       "    }\n",
       "\n",
       "    .dataframe tbody tr th {\n",
       "        vertical-align: top;\n",
       "    }\n",
       "\n",
       "    .dataframe thead th {\n",
       "        text-align: right;\n",
       "    }\n",
       "</style>\n",
       "<table border=\"1\" class=\"dataframe\">\n",
       "  <thead>\n",
       "    <tr style=\"text-align: right;\">\n",
       "      <th></th>\n",
       "      <th>objid</th>\n",
       "      <th>ra</th>\n",
       "      <th>dec</th>\n",
       "      <th>u</th>\n",
       "      <th>g</th>\n",
       "      <th>r</th>\n",
       "      <th>i</th>\n",
       "      <th>z</th>\n",
       "      <th>run</th>\n",
       "      <th>camcol</th>\n",
       "      <th>field</th>\n",
       "      <th>specobjid</th>\n",
       "      <th>class</th>\n",
       "      <th>redshift</th>\n",
       "      <th>plate</th>\n",
       "      <th>mjd</th>\n",
       "      <th>fiberid</th>\n",
       "    </tr>\n",
       "  </thead>\n",
       "  <tbody>\n",
       "    <tr>\n",
       "      <th>0</th>\n",
       "      <td>1.237650e+18</td>\n",
       "      <td>5.682901</td>\n",
       "      <td>0.299488</td>\n",
       "      <td>2.690412</td>\n",
       "      <td>17.04240</td>\n",
       "      <td>15.94699</td>\n",
       "      <td>15.50342</td>\n",
       "      <td>15.22531</td>\n",
       "      <td>752</td>\n",
       "      <td>4</td>\n",
       "      <td>267</td>\n",
       "      <td>1.929342e+09</td>\n",
       "      <td>2</td>\n",
       "      <td>NaN</td>\n",
       "      <td>57.497826</td>\n",
       "      <td>234.354432</td>\n",
       "      <td>491</td>\n",
       "    </tr>\n",
       "    <tr>\n",
       "      <th>1</th>\n",
       "      <td>1.237650e+18</td>\n",
       "      <td>5.683593</td>\n",
       "      <td>0.367811</td>\n",
       "      <td>2.652522</td>\n",
       "      <td>17.21449</td>\n",
       "      <td>16.67637</td>\n",
       "      <td>16.48922</td>\n",
       "      <td>16.39150</td>\n",
       "      <td>752</td>\n",
       "      <td>4</td>\n",
       "      <td>267</td>\n",
       "      <td>6.031700e+08</td>\n",
       "      <td>2</td>\n",
       "      <td>NaN</td>\n",
       "      <td>17.972201</td>\n",
       "      <td>227.189348</td>\n",
       "      <td>541</td>\n",
       "    </tr>\n",
       "    <tr>\n",
       "      <th>2</th>\n",
       "      <td>1.237650e+18</td>\n",
       "      <td>5.684437</td>\n",
       "      <td>0.355225</td>\n",
       "      <td>2.686211</td>\n",
       "      <td>18.19169</td>\n",
       "      <td>17.47428</td>\n",
       "      <td>17.08732</td>\n",
       "      <td>16.80125</td>\n",
       "      <td>752</td>\n",
       "      <td>4</td>\n",
       "      <td>268</td>\n",
       "      <td>5.685719e+08</td>\n",
       "      <td>0</td>\n",
       "      <td>0.350872</td>\n",
       "      <td>16.941074</td>\n",
       "      <td>228.085510</td>\n",
       "      <td>513</td>\n",
       "    </tr>\n",
       "    <tr>\n",
       "      <th>3</th>\n",
       "      <td>1.237650e+18</td>\n",
       "      <td>5.686400</td>\n",
       "      <td>0.223407</td>\n",
       "      <td>2.609304</td>\n",
       "      <td>16.60272</td>\n",
       "      <td>16.16116</td>\n",
       "      <td>15.98233</td>\n",
       "      <td>15.90438</td>\n",
       "      <td>752</td>\n",
       "      <td>4</td>\n",
       "      <td>269</td>\n",
       "      <td>1.929344e+09</td>\n",
       "      <td>2</td>\n",
       "      <td>NaN</td>\n",
       "      <td>57.497826</td>\n",
       "      <td>234.354432</td>\n",
       "      <td>510</td>\n",
       "    </tr>\n",
       "    <tr>\n",
       "      <th>4</th>\n",
       "      <td>1.237650e+18</td>\n",
       "      <td>5.686531</td>\n",
       "      <td>0.320245</td>\n",
       "      <td>2.598730</td>\n",
       "      <td>16.26342</td>\n",
       "      <td>16.43869</td>\n",
       "      <td>16.55492</td>\n",
       "      <td>16.61326</td>\n",
       "      <td>752</td>\n",
       "      <td>4</td>\n",
       "      <td>269</td>\n",
       "      <td>1.929344e+09</td>\n",
       "      <td>2</td>\n",
       "      <td>0.024297</td>\n",
       "      <td>57.497826</td>\n",
       "      <td>234.354432</td>\n",
       "      <td>512</td>\n",
       "    </tr>\n",
       "    <tr>\n",
       "      <th>...</th>\n",
       "      <td>...</td>\n",
       "      <td>...</td>\n",
       "      <td>...</td>\n",
       "      <td>...</td>\n",
       "      <td>...</td>\n",
       "      <td>...</td>\n",
       "      <td>...</td>\n",
       "      <td>...</td>\n",
       "      <td>...</td>\n",
       "      <td>...</td>\n",
       "      <td>...</td>\n",
       "      <td>...</td>\n",
       "      <td>...</td>\n",
       "      <td>...</td>\n",
       "      <td>...</td>\n",
       "      <td>...</td>\n",
       "      <td>...</td>\n",
       "    </tr>\n",
       "    <tr>\n",
       "      <th>9995</th>\n",
       "      <td>1.237650e+18</td>\n",
       "      <td>5.082839</td>\n",
       "      <td>7.179105</td>\n",
       "      <td>2.659843</td>\n",
       "      <td>17.47053</td>\n",
       "      <td>16.91508</td>\n",
       "      <td>16.68305</td>\n",
       "      <td>16.50570</td>\n",
       "      <td>1345</td>\n",
       "      <td>3</td>\n",
       "      <td>161</td>\n",
       "      <td>7.094681e+08</td>\n",
       "      <td>0</td>\n",
       "      <td>0.166081</td>\n",
       "      <td>21.142375</td>\n",
       "      <td>227.765230</td>\n",
       "      <td>246</td>\n",
       "    </tr>\n",
       "    <tr>\n",
       "      <th>9996</th>\n",
       "      <td>1.237650e+18</td>\n",
       "      <td>5.082706</td>\n",
       "      <td>7.188278</td>\n",
       "      <td>2.633903</td>\n",
       "      <td>17.43849</td>\n",
       "      <td>17.07692</td>\n",
       "      <td>16.71661</td>\n",
       "      <td>16.69897</td>\n",
       "      <td>1345</td>\n",
       "      <td>3</td>\n",
       "      <td>162</td>\n",
       "      <td>7.094646e+08</td>\n",
       "      <td>0</td>\n",
       "      <td>0.343180</td>\n",
       "      <td>21.142375</td>\n",
       "      <td>227.765230</td>\n",
       "      <td>228</td>\n",
       "    </tr>\n",
       "    <tr>\n",
       "      <th>9997</th>\n",
       "      <td>1.237650e+18</td>\n",
       "      <td>5.085884</td>\n",
       "      <td>7.187975</td>\n",
       "      <td>2.657033</td>\n",
       "      <td>17.77784</td>\n",
       "      <td>17.51872</td>\n",
       "      <td>17.43302</td>\n",
       "      <td>17.42048</td>\n",
       "      <td>1345</td>\n",
       "      <td>3</td>\n",
       "      <td>162</td>\n",
       "      <td>2.867511e+09</td>\n",
       "      <td>2</td>\n",
       "      <td>NaN</td>\n",
       "      <td>85.457592</td>\n",
       "      <td>238.773952</td>\n",
       "      <td>622</td>\n",
       "    </tr>\n",
       "    <tr>\n",
       "      <th>9998</th>\n",
       "      <td>1.237650e+18</td>\n",
       "      <td>5.084912</td>\n",
       "      <td>7.193961</td>\n",
       "      <td>2.662907</td>\n",
       "      <td>17.91068</td>\n",
       "      <td>17.53152</td>\n",
       "      <td>17.36284</td>\n",
       "      <td>17.13988</td>\n",
       "      <td>1345</td>\n",
       "      <td>3</td>\n",
       "      <td>163</td>\n",
       "      <td>7.094646e+08</td>\n",
       "      <td>0</td>\n",
       "      <td>0.118402</td>\n",
       "      <td>21.142375</td>\n",
       "      <td>227.765230</td>\n",
       "      <td>229</td>\n",
       "    </tr>\n",
       "    <tr>\n",
       "      <th>9999</th>\n",
       "      <td>1.237650e+18</td>\n",
       "      <td>5.087333</td>\n",
       "      <td>7.197590</td>\n",
       "      <td>2.681254</td>\n",
       "      <td>17.37829</td>\n",
       "      <td>16.30542</td>\n",
       "      <td>15.83548</td>\n",
       "      <td>15.50588</td>\n",
       "      <td>1345</td>\n",
       "      <td>3</td>\n",
       "      <td>163</td>\n",
       "      <td>7.094653e+08</td>\n",
       "      <td>0</td>\n",
       "      <td>0.344118</td>\n",
       "      <td>21.142375</td>\n",
       "      <td>227.765230</td>\n",
       "      <td>233</td>\n",
       "    </tr>\n",
       "  </tbody>\n",
       "</table>\n",
       "<p>10000 rows × 17 columns</p>\n",
       "</div>"
      ],
      "text/plain": [
       "             objid        ra       dec         u         g         r  \\\n",
       "0     1.237650e+18  5.682901  0.299488  2.690412  17.04240  15.94699   \n",
       "1     1.237650e+18  5.683593  0.367811  2.652522  17.21449  16.67637   \n",
       "2     1.237650e+18  5.684437  0.355225  2.686211  18.19169  17.47428   \n",
       "3     1.237650e+18  5.686400  0.223407  2.609304  16.60272  16.16116   \n",
       "4     1.237650e+18  5.686531  0.320245  2.598730  16.26342  16.43869   \n",
       "...            ...       ...       ...       ...       ...       ...   \n",
       "9995  1.237650e+18  5.082839  7.179105  2.659843  17.47053  16.91508   \n",
       "9996  1.237650e+18  5.082706  7.188278  2.633903  17.43849  17.07692   \n",
       "9997  1.237650e+18  5.085884  7.187975  2.657033  17.77784  17.51872   \n",
       "9998  1.237650e+18  5.084912  7.193961  2.662907  17.91068  17.53152   \n",
       "9999  1.237650e+18  5.087333  7.197590  2.681254  17.37829  16.30542   \n",
       "\n",
       "             i         z   run  camcol  field     specobjid  class  redshift  \\\n",
       "0     15.50342  15.22531   752       4    267  1.929342e+09      2       NaN   \n",
       "1     16.48922  16.39150   752       4    267  6.031700e+08      2       NaN   \n",
       "2     17.08732  16.80125   752       4    268  5.685719e+08      0  0.350872   \n",
       "3     15.98233  15.90438   752       4    269  1.929344e+09      2       NaN   \n",
       "4     16.55492  16.61326   752       4    269  1.929344e+09      2  0.024297   \n",
       "...        ...       ...   ...     ...    ...           ...    ...       ...   \n",
       "9995  16.68305  16.50570  1345       3    161  7.094681e+08      0  0.166081   \n",
       "9996  16.71661  16.69897  1345       3    162  7.094646e+08      0  0.343180   \n",
       "9997  17.43302  17.42048  1345       3    162  2.867511e+09      2       NaN   \n",
       "9998  17.36284  17.13988  1345       3    163  7.094646e+08      0  0.118402   \n",
       "9999  15.83548  15.50588  1345       3    163  7.094653e+08      0  0.344118   \n",
       "\n",
       "          plate         mjd  fiberid  \n",
       "0     57.497826  234.354432      491  \n",
       "1     17.972201  227.189348      541  \n",
       "2     16.941074  228.085510      513  \n",
       "3     57.497826  234.354432      510  \n",
       "4     57.497826  234.354432      512  \n",
       "...         ...         ...      ...  \n",
       "9995  21.142375  227.765230      246  \n",
       "9996  21.142375  227.765230      228  \n",
       "9997  85.457592  238.773952      622  \n",
       "9998  21.142375  227.765230      229  \n",
       "9999  21.142375  227.765230      233  \n",
       "\n",
       "[10000 rows x 17 columns]"
      ]
     },
     "execution_count": 15,
     "metadata": {},
     "output_type": "execute_result"
    }
   ],
   "source": [
    "space['class']\n",
    "le=LabelEncoder()\n",
    "space['class']=le.fit_transform(space['class'])\n",
    "space"
   ]
  },
  {
   "cell_type": "code",
   "execution_count": 16,
   "metadata": {},
   "outputs": [
    {
     "data": {
      "text/plain": [
       "True"
      ]
     },
     "execution_count": 16,
     "metadata": {},
     "output_type": "execute_result"
    }
   ],
   "source": [
    "space['dec'].isnull().values.any()"
   ]
  },
  {
   "cell_type": "code",
   "execution_count": 17,
   "metadata": {},
   "outputs": [
    {
     "data": {
      "text/plain": [
       "0       0.299488\n",
       "1       0.367811\n",
       "2       0.355225\n",
       "3       0.223407\n",
       "4       0.320245\n",
       "          ...   \n",
       "9995    7.179105\n",
       "9996    7.188278\n",
       "9997    7.187975\n",
       "9998    7.193961\n",
       "9999    7.197590\n",
       "Name: dec, Length: 10000, dtype: float64"
      ]
     },
     "execution_count": 17,
     "metadata": {},
     "output_type": "execute_result"
    }
   ],
   "source": [
    "space['dec'].replace(np.nan,0)"
   ]
  },
  {
   "cell_type": "code",
   "execution_count": 18,
   "metadata": {},
   "outputs": [],
   "source": [
    "space['dec'].fillna(space['dec'].mode()[0],inplace=True)"
   ]
  },
  {
   "cell_type": "code",
   "execution_count": 19,
   "metadata": {},
   "outputs": [
    {
     "data": {
      "text/plain": [
       "True"
      ]
     },
     "execution_count": 19,
     "metadata": {},
     "output_type": "execute_result"
    }
   ],
   "source": [
    "space['redshift'].isnull().values.any()"
   ]
  },
  {
   "cell_type": "code",
   "execution_count": 20,
   "metadata": {},
   "outputs": [
    {
     "data": {
      "text/plain": [
       "0       0.000000\n",
       "1       0.000000\n",
       "2       0.350872\n",
       "3       0.000000\n",
       "4       0.024297\n",
       "          ...   \n",
       "9995    0.166081\n",
       "9996    0.343180\n",
       "9997    0.000000\n",
       "9998    0.118402\n",
       "9999    0.344118\n",
       "Name: redshift, Length: 10000, dtype: float64"
      ]
     },
     "execution_count": 20,
     "metadata": {},
     "output_type": "execute_result"
    }
   ],
   "source": [
    "space['redshift'].replace(np.nan,0)"
   ]
  },
  {
   "cell_type": "code",
   "execution_count": 21,
   "metadata": {},
   "outputs": [],
   "source": [
    "space['redshift'].fillna(space['redshift'].mode()[0],inplace=True)"
   ]
  },
  {
   "cell_type": "markdown",
   "metadata": {},
   "source": [
    "in these columns the values are unique as per the data given that is why we are dropping these columns for the further analysis."
   ]
  },
  {
   "cell_type": "markdown",
   "metadata": {},
   "source": [
    "# removing outliers"
   ]
  },
  {
   "cell_type": "code",
   "execution_count": 22,
   "metadata": {},
   "outputs": [
    {
     "data": {
      "text/plain": [
       "(10000, 15)"
      ]
     },
     "execution_count": 22,
     "metadata": {},
     "output_type": "execute_result"
    }
   ],
   "source": [
    "space_for_zscore=space.drop(['objid','specobjid'],axis=1)\n",
    "space_for_zscore.shape"
   ]
  },
  {
   "cell_type": "code",
   "execution_count": 23,
   "metadata": {},
   "outputs": [],
   "source": [
    "threshold=3\n",
    "z=np.abs(zscore(space_for_zscore))"
   ]
  },
  {
   "cell_type": "code",
   "execution_count": 24,
   "metadata": {
    "scrolled": true
   },
   "outputs": [
    {
     "data": {
      "text/plain": [
       "(9023, 17)"
      ]
     },
     "execution_count": 24,
     "metadata": {},
     "output_type": "execute_result"
    }
   ],
   "source": [
    "space_new=space[(z<3).all(axis=1)]\n",
    "space_new.shape"
   ]
  },
  {
   "cell_type": "code",
   "execution_count": 25,
   "metadata": {},
   "outputs": [
    {
     "data": {
      "text/html": [
       "<div>\n",
       "<style scoped>\n",
       "    .dataframe tbody tr th:only-of-type {\n",
       "        vertical-align: middle;\n",
       "    }\n",
       "\n",
       "    .dataframe tbody tr th {\n",
       "        vertical-align: top;\n",
       "    }\n",
       "\n",
       "    .dataframe thead th {\n",
       "        text-align: right;\n",
       "    }\n",
       "</style>\n",
       "<table border=\"1\" class=\"dataframe\">\n",
       "  <thead>\n",
       "    <tr style=\"text-align: right;\">\n",
       "      <th></th>\n",
       "      <th>0</th>\n",
       "      <th>1</th>\n",
       "      <th>2</th>\n",
       "      <th>3</th>\n",
       "      <th>4</th>\n",
       "      <th>5</th>\n",
       "      <th>6</th>\n",
       "      <th>7</th>\n",
       "      <th>8</th>\n",
       "      <th>9</th>\n",
       "      <th>10</th>\n",
       "      <th>11</th>\n",
       "      <th>12</th>\n",
       "      <th>13</th>\n",
       "      <th>14</th>\n",
       "      <th>15</th>\n",
       "    </tr>\n",
       "  </thead>\n",
       "  <tbody>\n",
       "    <tr>\n",
       "      <th>0</th>\n",
       "      <td>0.0</td>\n",
       "      <td>0.229925</td>\n",
       "      <td>-0.635666</td>\n",
       "      <td>1.011068</td>\n",
       "      <td>-0.348559</td>\n",
       "      <td>-0.837280</td>\n",
       "      <td>-0.946058</td>\n",
       "      <td>-0.995342</td>\n",
       "      <td>-0.838061</td>\n",
       "      <td>0.210852</td>\n",
       "      <td>-0.217630</td>\n",
       "      <td>1.242674</td>\n",
       "      <td>-0.758728</td>\n",
       "      <td>1.242669</td>\n",
       "      <td>1.313699</td>\n",
       "      <td>0.668632</td>\n",
       "    </tr>\n",
       "    <tr>\n",
       "      <th>1</th>\n",
       "      <td>0.0</td>\n",
       "      <td>0.230907</td>\n",
       "      <td>-0.613986</td>\n",
       "      <td>0.066388</td>\n",
       "      <td>-0.166533</td>\n",
       "      <td>-0.154155</td>\n",
       "      <td>-0.082645</td>\n",
       "      <td>-0.026043</td>\n",
       "      <td>-0.838061</td>\n",
       "      <td>0.210852</td>\n",
       "      <td>-0.217630</td>\n",
       "      <td>-0.722295</td>\n",
       "      <td>-0.758728</td>\n",
       "      <td>-0.722369</td>\n",
       "      <td>-0.884050</td>\n",
       "      <td>0.911012</td>\n",
       "    </tr>\n",
       "    <tr>\n",
       "      <th>2</th>\n",
       "      <td>0.0</td>\n",
       "      <td>0.232104</td>\n",
       "      <td>-0.617980</td>\n",
       "      <td>0.906332</td>\n",
       "      <td>0.867093</td>\n",
       "      <td>0.593154</td>\n",
       "      <td>0.441201</td>\n",
       "      <td>0.314528</td>\n",
       "      <td>-0.838061</td>\n",
       "      <td>0.210852</td>\n",
       "      <td>-0.211479</td>\n",
       "      <td>-0.773558</td>\n",
       "      <td>0.402832</td>\n",
       "      <td>-0.773632</td>\n",
       "      <td>-0.609170</td>\n",
       "      <td>0.775279</td>\n",
       "    </tr>\n",
       "    <tr>\n",
       "      <th>3</th>\n",
       "      <td>0.0</td>\n",
       "      <td>0.234888</td>\n",
       "      <td>-0.659808</td>\n",
       "      <td>-1.011105</td>\n",
       "      <td>-0.813627</td>\n",
       "      <td>-0.636692</td>\n",
       "      <td>-0.526604</td>\n",
       "      <td>-0.430921</td>\n",
       "      <td>-0.838061</td>\n",
       "      <td>0.210852</td>\n",
       "      <td>-0.205328</td>\n",
       "      <td>1.242678</td>\n",
       "      <td>-0.758728</td>\n",
       "      <td>1.242669</td>\n",
       "      <td>1.313699</td>\n",
       "      <td>0.760736</td>\n",
       "    </tr>\n",
       "    <tr>\n",
       "      <th>4</th>\n",
       "      <td>0.0</td>\n",
       "      <td>0.235074</td>\n",
       "      <td>-0.629080</td>\n",
       "      <td>-1.274740</td>\n",
       "      <td>-1.172519</td>\n",
       "      <td>-0.376762</td>\n",
       "      <td>-0.025101</td>\n",
       "      <td>0.158276</td>\n",
       "      <td>-0.838061</td>\n",
       "      <td>0.210852</td>\n",
       "      <td>-0.205328</td>\n",
       "      <td>1.242678</td>\n",
       "      <td>-0.678292</td>\n",
       "      <td>1.242669</td>\n",
       "      <td>1.313699</td>\n",
       "      <td>0.770431</td>\n",
       "    </tr>\n",
       "    <tr>\n",
       "      <th>...</th>\n",
       "      <td>...</td>\n",
       "      <td>...</td>\n",
       "      <td>...</td>\n",
       "      <td>...</td>\n",
       "      <td>...</td>\n",
       "      <td>...</td>\n",
       "      <td>...</td>\n",
       "      <td>...</td>\n",
       "      <td>...</td>\n",
       "      <td>...</td>\n",
       "      <td>...</td>\n",
       "      <td>...</td>\n",
       "      <td>...</td>\n",
       "      <td>...</td>\n",
       "      <td>...</td>\n",
       "      <td>...</td>\n",
       "    </tr>\n",
       "    <tr>\n",
       "      <th>9995</th>\n",
       "      <td>0.0</td>\n",
       "      <td>-0.621106</td>\n",
       "      <td>1.547338</td>\n",
       "      <td>0.248930</td>\n",
       "      <td>0.104292</td>\n",
       "      <td>0.069416</td>\n",
       "      <td>0.087121</td>\n",
       "      <td>0.068876</td>\n",
       "      <td>1.331785</td>\n",
       "      <td>-0.389352</td>\n",
       "      <td>-0.869659</td>\n",
       "      <td>-0.564794</td>\n",
       "      <td>-0.208917</td>\n",
       "      <td>-0.564762</td>\n",
       "      <td>-0.707409</td>\n",
       "      <td>-0.519029</td>\n",
       "    </tr>\n",
       "    <tr>\n",
       "      <th>9996</th>\n",
       "      <td>0.0</td>\n",
       "      <td>-0.621295</td>\n",
       "      <td>1.550249</td>\n",
       "      <td>-0.397816</td>\n",
       "      <td>0.070402</td>\n",
       "      <td>0.220993</td>\n",
       "      <td>0.116515</td>\n",
       "      <td>0.229516</td>\n",
       "      <td>1.331785</td>\n",
       "      <td>-0.389352</td>\n",
       "      <td>-0.863508</td>\n",
       "      <td>-0.564799</td>\n",
       "      <td>0.377366</td>\n",
       "      <td>-0.564762</td>\n",
       "      <td>-0.707409</td>\n",
       "      <td>-0.606286</td>\n",
       "    </tr>\n",
       "    <tr>\n",
       "      <th>9997</th>\n",
       "      <td>0.0</td>\n",
       "      <td>-0.616788</td>\n",
       "      <td>1.550153</td>\n",
       "      <td>0.178857</td>\n",
       "      <td>0.429347</td>\n",
       "      <td>0.634775</td>\n",
       "      <td>0.743983</td>\n",
       "      <td>0.829211</td>\n",
       "      <td>1.331785</td>\n",
       "      <td>-0.389352</td>\n",
       "      <td>-0.863508</td>\n",
       "      <td>2.632745</td>\n",
       "      <td>-0.758728</td>\n",
       "      <td>2.632703</td>\n",
       "      <td>2.669300</td>\n",
       "      <td>1.303667</td>\n",
       "    </tr>\n",
       "    <tr>\n",
       "      <th>9998</th>\n",
       "      <td>0.0</td>\n",
       "      <td>-0.618166</td>\n",
       "      <td>1.552052</td>\n",
       "      <td>0.325314</td>\n",
       "      <td>0.569857</td>\n",
       "      <td>0.646764</td>\n",
       "      <td>0.682516</td>\n",
       "      <td>0.595986</td>\n",
       "      <td>1.331785</td>\n",
       "      <td>-0.389352</td>\n",
       "      <td>-0.857356</td>\n",
       "      <td>-0.564799</td>\n",
       "      <td>-0.366760</td>\n",
       "      <td>-0.564762</td>\n",
       "      <td>-0.707409</td>\n",
       "      <td>-0.601438</td>\n",
       "    </tr>\n",
       "    <tr>\n",
       "      <th>9999</th>\n",
       "      <td>0.0</td>\n",
       "      <td>-0.614733</td>\n",
       "      <td>1.553204</td>\n",
       "      <td>0.782731</td>\n",
       "      <td>0.006726</td>\n",
       "      <td>-0.501581</td>\n",
       "      <td>-0.655223</td>\n",
       "      <td>-0.762141</td>\n",
       "      <td>1.331785</td>\n",
       "      <td>-0.389352</td>\n",
       "      <td>-0.857356</td>\n",
       "      <td>-0.564798</td>\n",
       "      <td>0.380473</td>\n",
       "      <td>-0.564762</td>\n",
       "      <td>-0.707409</td>\n",
       "      <td>-0.582048</td>\n",
       "    </tr>\n",
       "  </tbody>\n",
       "</table>\n",
       "<p>10000 rows × 16 columns</p>\n",
       "</div>"
      ],
      "text/plain": [
       "        0         1         2         3         4         5         6  \\\n",
       "0     0.0  0.229925 -0.635666  1.011068 -0.348559 -0.837280 -0.946058   \n",
       "1     0.0  0.230907 -0.613986  0.066388 -0.166533 -0.154155 -0.082645   \n",
       "2     0.0  0.232104 -0.617980  0.906332  0.867093  0.593154  0.441201   \n",
       "3     0.0  0.234888 -0.659808 -1.011105 -0.813627 -0.636692 -0.526604   \n",
       "4     0.0  0.235074 -0.629080 -1.274740 -1.172519 -0.376762 -0.025101   \n",
       "...   ...       ...       ...       ...       ...       ...       ...   \n",
       "9995  0.0 -0.621106  1.547338  0.248930  0.104292  0.069416  0.087121   \n",
       "9996  0.0 -0.621295  1.550249 -0.397816  0.070402  0.220993  0.116515   \n",
       "9997  0.0 -0.616788  1.550153  0.178857  0.429347  0.634775  0.743983   \n",
       "9998  0.0 -0.618166  1.552052  0.325314  0.569857  0.646764  0.682516   \n",
       "9999  0.0 -0.614733  1.553204  0.782731  0.006726 -0.501581 -0.655223   \n",
       "\n",
       "             7         8         9        10        11        12        13  \\\n",
       "0    -0.995342 -0.838061  0.210852 -0.217630  1.242674 -0.758728  1.242669   \n",
       "1    -0.026043 -0.838061  0.210852 -0.217630 -0.722295 -0.758728 -0.722369   \n",
       "2     0.314528 -0.838061  0.210852 -0.211479 -0.773558  0.402832 -0.773632   \n",
       "3    -0.430921 -0.838061  0.210852 -0.205328  1.242678 -0.758728  1.242669   \n",
       "4     0.158276 -0.838061  0.210852 -0.205328  1.242678 -0.678292  1.242669   \n",
       "...        ...       ...       ...       ...       ...       ...       ...   \n",
       "9995  0.068876  1.331785 -0.389352 -0.869659 -0.564794 -0.208917 -0.564762   \n",
       "9996  0.229516  1.331785 -0.389352 -0.863508 -0.564799  0.377366 -0.564762   \n",
       "9997  0.829211  1.331785 -0.389352 -0.863508  2.632745 -0.758728  2.632703   \n",
       "9998  0.595986  1.331785 -0.389352 -0.857356 -0.564799 -0.366760 -0.564762   \n",
       "9999 -0.762141  1.331785 -0.389352 -0.857356 -0.564798  0.380473 -0.564762   \n",
       "\n",
       "            14        15  \n",
       "0     1.313699  0.668632  \n",
       "1    -0.884050  0.911012  \n",
       "2    -0.609170  0.775279  \n",
       "3     1.313699  0.760736  \n",
       "4     1.313699  0.770431  \n",
       "...        ...       ...  \n",
       "9995 -0.707409 -0.519029  \n",
       "9996 -0.707409 -0.606286  \n",
       "9997  2.669300  1.303667  \n",
       "9998 -0.707409 -0.601438  \n",
       "9999 -0.707409 -0.582048  \n",
       "\n",
       "[10000 rows x 16 columns]"
      ]
     },
     "execution_count": 25,
     "metadata": {},
     "output_type": "execute_result"
    }
   ],
   "source": [
    "x=space.drop('class',axis=1)\n",
    "sc=StandardScaler()\n",
    "x=sc.fit_transform(x)\n",
    "pd.DataFrame(x)"
   ]
  },
  {
   "cell_type": "code",
   "execution_count": 26,
   "metadata": {},
   "outputs": [
    {
     "data": {
      "text/plain": [
       "(9023, 17)"
      ]
     },
     "execution_count": 26,
     "metadata": {},
     "output_type": "execute_result"
    }
   ],
   "source": [
    "x=space_new\n",
    "x.shape"
   ]
  },
  {
   "cell_type": "code",
   "execution_count": 31,
   "metadata": {},
   "outputs": [
    {
     "data": {
      "text/plain": [
       "(9023,)"
      ]
     },
     "execution_count": 31,
     "metadata": {},
     "output_type": "execute_result"
    }
   ],
   "source": [
    "y=x['class']\n",
    "y.shape"
   ]
  },
  {
   "cell_type": "code",
   "execution_count": 41,
   "metadata": {},
   "outputs": [],
   "source": [
    "model=[LogisticRegression(),MultinomialNB(),SVC(),KNeighborsClassifier(),DecisionTreeClassifier(),RandomForestClassifier(),AdaBoostClassifier(),GradientBoostingClassifier(),ExtraTreesClassifier()]"
   ]
  },
  {
   "cell_type": "code",
   "execution_count": 42,
   "metadata": {},
   "outputs": [
    {
     "name": "stdout",
     "output_type": "stream",
     "text": [
      "0.5303408146300914\n",
      "the accuracy score of LogisticRegression() is: 0.5274238227146815\n",
      "the confusion matrix of LogisticRegression() is: [[952   0   0]\n",
      " [ 94   0   0]\n",
      " [759   0   0]]\n",
      "              precision    recall  f1-score   support\n",
      "\n",
      "           0       0.53      1.00      0.69       952\n",
      "           1       0.00      0.00      0.00        94\n",
      "           2       0.00      0.00      0.00       759\n",
      "\n",
      "    accuracy                           0.53      1805\n",
      "   macro avg       0.18      0.33      0.23      1805\n",
      "weighted avg       0.28      0.53      0.36      1805\n",
      "\n",
      "_________________________________________________________________\n",
      "0.7880299251870324\n",
      "the accuracy score of MultinomialNB() is: 0.7872576177285319\n",
      "the confusion matrix of MultinomialNB() is: [[859  77  16]\n",
      " [ 72  10  12]\n",
      " [186  21 552]]\n",
      "              precision    recall  f1-score   support\n",
      "\n",
      "           0       0.77      0.90      0.83       952\n",
      "           1       0.09      0.11      0.10        94\n",
      "           2       0.95      0.73      0.82       759\n",
      "\n",
      "    accuracy                           0.79      1805\n",
      "   macro avg       0.60      0.58      0.58      1805\n",
      "weighted avg       0.81      0.79      0.79      1805\n",
      "\n",
      "_________________________________________________________________\n",
      "0.5303408146300914\n",
      "the accuracy score of SVC() is: 0.5274238227146815\n",
      "the confusion matrix of SVC() is: [[952   0   0]\n",
      " [ 94   0   0]\n",
      " [759   0   0]]\n",
      "              precision    recall  f1-score   support\n",
      "\n",
      "           0       0.53      1.00      0.69       952\n",
      "           1       0.00      0.00      0.00        94\n",
      "           2       0.00      0.00      0.00       759\n",
      "\n",
      "    accuracy                           0.53      1805\n",
      "   macro avg       0.18      0.33      0.23      1805\n",
      "weighted avg       0.28      0.53      0.36      1805\n",
      "\n",
      "_________________________________________________________________\n",
      "0.8595178719866999\n",
      "the accuracy score of KNeighborsClassifier() is: 0.8166204986149584\n",
      "the confusion matrix of KNeighborsClassifier() is: [[897   5  50]\n",
      " [ 76   1  17]\n",
      " [180   3 576]]\n",
      "              precision    recall  f1-score   support\n",
      "\n",
      "           0       0.78      0.94      0.85       952\n",
      "           1       0.11      0.01      0.02        94\n",
      "           2       0.90      0.76      0.82       759\n",
      "\n",
      "    accuracy                           0.82      1805\n",
      "   macro avg       0.59      0.57      0.56      1805\n",
      "weighted avg       0.79      0.82      0.80      1805\n",
      "\n",
      "_________________________________________________________________\n",
      "1.0\n",
      "the accuracy score of DecisionTreeClassifier() is: 1.0\n",
      "the confusion matrix of DecisionTreeClassifier() is: [[952   0   0]\n",
      " [  0  94   0]\n",
      " [  0   0 759]]\n",
      "              precision    recall  f1-score   support\n",
      "\n",
      "           0       1.00      1.00      1.00       952\n",
      "           1       1.00      1.00      1.00        94\n",
      "           2       1.00      1.00      1.00       759\n",
      "\n",
      "    accuracy                           1.00      1805\n",
      "   macro avg       1.00      1.00      1.00      1805\n",
      "weighted avg       1.00      1.00      1.00      1805\n",
      "\n",
      "_________________________________________________________________\n",
      "1.0\n",
      "the accuracy score of RandomForestClassifier() is: 0.9994459833795014\n",
      "the confusion matrix of RandomForestClassifier() is: [[952   0   0]\n",
      " [  1  93   0]\n",
      " [  0   0 759]]\n",
      "              precision    recall  f1-score   support\n",
      "\n",
      "           0       1.00      1.00      1.00       952\n",
      "           1       1.00      0.99      0.99        94\n",
      "           2       1.00      1.00      1.00       759\n",
      "\n",
      "    accuracy                           1.00      1805\n",
      "   macro avg       1.00      1.00      1.00      1805\n",
      "weighted avg       1.00      1.00      1.00      1805\n",
      "\n",
      "_________________________________________________________________\n",
      "1.0\n",
      "the accuracy score of AdaBoostClassifier() is: 1.0\n",
      "the confusion matrix of AdaBoostClassifier() is: [[952   0   0]\n",
      " [  0  94   0]\n",
      " [  0   0 759]]\n",
      "              precision    recall  f1-score   support\n",
      "\n",
      "           0       1.00      1.00      1.00       952\n",
      "           1       1.00      1.00      1.00        94\n",
      "           2       1.00      1.00      1.00       759\n",
      "\n",
      "    accuracy                           1.00      1805\n",
      "   macro avg       1.00      1.00      1.00      1805\n",
      "weighted avg       1.00      1.00      1.00      1805\n",
      "\n",
      "_________________________________________________________________\n",
      "1.0\n",
      "the accuracy score of GradientBoostingClassifier() is: 1.0\n",
      "the confusion matrix of GradientBoostingClassifier() is: [[952   0   0]\n",
      " [  0  94   0]\n",
      " [  0   0 759]]\n",
      "              precision    recall  f1-score   support\n",
      "\n",
      "           0       1.00      1.00      1.00       952\n",
      "           1       1.00      1.00      1.00        94\n",
      "           2       1.00      1.00      1.00       759\n",
      "\n",
      "    accuracy                           1.00      1805\n",
      "   macro avg       1.00      1.00      1.00      1805\n",
      "weighted avg       1.00      1.00      1.00      1805\n",
      "\n",
      "_________________________________________________________________\n",
      "1.0\n",
      "the accuracy score of ExtraTreesClassifier() is: 1.0\n",
      "the confusion matrix of ExtraTreesClassifier() is: [[952   0   0]\n",
      " [  0  94   0]\n",
      " [  0   0 759]]\n",
      "              precision    recall  f1-score   support\n",
      "\n",
      "           0       1.00      1.00      1.00       952\n",
      "           1       1.00      1.00      1.00        94\n",
      "           2       1.00      1.00      1.00       759\n",
      "\n",
      "    accuracy                           1.00      1805\n",
      "   macro avg       1.00      1.00      1.00      1805\n",
      "weighted avg       1.00      1.00      1.00      1805\n",
      "\n",
      "_________________________________________________________________\n"
     ]
    }
   ],
   "source": [
    "for m in model:\n",
    "    x_train,x_test,y_train,y_test=train_test_split(x,y,train_size=.80,random_state=42)\n",
    "    m.fit(x_train,y_train)\n",
    "    print(m.score(x_train,y_train))\n",
    "    predm=m.predict(x_test)\n",
    "    print('the accuracy score of',m,'is:',accuracy_score(y_test,predm))\n",
    "    print('the confusion matrix of',m,'is:',confusion_matrix(y_test,predm))\n",
    "    print(classification_report(y_test,predm))\n",
    "    print('_________________________________________________________________')"
   ]
  },
  {
   "cell_type": "code",
   "execution_count": 44,
   "metadata": {},
   "outputs": [
    {
     "name": "stdout",
     "output_type": "stream",
     "text": [
      "Model LogisticRegression()\n",
      "score [0.52963989 0.52963989 0.52963989 0.52993348 0.52993348]\n",
      "mean score of LogisticRegression() is: 0.5297573259792029\n",
      "standard deviation of LogisticRegression() is- 0.00014383009711262172\n",
      "_________________________________________________________________\n",
      "Model MultinomialNB()\n",
      "score [0.84819945 0.81163435 0.7634349  0.67073171 0.7732816 ]\n",
      "mean score of MultinomialNB() is: 0.7734564003660687\n",
      "standard deviation of MultinomialNB() is- 0.059492692255950226\n",
      "_________________________________________________________________\n",
      "Model SVC()\n",
      "score [0.52963989 0.52963989 0.52963989 0.52993348 0.52993348]\n",
      "mean score of SVC() is: 0.5297573259792029\n",
      "standard deviation of SVC() is- 0.00014383009711262172\n",
      "_________________________________________________________________\n",
      "Model KNeighborsClassifier()\n",
      "score [0.81274238 0.78171745 0.76454294 0.8131929  0.83093126]\n",
      "mean score of KNeighborsClassifier() is: 0.8006253877195031\n",
      "standard deviation of KNeighborsClassifier() is- 0.024011095435018587\n",
      "_________________________________________________________________\n",
      "Model DecisionTreeClassifier()\n",
      "score [1. 1. 1. 1. 1.]\n",
      "mean score of DecisionTreeClassifier() is: 1.0\n",
      "standard deviation of DecisionTreeClassifier() is- 0.0\n",
      "_________________________________________________________________\n",
      "Model RandomForestClassifier()\n",
      "score [1.         1.         1.         0.99944568 1.        ]\n",
      "mean score of RandomForestClassifier() is: 0.999889135254989\n",
      "standard deviation of RandomForestClassifier() is- 0.00022172949002219333\n",
      "_________________________________________________________________\n",
      "Model AdaBoostClassifier()\n",
      "score [1. 1. 1. 1. 1.]\n",
      "mean score of AdaBoostClassifier() is: 1.0\n",
      "standard deviation of AdaBoostClassifier() is- 0.0\n",
      "_________________________________________________________________\n",
      "Model GradientBoostingClassifier()\n",
      "score [1. 1. 1. 1. 1.]\n",
      "mean score of GradientBoostingClassifier() is: 1.0\n",
      "standard deviation of GradientBoostingClassifier() is- 0.0\n",
      "_________________________________________________________________\n",
      "Model ExtraTreesClassifier()\n",
      "score [1. 1. 1. 1. 1.]\n",
      "mean score of ExtraTreesClassifier() is: 1.0\n",
      "standard deviation of ExtraTreesClassifier() is- 0.0\n",
      "_________________________________________________________________\n"
     ]
    }
   ],
   "source": [
    "for m in model:\n",
    "    score=cross_val_score(m,x,y,cv=5,scoring='accuracy')\n",
    "    print('Model',m)\n",
    "    print('score',score)\n",
    "    print('mean score of',m,'is:',score.mean())\n",
    "    print('standard deviation of',m,'is-',score.std())\n",
    "    print('_________________________________________________________________')"
   ]
  },
  {
   "cell_type": "markdown",
   "metadata": {},
   "source": [
    "according to this we can choose 4 models which are giving the best accuracy that is:\n",
    "    decisiontree,adaboost,gradientbootingand extra treesclassifier."
   ]
  },
  {
   "cell_type": "code",
   "execution_count": null,
   "metadata": {},
   "outputs": [],
   "source": []
  },
  {
   "cell_type": "code",
   "execution_count": null,
   "metadata": {},
   "outputs": [],
   "source": []
  },
  {
   "cell_type": "code",
   "execution_count": null,
   "metadata": {},
   "outputs": [],
   "source": []
  },
  {
   "cell_type": "code",
   "execution_count": null,
   "metadata": {},
   "outputs": [],
   "source": []
  },
  {
   "cell_type": "code",
   "execution_count": null,
   "metadata": {},
   "outputs": [],
   "source": []
  }
 ],
 "metadata": {
  "kernelspec": {
   "display_name": "Python 3",
   "language": "python",
   "name": "python3"
  },
  "language_info": {
   "codemirror_mode": {
    "name": "ipython",
    "version": 3
   },
   "file_extension": ".py",
   "mimetype": "text/x-python",
   "name": "python",
   "nbconvert_exporter": "python",
   "pygments_lexer": "ipython3",
   "version": "3.8.3"
  }
 },
 "nbformat": 4,
 "nbformat_minor": 4
}
