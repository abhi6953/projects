{
 "cells": [
  {
   "cell_type": "code",
   "execution_count": 44,
   "metadata": {},
   "outputs": [],
   "source": [
    "import pandas as pd\n",
    "import numpy as np\n",
    "import matplotlib.pyplot as plt\n",
    "import seaborn as sns\n",
    "from sklearn.preprocessing import LabelEncoder\n",
    "from sklearn.preprocessing import StandardScaler\n",
    "from scipy.stats import zscore\n",
    "from sklearn.linear_model import LogisticRegression,LinearRegression\n",
    "from sklearn.svm import SVC\n",
    "from sklearn.model_selection import train_test_split, cross_val_score\n",
    "from sklearn.metrics import accuracy_score,confusion_matrix,classification_report,r2_score,mean_squared_error,mean_absolute_error\n",
    "import warnings\n",
    "warnings.filterwarnings('ignore')"
   ]
  },
  {
   "cell_type": "code",
   "execution_count": 8,
   "metadata": {},
   "outputs": [
    {
     "data": {
      "text/html": [
       "<div>\n",
       "<style scoped>\n",
       "    .dataframe tbody tr th:only-of-type {\n",
       "        vertical-align: middle;\n",
       "    }\n",
       "\n",
       "    .dataframe tbody tr th {\n",
       "        vertical-align: top;\n",
       "    }\n",
       "\n",
       "    .dataframe thead th {\n",
       "        text-align: right;\n",
       "    }\n",
       "</style>\n",
       "<table border=\"1\" class=\"dataframe\">\n",
       "  <thead>\n",
       "    <tr style=\"text-align: right;\">\n",
       "      <th></th>\n",
       "      <th>NAME</th>\n",
       "      <th>JOB TITLE</th>\n",
       "      <th>DEPARTMENT</th>\n",
       "      <th>EMPLOYEE ANNUAL SALARY</th>\n",
       "      <th>ESTIMATED ANNUAL SALARY MINUS FURLOUGHS</th>\n",
       "    </tr>\n",
       "  </thead>\n",
       "  <tbody>\n",
       "    <tr>\n",
       "      <th>0</th>\n",
       "      <td>AARON,  ELVIA J</td>\n",
       "      <td>WATER RATE TAKER</td>\n",
       "      <td>WATER MGMNT</td>\n",
       "      <td>81000.0</td>\n",
       "      <td>73862.0</td>\n",
       "    </tr>\n",
       "    <tr>\n",
       "      <th>1</th>\n",
       "      <td>AARON,  JEFFERY M</td>\n",
       "      <td>POLICE OFFICER</td>\n",
       "      <td>POLICE</td>\n",
       "      <td>74628.0</td>\n",
       "      <td>74628.0</td>\n",
       "    </tr>\n",
       "    <tr>\n",
       "      <th>2</th>\n",
       "      <td>AARON,  KIMBERLEI R</td>\n",
       "      <td>CHIEF CONTRACT EXPEDITER</td>\n",
       "      <td>FLEET MANAGEMNT</td>\n",
       "      <td>77280.0</td>\n",
       "      <td>70174.0</td>\n",
       "    </tr>\n",
       "    <tr>\n",
       "      <th>3</th>\n",
       "      <td>ABAD JR,  VICENTE M</td>\n",
       "      <td>CIVIL ENGINEER IV</td>\n",
       "      <td>WATER MGMNT</td>\n",
       "      <td>96276.0</td>\n",
       "      <td>96276.0</td>\n",
       "    </tr>\n",
       "    <tr>\n",
       "      <th>4</th>\n",
       "      <td>ABBATACOLA,  ROBERT J</td>\n",
       "      <td>ELECTRICAL MECHANIC</td>\n",
       "      <td>WATER MGMNT</td>\n",
       "      <td>84032.0</td>\n",
       "      <td>76627.0</td>\n",
       "    </tr>\n",
       "    <tr>\n",
       "      <th>...</th>\n",
       "      <td>...</td>\n",
       "      <td>...</td>\n",
       "      <td>...</td>\n",
       "      <td>...</td>\n",
       "      <td>...</td>\n",
       "    </tr>\n",
       "    <tr>\n",
       "      <th>34213</th>\n",
       "      <td>ZYMANTAS,  MARK E</td>\n",
       "      <td>POLICE OFFICER</td>\n",
       "      <td>POLICE</td>\n",
       "      <td>74628.0</td>\n",
       "      <td>74628.0</td>\n",
       "    </tr>\n",
       "    <tr>\n",
       "      <th>34214</th>\n",
       "      <td>ZYNIEWICZ,  ROBERT J</td>\n",
       "      <td>CONSTRUCTION LABORER</td>\n",
       "      <td>WATER MGMNT</td>\n",
       "      <td>73216.0</td>\n",
       "      <td>66764.0</td>\n",
       "    </tr>\n",
       "    <tr>\n",
       "      <th>34215</th>\n",
       "      <td>ZYRKOWSKI,  CARLO E</td>\n",
       "      <td>POLICE OFFICER</td>\n",
       "      <td>POLICE</td>\n",
       "      <td>77238.0</td>\n",
       "      <td>77238.0</td>\n",
       "    </tr>\n",
       "    <tr>\n",
       "      <th>34216</th>\n",
       "      <td>ZYSKO,  RICHARD</td>\n",
       "      <td>LIEUTENANT</td>\n",
       "      <td>FIRE</td>\n",
       "      <td>101958.0</td>\n",
       "      <td>101958.0</td>\n",
       "    </tr>\n",
       "    <tr>\n",
       "      <th>34217</th>\n",
       "      <td>ZYSKOWSKI,  DARIUSZ</td>\n",
       "      <td>CHIEF DATA BASE ANALYST</td>\n",
       "      <td>DoIT</td>\n",
       "      <td>110352.0</td>\n",
       "      <td>100205.0</td>\n",
       "    </tr>\n",
       "  </tbody>\n",
       "</table>\n",
       "<p>34218 rows × 5 columns</p>\n",
       "</div>"
      ],
      "text/plain": [
       "                        NAME                 JOB TITLE       DEPARTMENT  \\\n",
       "0            AARON,  ELVIA J          WATER RATE TAKER      WATER MGMNT   \n",
       "1          AARON,  JEFFERY M            POLICE OFFICER           POLICE   \n",
       "2        AARON,  KIMBERLEI R  CHIEF CONTRACT EXPEDITER  FLEET MANAGEMNT   \n",
       "3        ABAD JR,  VICENTE M         CIVIL ENGINEER IV      WATER MGMNT   \n",
       "4      ABBATACOLA,  ROBERT J       ELECTRICAL MECHANIC      WATER MGMNT   \n",
       "...                      ...                       ...              ...   \n",
       "34213      ZYMANTAS,  MARK E            POLICE OFFICER           POLICE   \n",
       "34214   ZYNIEWICZ,  ROBERT J      CONSTRUCTION LABORER      WATER MGMNT   \n",
       "34215    ZYRKOWSKI,  CARLO E            POLICE OFFICER           POLICE   \n",
       "34216        ZYSKO,  RICHARD                LIEUTENANT             FIRE   \n",
       "34217    ZYSKOWSKI,  DARIUSZ   CHIEF DATA BASE ANALYST             DoIT   \n",
       "\n",
       "       EMPLOYEE ANNUAL SALARY  ESTIMATED ANNUAL SALARY MINUS FURLOUGHS  \n",
       "0                     81000.0                                  73862.0  \n",
       "1                     74628.0                                  74628.0  \n",
       "2                     77280.0                                  70174.0  \n",
       "3                     96276.0                                  96276.0  \n",
       "4                     84032.0                                  76627.0  \n",
       "...                       ...                                      ...  \n",
       "34213                 74628.0                                  74628.0  \n",
       "34214                 73216.0                                  66764.0  \n",
       "34215                 77238.0                                  77238.0  \n",
       "34216                101958.0                                 101958.0  \n",
       "34217                110352.0                                 100205.0  \n",
       "\n",
       "[34218 rows x 5 columns]"
      ]
     },
     "execution_count": 8,
     "metadata": {},
     "output_type": "execute_result"
    }
   ],
   "source": [
    "df=pd.read_csv('salary.csv')\n",
    "df"
   ]
  },
  {
   "cell_type": "code",
   "execution_count": 9,
   "metadata": {},
   "outputs": [
    {
     "data": {
      "text/plain": [
       "array(['WATER MGMNT', 'POLICE', 'FLEET MANAGEMNT', 'FIRE',\n",
       "       'FAMILY & SUPPORT', 'TRANSPORTN', 'STREETS & SAN', 'REVENUE',\n",
       "       'BUSINESS AFFAIRS', 'COMMUNITY DEVELOPMENT', 'OEMC', 'HEALTH',\n",
       "       'ENVIRONMENT', 'GENERAL SERVICES', 'AVIATION', 'LAW',\n",
       "       'PUBLIC LIBRARY', 'ADMIN HEARNG', 'CULTURAL AFFAIRS', 'BUILDINGS',\n",
       "       'FINANCE', 'CITY COUNCIL', 'ANIMAL CONTRL', 'CITY CLERK',\n",
       "       'BOARD OF ELECTION', 'COMPLIANCE', 'HUMAN RESOURCES', 'TREASURER',\n",
       "       'DISABILITIES', 'IPRA', \"MAYOR'S OFFICE\", 'DoIT', 'PROCUREMENT',\n",
       "       'HUMAN RELATIONS', 'INSPECTOR GEN', 'BOARD OF ETHICS',\n",
       "       'BUDGET & MGMT', 'POLICE BOARD', 'LICENSE APPL COMM'], dtype=object)"
      ]
     },
     "execution_count": 9,
     "metadata": {},
     "output_type": "execute_result"
    }
   ],
   "source": [
    "df['DEPARTMENT'].unique()"
   ]
  },
  {
   "cell_type": "code",
   "execution_count": 10,
   "metadata": {},
   "outputs": [
    {
     "data": {
      "text/plain": [
       "array(['WATER RATE TAKER', 'POLICE OFFICER', 'CHIEF CONTRACT EXPEDITER',\n",
       "       ..., 'CASE ANALYST - LAW', 'OPERATIONS ANALYST',\n",
       "       'MECHANICAL ENGINEER IV'], dtype=object)"
      ]
     },
     "execution_count": 10,
     "metadata": {},
     "output_type": "execute_result"
    }
   ],
   "source": [
    "df['JOB TITLE'].unique()"
   ]
  },
  {
   "cell_type": "code",
   "execution_count": 11,
   "metadata": {},
   "outputs": [
    {
     "data": {
      "text/plain": [
       "NAME                                       0\n",
       "JOB TITLE                                  0\n",
       "DEPARTMENT                                 0\n",
       "EMPLOYEE ANNUAL SALARY                     0\n",
       "ESTIMATED ANNUAL SALARY MINUS FURLOUGHS    0\n",
       "dtype: int64"
      ]
     },
     "execution_count": 11,
     "metadata": {},
     "output_type": "execute_result"
    }
   ],
   "source": [
    "df.isnull().sum()"
   ]
  },
  {
   "cell_type": "markdown",
   "metadata": {},
   "source": [
    "according to this data we can make the DEPARTMENT column as our target label."
   ]
  },
  {
   "cell_type": "code",
   "execution_count": 12,
   "metadata": {
    "scrolled": false
   },
   "outputs": [
    {
     "data": {
      "text/html": [
       "<div>\n",
       "<style scoped>\n",
       "    .dataframe tbody tr th:only-of-type {\n",
       "        vertical-align: middle;\n",
       "    }\n",
       "\n",
       "    .dataframe tbody tr th {\n",
       "        vertical-align: top;\n",
       "    }\n",
       "\n",
       "    .dataframe thead th {\n",
       "        text-align: right;\n",
       "    }\n",
       "</style>\n",
       "<table border=\"1\" class=\"dataframe\">\n",
       "  <thead>\n",
       "    <tr style=\"text-align: right;\">\n",
       "      <th></th>\n",
       "      <th>NAME</th>\n",
       "      <th>JOB TITLE</th>\n",
       "      <th>DEPARTMENT</th>\n",
       "      <th>EMPLOYEE ANNUAL SALARY</th>\n",
       "      <th>ESTIMATED ANNUAL SALARY MINUS FURLOUGHS</th>\n",
       "    </tr>\n",
       "  </thead>\n",
       "  <tbody>\n",
       "    <tr>\n",
       "      <th>0</th>\n",
       "      <td>AARON,  ELVIA J</td>\n",
       "      <td>WATER RATE TAKER</td>\n",
       "      <td>38</td>\n",
       "      <td>81000.0</td>\n",
       "      <td>73862.0</td>\n",
       "    </tr>\n",
       "    <tr>\n",
       "      <th>1</th>\n",
       "      <td>AARON,  JEFFERY M</td>\n",
       "      <td>POLICE OFFICER</td>\n",
       "      <td>30</td>\n",
       "      <td>74628.0</td>\n",
       "      <td>74628.0</td>\n",
       "    </tr>\n",
       "    <tr>\n",
       "      <th>2</th>\n",
       "      <td>AARON,  KIMBERLEI R</td>\n",
       "      <td>CHIEF CONTRACT EXPEDITER</td>\n",
       "      <td>19</td>\n",
       "      <td>77280.0</td>\n",
       "      <td>70174.0</td>\n",
       "    </tr>\n",
       "    <tr>\n",
       "      <th>3</th>\n",
       "      <td>ABAD JR,  VICENTE M</td>\n",
       "      <td>CIVIL ENGINEER IV</td>\n",
       "      <td>38</td>\n",
       "      <td>96276.0</td>\n",
       "      <td>96276.0</td>\n",
       "    </tr>\n",
       "    <tr>\n",
       "      <th>4</th>\n",
       "      <td>ABBATACOLA,  ROBERT J</td>\n",
       "      <td>ELECTRICAL MECHANIC</td>\n",
       "      <td>38</td>\n",
       "      <td>84032.0</td>\n",
       "      <td>76627.0</td>\n",
       "    </tr>\n",
       "    <tr>\n",
       "      <th>...</th>\n",
       "      <td>...</td>\n",
       "      <td>...</td>\n",
       "      <td>...</td>\n",
       "      <td>...</td>\n",
       "      <td>...</td>\n",
       "    </tr>\n",
       "    <tr>\n",
       "      <th>34213</th>\n",
       "      <td>ZYMANTAS,  MARK E</td>\n",
       "      <td>POLICE OFFICER</td>\n",
       "      <td>30</td>\n",
       "      <td>74628.0</td>\n",
       "      <td>74628.0</td>\n",
       "    </tr>\n",
       "    <tr>\n",
       "      <th>34214</th>\n",
       "      <td>ZYNIEWICZ,  ROBERT J</td>\n",
       "      <td>CONSTRUCTION LABORER</td>\n",
       "      <td>38</td>\n",
       "      <td>73216.0</td>\n",
       "      <td>66764.0</td>\n",
       "    </tr>\n",
       "    <tr>\n",
       "      <th>34215</th>\n",
       "      <td>ZYRKOWSKI,  CARLO E</td>\n",
       "      <td>POLICE OFFICER</td>\n",
       "      <td>30</td>\n",
       "      <td>77238.0</td>\n",
       "      <td>77238.0</td>\n",
       "    </tr>\n",
       "    <tr>\n",
       "      <th>34216</th>\n",
       "      <td>ZYSKO,  RICHARD</td>\n",
       "      <td>LIEUTENANT</td>\n",
       "      <td>18</td>\n",
       "      <td>101958.0</td>\n",
       "      <td>101958.0</td>\n",
       "    </tr>\n",
       "    <tr>\n",
       "      <th>34217</th>\n",
       "      <td>ZYSKOWSKI,  DARIUSZ</td>\n",
       "      <td>CHIEF DATA BASE ANALYST</td>\n",
       "      <td>14</td>\n",
       "      <td>110352.0</td>\n",
       "      <td>100205.0</td>\n",
       "    </tr>\n",
       "  </tbody>\n",
       "</table>\n",
       "<p>34218 rows × 5 columns</p>\n",
       "</div>"
      ],
      "text/plain": [
       "                        NAME                 JOB TITLE  DEPARTMENT  \\\n",
       "0            AARON,  ELVIA J          WATER RATE TAKER          38   \n",
       "1          AARON,  JEFFERY M            POLICE OFFICER          30   \n",
       "2        AARON,  KIMBERLEI R  CHIEF CONTRACT EXPEDITER          19   \n",
       "3        ABAD JR,  VICENTE M         CIVIL ENGINEER IV          38   \n",
       "4      ABBATACOLA,  ROBERT J       ELECTRICAL MECHANIC          38   \n",
       "...                      ...                       ...         ...   \n",
       "34213      ZYMANTAS,  MARK E            POLICE OFFICER          30   \n",
       "34214   ZYNIEWICZ,  ROBERT J      CONSTRUCTION LABORER          38   \n",
       "34215    ZYRKOWSKI,  CARLO E            POLICE OFFICER          30   \n",
       "34216        ZYSKO,  RICHARD                LIEUTENANT          18   \n",
       "34217    ZYSKOWSKI,  DARIUSZ   CHIEF DATA BASE ANALYST          14   \n",
       "\n",
       "       EMPLOYEE ANNUAL SALARY  ESTIMATED ANNUAL SALARY MINUS FURLOUGHS  \n",
       "0                     81000.0                                  73862.0  \n",
       "1                     74628.0                                  74628.0  \n",
       "2                     77280.0                                  70174.0  \n",
       "3                     96276.0                                  96276.0  \n",
       "4                     84032.0                                  76627.0  \n",
       "...                       ...                                      ...  \n",
       "34213                 74628.0                                  74628.0  \n",
       "34214                 73216.0                                  66764.0  \n",
       "34215                 77238.0                                  77238.0  \n",
       "34216                101958.0                                 101958.0  \n",
       "34217                110352.0                                 100205.0  \n",
       "\n",
       "[34218 rows x 5 columns]"
      ]
     },
     "execution_count": 12,
     "metadata": {},
     "output_type": "execute_result"
    }
   ],
   "source": [
    "le=LabelEncoder()\n",
    "df['DEPARTMENT']=le.fit_transform(df['DEPARTMENT'])\n",
    "df"
   ]
  },
  {
   "cell_type": "code",
   "execution_count": 13,
   "metadata": {},
   "outputs": [
    {
     "data": {
      "text/plain": [
       "array([38, 30, 19, 18, 16, 36, 35, 34,  7, 10, 29, 21, 15, 20,  2, 26, 33,\n",
       "        0, 12,  6, 17,  9,  1,  8,  3, 11, 23, 37, 13, 25, 28, 14, 32, 22,\n",
       "       24,  4,  5, 31, 27])"
      ]
     },
     "execution_count": 13,
     "metadata": {},
     "output_type": "execute_result"
    }
   ],
   "source": [
    "df['DEPARTMENT'].unique()"
   ]
  },
  {
   "cell_type": "markdown",
   "metadata": {},
   "source": [
    "THERE ARE 38 MULTIPLE CATEGORIES ARE PRESENT IN THE DATASET WHICH ARE CONSIDERED TO BE OUR TARGET LABEL."
   ]
  },
  {
   "cell_type": "code",
   "execution_count": 14,
   "metadata": {},
   "outputs": [],
   "source": [
    "df.drop(['NAME'],axis=1,inplace=True)"
   ]
  },
  {
   "cell_type": "code",
   "execution_count": 15,
   "metadata": {},
   "outputs": [
    {
     "data": {
      "text/html": [
       "<div>\n",
       "<style scoped>\n",
       "    .dataframe tbody tr th:only-of-type {\n",
       "        vertical-align: middle;\n",
       "    }\n",
       "\n",
       "    .dataframe tbody tr th {\n",
       "        vertical-align: top;\n",
       "    }\n",
       "\n",
       "    .dataframe thead th {\n",
       "        text-align: right;\n",
       "    }\n",
       "</style>\n",
       "<table border=\"1\" class=\"dataframe\">\n",
       "  <thead>\n",
       "    <tr style=\"text-align: right;\">\n",
       "      <th></th>\n",
       "      <th>JOB TITLE</th>\n",
       "      <th>DEPARTMENT</th>\n",
       "      <th>EMPLOYEE ANNUAL SALARY</th>\n",
       "      <th>ESTIMATED ANNUAL SALARY MINUS FURLOUGHS</th>\n",
       "    </tr>\n",
       "  </thead>\n",
       "  <tbody>\n",
       "    <tr>\n",
       "      <th>0</th>\n",
       "      <td>WATER RATE TAKER</td>\n",
       "      <td>38</td>\n",
       "      <td>81000.0</td>\n",
       "      <td>73862.0</td>\n",
       "    </tr>\n",
       "    <tr>\n",
       "      <th>1</th>\n",
       "      <td>POLICE OFFICER</td>\n",
       "      <td>30</td>\n",
       "      <td>74628.0</td>\n",
       "      <td>74628.0</td>\n",
       "    </tr>\n",
       "    <tr>\n",
       "      <th>2</th>\n",
       "      <td>CHIEF CONTRACT EXPEDITER</td>\n",
       "      <td>19</td>\n",
       "      <td>77280.0</td>\n",
       "      <td>70174.0</td>\n",
       "    </tr>\n",
       "    <tr>\n",
       "      <th>3</th>\n",
       "      <td>CIVIL ENGINEER IV</td>\n",
       "      <td>38</td>\n",
       "      <td>96276.0</td>\n",
       "      <td>96276.0</td>\n",
       "    </tr>\n",
       "    <tr>\n",
       "      <th>4</th>\n",
       "      <td>ELECTRICAL MECHANIC</td>\n",
       "      <td>38</td>\n",
       "      <td>84032.0</td>\n",
       "      <td>76627.0</td>\n",
       "    </tr>\n",
       "    <tr>\n",
       "      <th>...</th>\n",
       "      <td>...</td>\n",
       "      <td>...</td>\n",
       "      <td>...</td>\n",
       "      <td>...</td>\n",
       "    </tr>\n",
       "    <tr>\n",
       "      <th>34213</th>\n",
       "      <td>POLICE OFFICER</td>\n",
       "      <td>30</td>\n",
       "      <td>74628.0</td>\n",
       "      <td>74628.0</td>\n",
       "    </tr>\n",
       "    <tr>\n",
       "      <th>34214</th>\n",
       "      <td>CONSTRUCTION LABORER</td>\n",
       "      <td>38</td>\n",
       "      <td>73216.0</td>\n",
       "      <td>66764.0</td>\n",
       "    </tr>\n",
       "    <tr>\n",
       "      <th>34215</th>\n",
       "      <td>POLICE OFFICER</td>\n",
       "      <td>30</td>\n",
       "      <td>77238.0</td>\n",
       "      <td>77238.0</td>\n",
       "    </tr>\n",
       "    <tr>\n",
       "      <th>34216</th>\n",
       "      <td>LIEUTENANT</td>\n",
       "      <td>18</td>\n",
       "      <td>101958.0</td>\n",
       "      <td>101958.0</td>\n",
       "    </tr>\n",
       "    <tr>\n",
       "      <th>34217</th>\n",
       "      <td>CHIEF DATA BASE ANALYST</td>\n",
       "      <td>14</td>\n",
       "      <td>110352.0</td>\n",
       "      <td>100205.0</td>\n",
       "    </tr>\n",
       "  </tbody>\n",
       "</table>\n",
       "<p>34218 rows × 4 columns</p>\n",
       "</div>"
      ],
      "text/plain": [
       "                      JOB TITLE  DEPARTMENT  EMPLOYEE ANNUAL SALARY  \\\n",
       "0              WATER RATE TAKER          38                 81000.0   \n",
       "1                POLICE OFFICER          30                 74628.0   \n",
       "2      CHIEF CONTRACT EXPEDITER          19                 77280.0   \n",
       "3             CIVIL ENGINEER IV          38                 96276.0   \n",
       "4           ELECTRICAL MECHANIC          38                 84032.0   \n",
       "...                         ...         ...                     ...   \n",
       "34213            POLICE OFFICER          30                 74628.0   \n",
       "34214      CONSTRUCTION LABORER          38                 73216.0   \n",
       "34215            POLICE OFFICER          30                 77238.0   \n",
       "34216                LIEUTENANT          18                101958.0   \n",
       "34217   CHIEF DATA BASE ANALYST          14                110352.0   \n",
       "\n",
       "       ESTIMATED ANNUAL SALARY MINUS FURLOUGHS  \n",
       "0                                      73862.0  \n",
       "1                                      74628.0  \n",
       "2                                      70174.0  \n",
       "3                                      96276.0  \n",
       "4                                      76627.0  \n",
       "...                                        ...  \n",
       "34213                                  74628.0  \n",
       "34214                                  66764.0  \n",
       "34215                                  77238.0  \n",
       "34216                                 101958.0  \n",
       "34217                                 100205.0  \n",
       "\n",
       "[34218 rows x 4 columns]"
      ]
     },
     "execution_count": 15,
     "metadata": {},
     "output_type": "execute_result"
    }
   ],
   "source": [
    "df"
   ]
  },
  {
   "cell_type": "code",
   "execution_count": 16,
   "metadata": {},
   "outputs": [
    {
     "data": {
      "text/plain": [
       "JOB TITLE                                   object\n",
       "DEPARTMENT                                   int32\n",
       "EMPLOYEE ANNUAL SALARY                     float64\n",
       "ESTIMATED ANNUAL SALARY MINUS FURLOUGHS    float64\n",
       "dtype: object"
      ]
     },
     "execution_count": 16,
     "metadata": {},
     "output_type": "execute_result"
    }
   ],
   "source": [
    "df.dtypes"
   ]
  },
  {
   "cell_type": "code",
   "execution_count": 17,
   "metadata": {},
   "outputs": [
    {
     "data": {
      "text/html": [
       "<div>\n",
       "<style scoped>\n",
       "    .dataframe tbody tr th:only-of-type {\n",
       "        vertical-align: middle;\n",
       "    }\n",
       "\n",
       "    .dataframe tbody tr th {\n",
       "        vertical-align: top;\n",
       "    }\n",
       "\n",
       "    .dataframe thead th {\n",
       "        text-align: right;\n",
       "    }\n",
       "</style>\n",
       "<table border=\"1\" class=\"dataframe\">\n",
       "  <thead>\n",
       "    <tr style=\"text-align: right;\">\n",
       "      <th></th>\n",
       "      <th>DEPARTMENT</th>\n",
       "      <th>EMPLOYEE ANNUAL SALARY</th>\n",
       "      <th>ESTIMATED ANNUAL SALARY MINUS FURLOUGHS</th>\n",
       "    </tr>\n",
       "  </thead>\n",
       "  <tbody>\n",
       "    <tr>\n",
       "      <th>count</th>\n",
       "      <td>34218.000000</td>\n",
       "      <td>34218.000000</td>\n",
       "      <td>34218.000000</td>\n",
       "    </tr>\n",
       "    <tr>\n",
       "      <th>mean</th>\n",
       "      <td>26.016921</td>\n",
       "      <td>73828.763341</td>\n",
       "      <td>72032.171518</td>\n",
       "    </tr>\n",
       "    <tr>\n",
       "      <th>std</th>\n",
       "      <td>8.912667</td>\n",
       "      <td>22778.636848</td>\n",
       "      <td>22109.779752</td>\n",
       "    </tr>\n",
       "    <tr>\n",
       "      <th>min</th>\n",
       "      <td>0.000000</td>\n",
       "      <td>1.000000</td>\n",
       "      <td>1.000000</td>\n",
       "    </tr>\n",
       "    <tr>\n",
       "      <th>25%</th>\n",
       "      <td>18.000000</td>\n",
       "      <td>67224.000000</td>\n",
       "      <td>64248.000000</td>\n",
       "    </tr>\n",
       "    <tr>\n",
       "      <th>50%</th>\n",
       "      <td>30.000000</td>\n",
       "      <td>77238.000000</td>\n",
       "      <td>76627.000000</td>\n",
       "    </tr>\n",
       "    <tr>\n",
       "      <th>75%</th>\n",
       "      <td>30.000000</td>\n",
       "      <td>84032.000000</td>\n",
       "      <td>82878.000000</td>\n",
       "    </tr>\n",
       "    <tr>\n",
       "      <th>max</th>\n",
       "      <td>38.000000</td>\n",
       "      <td>260004.000000</td>\n",
       "      <td>236096.000000</td>\n",
       "    </tr>\n",
       "  </tbody>\n",
       "</table>\n",
       "</div>"
      ],
      "text/plain": [
       "         DEPARTMENT  EMPLOYEE ANNUAL SALARY  \\\n",
       "count  34218.000000            34218.000000   \n",
       "mean      26.016921            73828.763341   \n",
       "std        8.912667            22778.636848   \n",
       "min        0.000000                1.000000   \n",
       "25%       18.000000            67224.000000   \n",
       "50%       30.000000            77238.000000   \n",
       "75%       30.000000            84032.000000   \n",
       "max       38.000000           260004.000000   \n",
       "\n",
       "       ESTIMATED ANNUAL SALARY MINUS FURLOUGHS  \n",
       "count                             34218.000000  \n",
       "mean                              72032.171518  \n",
       "std                               22109.779752  \n",
       "min                                   1.000000  \n",
       "25%                               64248.000000  \n",
       "50%                               76627.000000  \n",
       "75%                               82878.000000  \n",
       "max                              236096.000000  "
      ]
     },
     "execution_count": 17,
     "metadata": {},
     "output_type": "execute_result"
    }
   ],
   "source": [
    "df.describe()"
   ]
  },
  {
   "cell_type": "code",
   "execution_count": 18,
   "metadata": {},
   "outputs": [],
   "source": [
    "df.drop(['JOB TITLE'],axis=1,inplace=True)"
   ]
  },
  {
   "cell_type": "code",
   "execution_count": 19,
   "metadata": {},
   "outputs": [
    {
     "data": {
      "text/html": [
       "<div>\n",
       "<style scoped>\n",
       "    .dataframe tbody tr th:only-of-type {\n",
       "        vertical-align: middle;\n",
       "    }\n",
       "\n",
       "    .dataframe tbody tr th {\n",
       "        vertical-align: top;\n",
       "    }\n",
       "\n",
       "    .dataframe thead th {\n",
       "        text-align: right;\n",
       "    }\n",
       "</style>\n",
       "<table border=\"1\" class=\"dataframe\">\n",
       "  <thead>\n",
       "    <tr style=\"text-align: right;\">\n",
       "      <th></th>\n",
       "      <th>DEPARTMENT</th>\n",
       "      <th>EMPLOYEE ANNUAL SALARY</th>\n",
       "      <th>ESTIMATED ANNUAL SALARY MINUS FURLOUGHS</th>\n",
       "    </tr>\n",
       "  </thead>\n",
       "  <tbody>\n",
       "    <tr>\n",
       "      <th>0</th>\n",
       "      <td>38</td>\n",
       "      <td>81000.0</td>\n",
       "      <td>73862.0</td>\n",
       "    </tr>\n",
       "    <tr>\n",
       "      <th>1</th>\n",
       "      <td>30</td>\n",
       "      <td>74628.0</td>\n",
       "      <td>74628.0</td>\n",
       "    </tr>\n",
       "    <tr>\n",
       "      <th>2</th>\n",
       "      <td>19</td>\n",
       "      <td>77280.0</td>\n",
       "      <td>70174.0</td>\n",
       "    </tr>\n",
       "    <tr>\n",
       "      <th>3</th>\n",
       "      <td>38</td>\n",
       "      <td>96276.0</td>\n",
       "      <td>96276.0</td>\n",
       "    </tr>\n",
       "    <tr>\n",
       "      <th>4</th>\n",
       "      <td>38</td>\n",
       "      <td>84032.0</td>\n",
       "      <td>76627.0</td>\n",
       "    </tr>\n",
       "    <tr>\n",
       "      <th>...</th>\n",
       "      <td>...</td>\n",
       "      <td>...</td>\n",
       "      <td>...</td>\n",
       "    </tr>\n",
       "    <tr>\n",
       "      <th>34213</th>\n",
       "      <td>30</td>\n",
       "      <td>74628.0</td>\n",
       "      <td>74628.0</td>\n",
       "    </tr>\n",
       "    <tr>\n",
       "      <th>34214</th>\n",
       "      <td>38</td>\n",
       "      <td>73216.0</td>\n",
       "      <td>66764.0</td>\n",
       "    </tr>\n",
       "    <tr>\n",
       "      <th>34215</th>\n",
       "      <td>30</td>\n",
       "      <td>77238.0</td>\n",
       "      <td>77238.0</td>\n",
       "    </tr>\n",
       "    <tr>\n",
       "      <th>34216</th>\n",
       "      <td>18</td>\n",
       "      <td>101958.0</td>\n",
       "      <td>101958.0</td>\n",
       "    </tr>\n",
       "    <tr>\n",
       "      <th>34217</th>\n",
       "      <td>14</td>\n",
       "      <td>110352.0</td>\n",
       "      <td>100205.0</td>\n",
       "    </tr>\n",
       "  </tbody>\n",
       "</table>\n",
       "<p>34218 rows × 3 columns</p>\n",
       "</div>"
      ],
      "text/plain": [
       "       DEPARTMENT  EMPLOYEE ANNUAL SALARY  \\\n",
       "0              38                 81000.0   \n",
       "1              30                 74628.0   \n",
       "2              19                 77280.0   \n",
       "3              38                 96276.0   \n",
       "4              38                 84032.0   \n",
       "...           ...                     ...   \n",
       "34213          30                 74628.0   \n",
       "34214          38                 73216.0   \n",
       "34215          30                 77238.0   \n",
       "34216          18                101958.0   \n",
       "34217          14                110352.0   \n",
       "\n",
       "       ESTIMATED ANNUAL SALARY MINUS FURLOUGHS  \n",
       "0                                      73862.0  \n",
       "1                                      74628.0  \n",
       "2                                      70174.0  \n",
       "3                                      96276.0  \n",
       "4                                      76627.0  \n",
       "...                                        ...  \n",
       "34213                                  74628.0  \n",
       "34214                                  66764.0  \n",
       "34215                                  77238.0  \n",
       "34216                                 101958.0  \n",
       "34217                                 100205.0  \n",
       "\n",
       "[34218 rows x 3 columns]"
      ]
     },
     "execution_count": 19,
     "metadata": {},
     "output_type": "execute_result"
    }
   ],
   "source": [
    "df"
   ]
  },
  {
   "cell_type": "code",
   "execution_count": 20,
   "metadata": {},
   "outputs": [
    {
     "data": {
      "text/plain": [
       "<matplotlib.axes._subplots.AxesSubplot at 0x2bd99a2ccd0>"
      ]
     },
     "execution_count": 20,
     "metadata": {},
     "output_type": "execute_result"
    },
    {
     "data": {
      "image/png": "[encoded data removed]",
      "text/plain": [
       "<Figure size 432x288 with 2 Axes>"
      ]
     },
     "metadata": {
      "needs_background": "light"
     },
     "output_type": "display_data"
    }
   ],
   "source": [
    "sns.heatmap(df.isnull())"
   ]
  },
  {
   "cell_type": "code",
   "execution_count": 21,
   "metadata": {},
   "outputs": [
    {
     "data": {
      "text/plain": [
       "<seaborn.axisgrid.PairGrid at 0x2bd99a2c340>"
      ]
     },
     "execution_count": 21,
     "metadata": {},
     "output_type": "execute_result"
    },
    {
     "data": {
      "image/png": "[encoded data removed]",
      "text/plain": [
       "<Figure size 540x540 with 12 Axes>"
      ]
     },
     "metadata": {
      "needs_background": "light"
     },
     "output_type": "display_data"
    }
   ],
   "source": [
    "sns.pairplot(df)"
   ]
  },
  {
   "cell_type": "code",
   "execution_count": 22,
   "metadata": {},
   "outputs": [
    {
     "data": {
      "text/plain": [
       "<matplotlib.axes._subplots.AxesSubplot at 0x2bd9a9c2bb0>"
      ]
     },
     "execution_count": 22,
     "metadata": {},
     "output_type": "execute_result"
    },
    {
     "data": {
      "image/png": "[encoded data removed]",
      "text/plain": [
       "<Figure size 432x288 with 1 Axes>"
      ]
     },
     "metadata": {
      "needs_background": "light"
     },
     "output_type": "display_data"
    }
   ],
   "source": [
    "sns.lineplot(x='DEPARTMENT',y='EMPLOYEE ANNUAL SALARY',data=df)"
   ]
  },
  {
   "cell_type": "code",
   "execution_count": 23,
   "metadata": {},
   "outputs": [
    {
     "data": {
      "text/plain": [
       "DEPARTMENT                                    AxesSubplot(0.125,0.536818;0.352273x0.343182)\n",
       "EMPLOYEE ANNUAL SALARY                     AxesSubplot(0.547727,0.536818;0.352273x0.343182)\n",
       "ESTIMATED ANNUAL SALARY MINUS FURLOUGHS          AxesSubplot(0.125,0.125;0.352273x0.343182)\n",
       "dtype: object"
      ]
     },
     "execution_count": 23,
     "metadata": {},
     "output_type": "execute_result"
    },
    {
     "data": {
      "image/png": "[encoded data removed]",
      "text/plain": [
       "<Figure size 432x288 with 4 Axes>"
      ]
     },
     "metadata": {
      "needs_background": "light"
     },
     "output_type": "display_data"
    }
   ],
   "source": [
    "df.plot(kind='box',subplots=True,layout=(2,2))"
   ]
  },
  {
   "cell_type": "markdown",
   "metadata": {},
   "source": [
    "this indicates that there are outliers present in our dataset."
   ]
  },
  {
   "cell_type": "code",
   "execution_count": 24,
   "metadata": {},
   "outputs": [
    {
     "data": {
      "text/html": [
       "<div>\n",
       "<style scoped>\n",
       "    .dataframe tbody tr th:only-of-type {\n",
       "        vertical-align: middle;\n",
       "    }\n",
       "\n",
       "    .dataframe tbody tr th {\n",
       "        vertical-align: top;\n",
       "    }\n",
       "\n",
       "    .dataframe thead th {\n",
       "        text-align: right;\n",
       "    }\n",
       "</style>\n",
       "<table border=\"1\" class=\"dataframe\">\n",
       "  <thead>\n",
       "    <tr style=\"text-align: right;\">\n",
       "      <th></th>\n",
       "      <th>DEPARTMENT</th>\n",
       "      <th>EMPLOYEE ANNUAL SALARY</th>\n",
       "      <th>ESTIMATED ANNUAL SALARY MINUS FURLOUGHS</th>\n",
       "    </tr>\n",
       "  </thead>\n",
       "  <tbody>\n",
       "    <tr>\n",
       "      <th>DEPARTMENT</th>\n",
       "      <td>1.000000</td>\n",
       "      <td>-0.020931</td>\n",
       "      <td>-0.012801</td>\n",
       "    </tr>\n",
       "    <tr>\n",
       "      <th>EMPLOYEE ANNUAL SALARY</th>\n",
       "      <td>-0.020931</td>\n",
       "      <td>1.000000</td>\n",
       "      <td>0.990208</td>\n",
       "    </tr>\n",
       "    <tr>\n",
       "      <th>ESTIMATED ANNUAL SALARY MINUS FURLOUGHS</th>\n",
       "      <td>-0.012801</td>\n",
       "      <td>0.990208</td>\n",
       "      <td>1.000000</td>\n",
       "    </tr>\n",
       "  </tbody>\n",
       "</table>\n",
       "</div>"
      ],
      "text/plain": [
       "                                         DEPARTMENT  EMPLOYEE ANNUAL SALARY  \\\n",
       "DEPARTMENT                                 1.000000               -0.020931   \n",
       "EMPLOYEE ANNUAL SALARY                    -0.020931                1.000000   \n",
       "ESTIMATED ANNUAL SALARY MINUS FURLOUGHS   -0.012801                0.990208   \n",
       "\n",
       "                                         ESTIMATED ANNUAL SALARY MINUS FURLOUGHS  \n",
       "DEPARTMENT                                                             -0.012801  \n",
       "EMPLOYEE ANNUAL SALARY                                                  0.990208  \n",
       "ESTIMATED ANNUAL SALARY MINUS FURLOUGHS                                 1.000000  "
      ]
     },
     "execution_count": 24,
     "metadata": {},
     "output_type": "execute_result"
    }
   ],
   "source": [
    "dfcorr=df.corr()\n",
    "dfcorr"
   ]
  },
  {
   "cell_type": "code",
   "execution_count": 25,
   "metadata": {},
   "outputs": [
    {
     "data": {
      "text/plain": [
       "<matplotlib.axes._subplots.AxesSubplot at 0x2bd9bd15a30>"
      ]
     },
     "execution_count": 25,
     "metadata": {},
     "output_type": "execute_result"
    },
    {
     "data": {
      "image/png": "[encoded data removed]",
      "text/plain": [
       "<Figure size 432x288 with 2 Axes>"
      ]
     },
     "metadata": {
      "needs_background": "light"
     },
     "output_type": "display_data"
    }
   ],
   "source": [
    "sns.heatmap(dfcorr,annot=True)"
   ]
  },
  {
   "cell_type": "code",
   "execution_count": 26,
   "metadata": {},
   "outputs": [
    {
     "data": {
      "text/plain": [
       "DEPARTMENT                                -1.065106\n",
       "EMPLOYEE ANNUAL SALARY                    -0.571787\n",
       "ESTIMATED ANNUAL SALARY MINUS FURLOUGHS   -0.686903\n",
       "dtype: float64"
      ]
     },
     "execution_count": 26,
     "metadata": {},
     "output_type": "execute_result"
    }
   ],
   "source": [
    "df.skew()"
   ]
  },
  {
   "cell_type": "markdown",
   "metadata": {},
   "source": [
    "# removing the outliers"
   ]
  },
  {
   "cell_type": "code",
   "execution_count": 27,
   "metadata": {},
   "outputs": [],
   "source": [
    "threshold=3\n",
    "z=abs(zscore(df))"
   ]
  },
  {
   "cell_type": "code",
   "execution_count": 28,
   "metadata": {},
   "outputs": [
    {
     "data": {
      "text/plain": [
       "array([[1.34451942, 0.31482751, 0.08276225],\n",
       "       [0.44690744, 0.03508763, 0.11740806],\n",
       "       [0.78730904, 0.15151421, 0.0840442 ],\n",
       "       ...,\n",
       "       [0.44690744, 0.14967035, 0.2354571 ],\n",
       "       [0.89951053, 1.23491357, 1.3535307 ],\n",
       "       [1.34831652, 1.60342213, 1.27424337]])"
      ]
     },
     "execution_count": 28,
     "metadata": {},
     "output_type": "execute_result"
    }
   ],
   "source": [
    "z"
   ]
  },
  {
   "cell_type": "code",
   "execution_count": 29,
   "metadata": {},
   "outputs": [],
   "source": [
    "df_new=df[(z<3).all(axis=1)]"
   ]
  },
  {
   "cell_type": "code",
   "execution_count": 30,
   "metadata": {},
   "outputs": [
    {
     "data": {
      "text/html": [
       "<div>\n",
       "<style scoped>\n",
       "    .dataframe tbody tr th:only-of-type {\n",
       "        vertical-align: middle;\n",
       "    }\n",
       "\n",
       "    .dataframe tbody tr th {\n",
       "        vertical-align: top;\n",
       "    }\n",
       "\n",
       "    .dataframe thead th {\n",
       "        text-align: right;\n",
       "    }\n",
       "</style>\n",
       "<table border=\"1\" class=\"dataframe\">\n",
       "  <thead>\n",
       "    <tr style=\"text-align: right;\">\n",
       "      <th></th>\n",
       "      <th>DEPARTMENT</th>\n",
       "      <th>EMPLOYEE ANNUAL SALARY</th>\n",
       "      <th>ESTIMATED ANNUAL SALARY MINUS FURLOUGHS</th>\n",
       "    </tr>\n",
       "  </thead>\n",
       "  <tbody>\n",
       "    <tr>\n",
       "      <th>0</th>\n",
       "      <td>38</td>\n",
       "      <td>81000.0</td>\n",
       "      <td>73862.0</td>\n",
       "    </tr>\n",
       "    <tr>\n",
       "      <th>1</th>\n",
       "      <td>30</td>\n",
       "      <td>74628.0</td>\n",
       "      <td>74628.0</td>\n",
       "    </tr>\n",
       "    <tr>\n",
       "      <th>2</th>\n",
       "      <td>19</td>\n",
       "      <td>77280.0</td>\n",
       "      <td>70174.0</td>\n",
       "    </tr>\n",
       "    <tr>\n",
       "      <th>3</th>\n",
       "      <td>38</td>\n",
       "      <td>96276.0</td>\n",
       "      <td>96276.0</td>\n",
       "    </tr>\n",
       "    <tr>\n",
       "      <th>4</th>\n",
       "      <td>38</td>\n",
       "      <td>84032.0</td>\n",
       "      <td>76627.0</td>\n",
       "    </tr>\n",
       "    <tr>\n",
       "      <th>...</th>\n",
       "      <td>...</td>\n",
       "      <td>...</td>\n",
       "      <td>...</td>\n",
       "    </tr>\n",
       "    <tr>\n",
       "      <th>34213</th>\n",
       "      <td>30</td>\n",
       "      <td>74628.0</td>\n",
       "      <td>74628.0</td>\n",
       "    </tr>\n",
       "    <tr>\n",
       "      <th>34214</th>\n",
       "      <td>38</td>\n",
       "      <td>73216.0</td>\n",
       "      <td>66764.0</td>\n",
       "    </tr>\n",
       "    <tr>\n",
       "      <th>34215</th>\n",
       "      <td>30</td>\n",
       "      <td>77238.0</td>\n",
       "      <td>77238.0</td>\n",
       "    </tr>\n",
       "    <tr>\n",
       "      <th>34216</th>\n",
       "      <td>18</td>\n",
       "      <td>101958.0</td>\n",
       "      <td>101958.0</td>\n",
       "    </tr>\n",
       "    <tr>\n",
       "      <th>34217</th>\n",
       "      <td>14</td>\n",
       "      <td>110352.0</td>\n",
       "      <td>100205.0</td>\n",
       "    </tr>\n",
       "  </tbody>\n",
       "</table>\n",
       "<p>33805 rows × 3 columns</p>\n",
       "</div>"
      ],
      "text/plain": [
       "       DEPARTMENT  EMPLOYEE ANNUAL SALARY  \\\n",
       "0              38                 81000.0   \n",
       "1              30                 74628.0   \n",
       "2              19                 77280.0   \n",
       "3              38                 96276.0   \n",
       "4              38                 84032.0   \n",
       "...           ...                     ...   \n",
       "34213          30                 74628.0   \n",
       "34214          38                 73216.0   \n",
       "34215          30                 77238.0   \n",
       "34216          18                101958.0   \n",
       "34217          14                110352.0   \n",
       "\n",
       "       ESTIMATED ANNUAL SALARY MINUS FURLOUGHS  \n",
       "0                                      73862.0  \n",
       "1                                      74628.0  \n",
       "2                                      70174.0  \n",
       "3                                      96276.0  \n",
       "4                                      76627.0  \n",
       "...                                        ...  \n",
       "34213                                  74628.0  \n",
       "34214                                  66764.0  \n",
       "34215                                  77238.0  \n",
       "34216                                 101958.0  \n",
       "34217                                 100205.0  \n",
       "\n",
       "[33805 rows x 3 columns]"
      ]
     },
     "execution_count": 30,
     "metadata": {},
     "output_type": "execute_result"
    }
   ],
   "source": [
    "df_new"
   ]
  },
  {
   "cell_type": "code",
   "execution_count": 31,
   "metadata": {},
   "outputs": [
    {
     "data": {
      "text/plain": [
       "(34218, 3)"
      ]
     },
     "execution_count": 31,
     "metadata": {},
     "output_type": "execute_result"
    }
   ],
   "source": [
    "df.shape"
   ]
  },
  {
   "cell_type": "code",
   "execution_count": 32,
   "metadata": {},
   "outputs": [
    {
     "data": {
      "text/plain": [
       "(33805, 3)"
      ]
     },
     "execution_count": 32,
     "metadata": {},
     "output_type": "execute_result"
    }
   ],
   "source": [
    "df_new.shape"
   ]
  },
  {
   "cell_type": "code",
   "execution_count": 33,
   "metadata": {},
   "outputs": [],
   "source": [
    "df=df_new"
   ]
  },
  {
   "cell_type": "markdown",
   "metadata": {},
   "source": [
    "# performing the model."
   ]
  },
  {
   "cell_type": "code",
   "execution_count": 34,
   "metadata": {},
   "outputs": [],
   "source": [
    "x=df.drop('DEPARTMENT',axis=1)"
   ]
  },
  {
   "cell_type": "code",
   "execution_count": 35,
   "metadata": {},
   "outputs": [
    {
     "data": {
      "text/plain": [
       "array([[ 0.34159838,  0.08828641],\n",
       "       [ 0.0411782 ,  0.12508576],\n",
       "       [ 0.16621184, -0.08888853],\n",
       "       ...,\n",
       "       [ 0.16423167,  0.25047257],\n",
       "       [ 1.32970354,  1.43804428],\n",
       "       [ 1.72545479,  1.35382853]])"
      ]
     },
     "execution_count": 35,
     "metadata": {},
     "output_type": "execute_result"
    }
   ],
   "source": [
    "scale=StandardScaler()\n",
    "x=scale.fit_transform(x)\n",
    "x"
   ]
  },
  {
   "cell_type": "code",
   "execution_count": 36,
   "metadata": {},
   "outputs": [
    {
     "data": {
      "text/html": [
       "<div>\n",
       "<style scoped>\n",
       "    .dataframe tbody tr th:only-of-type {\n",
       "        vertical-align: middle;\n",
       "    }\n",
       "\n",
       "    .dataframe tbody tr th {\n",
       "        vertical-align: top;\n",
       "    }\n",
       "\n",
       "    .dataframe thead th {\n",
       "        text-align: right;\n",
       "    }\n",
       "</style>\n",
       "<table border=\"1\" class=\"dataframe\">\n",
       "  <thead>\n",
       "    <tr style=\"text-align: right;\">\n",
       "      <th></th>\n",
       "      <th>0</th>\n",
       "      <th>1</th>\n",
       "    </tr>\n",
       "  </thead>\n",
       "  <tbody>\n",
       "    <tr>\n",
       "      <th>0</th>\n",
       "      <td>0.341598</td>\n",
       "      <td>0.088286</td>\n",
       "    </tr>\n",
       "    <tr>\n",
       "      <th>1</th>\n",
       "      <td>0.041178</td>\n",
       "      <td>0.125086</td>\n",
       "    </tr>\n",
       "    <tr>\n",
       "      <th>2</th>\n",
       "      <td>0.166212</td>\n",
       "      <td>-0.088889</td>\n",
       "    </tr>\n",
       "    <tr>\n",
       "      <th>3</th>\n",
       "      <td>1.061815</td>\n",
       "      <td>1.165076</td>\n",
       "    </tr>\n",
       "    <tr>\n",
       "      <th>4</th>\n",
       "      <td>0.484548</td>\n",
       "      <td>0.221120</td>\n",
       "    </tr>\n",
       "    <tr>\n",
       "      <th>...</th>\n",
       "      <td>...</td>\n",
       "      <td>...</td>\n",
       "    </tr>\n",
       "    <tr>\n",
       "      <th>33800</th>\n",
       "      <td>0.041178</td>\n",
       "      <td>0.125086</td>\n",
       "    </tr>\n",
       "    <tr>\n",
       "      <th>33801</th>\n",
       "      <td>-0.025393</td>\n",
       "      <td>-0.252708</td>\n",
       "    </tr>\n",
       "    <tr>\n",
       "      <th>33802</th>\n",
       "      <td>0.164232</td>\n",
       "      <td>0.250473</td>\n",
       "    </tr>\n",
       "    <tr>\n",
       "      <th>33803</th>\n",
       "      <td>1.329704</td>\n",
       "      <td>1.438044</td>\n",
       "    </tr>\n",
       "    <tr>\n",
       "      <th>33804</th>\n",
       "      <td>1.725455</td>\n",
       "      <td>1.353829</td>\n",
       "    </tr>\n",
       "  </tbody>\n",
       "</table>\n",
       "<p>33805 rows × 2 columns</p>\n",
       "</div>"
      ],
      "text/plain": [
       "              0         1\n",
       "0      0.341598  0.088286\n",
       "1      0.041178  0.125086\n",
       "2      0.166212 -0.088889\n",
       "3      1.061815  1.165076\n",
       "4      0.484548  0.221120\n",
       "...         ...       ...\n",
       "33800  0.041178  0.125086\n",
       "33801 -0.025393 -0.252708\n",
       "33802  0.164232  0.250473\n",
       "33803  1.329704  1.438044\n",
       "33804  1.725455  1.353829\n",
       "\n",
       "[33805 rows x 2 columns]"
      ]
     },
     "execution_count": 36,
     "metadata": {},
     "output_type": "execute_result"
    }
   ],
   "source": [
    "pd.DataFrame(x)"
   ]
  },
  {
   "cell_type": "code",
   "execution_count": 37,
   "metadata": {},
   "outputs": [],
   "source": [
    "y=df.iloc[:,-3]"
   ]
  },
  {
   "cell_type": "code",
   "execution_count": 38,
   "metadata": {},
   "outputs": [
    {
     "data": {
      "text/plain": [
       "(33805,)"
      ]
     },
     "execution_count": 38,
     "metadata": {},
     "output_type": "execute_result"
    }
   ],
   "source": [
    "y.shape"
   ]
  },
  {
   "cell_type": "code",
   "execution_count": 39,
   "metadata": {},
   "outputs": [
    {
     "data": {
      "text/plain": [
       "(33805, 2)"
      ]
     },
     "execution_count": 39,
     "metadata": {},
     "output_type": "execute_result"
    }
   ],
   "source": [
    "x.shape"
   ]
  },
  {
   "cell_type": "code",
   "execution_count": 45,
   "metadata": {},
   "outputs": [
    {
     "name": "stdout",
     "output_type": "stream",
     "text": [
      "the maximum r2_score to 97 is 0.007568168336122283\n"
     ]
    }
   ],
   "source": [
    "max_r_score=0\n",
    "for r_state in range(40,101):\n",
    "    x_train,x_test,y_train,y_test=train_test_split(x,y,random_state=r_state,test_size=.20)\n",
    "    le=LinearRegression()\n",
    "    le.fit(x_train,y_train)\n",
    "    predle=le.predict(x_test)\n",
    "    R2_score=r2_score(y_test,predle)\n",
    "    if R2_score>max_r_score:\n",
    "        max_r_score=R2_score\n",
    "        final_r_state=r_state\n",
    "print('the maximum r2_score to',final_r_state,'is',max_r_score)"
   ]
  },
  {
   "cell_type": "code",
   "execution_count": 46,
   "metadata": {},
   "outputs": [
    {
     "name": "stdout",
     "output_type": "stream",
     "text": [
      "0.48661440615293594\n",
      "[[  0   0   0 ...   0   0   2]\n",
      " [  0   0   0 ...   0   0   2]\n",
      " [  0   0   0 ...   0   0  73]\n",
      " ...\n",
      " [  0   0   0 ...   0   0 153]\n",
      " [  0   0   0 ...   0   0   2]\n",
      " [  0   0   0 ...   0   0 245]]\n",
      "              precision    recall  f1-score   support\n",
      "\n",
      "           0       0.00      0.00      0.00         8\n",
      "           1       0.00      0.00      0.00        18\n",
      "           2       0.00      0.00      0.00       252\n",
      "           3       0.00      0.00      0.00        21\n",
      "           5       0.00      0.00      0.00         6\n",
      "           6       0.00      0.00      0.00        53\n",
      "           7       0.00      0.00      0.00        41\n",
      "           8       0.00      0.00      0.00        23\n",
      "           9       0.00      0.00      0.00        81\n",
      "          10       0.00      0.00      0.00        48\n",
      "          11       0.00      0.00      0.00         7\n",
      "          12       0.00      0.00      0.00        13\n",
      "          13       0.00      0.00      0.00         4\n",
      "          14       0.00      0.00      0.00        21\n",
      "          15       0.00      0.00      0.00        14\n",
      "          16       0.00      0.00      0.00       119\n",
      "          17       0.00      0.00      0.00        33\n",
      "          18       0.71      0.16      0.26      1006\n",
      "          19       0.00      0.00      0.00       121\n",
      "          20       0.00      0.00      0.00       102\n",
      "          21       0.00      0.00      0.00       173\n",
      "          22       0.00      0.00      0.00         8\n",
      "          23       0.00      0.00      0.00         8\n",
      "          24       0.00      0.00      0.00         9\n",
      "          25       0.00      0.00      0.00        12\n",
      "          26       0.00      0.00      0.00        76\n",
      "          28       0.00      0.00      0.00        14\n",
      "          29       0.00      0.00      0.00       290\n",
      "          30       0.56      0.93      0.70      2833\n",
      "          32       0.00      0.00      0.00         8\n",
      "          33       0.00      0.00      0.00       216\n",
      "          34       0.00      0.00      0.00        89\n",
      "          35       0.48      0.53      0.51       453\n",
      "          36       0.00      0.00      0.00       229\n",
      "          37       0.00      0.00      0.00         5\n",
      "          38       0.24      0.71      0.36       347\n",
      "\n",
      "    accuracy                           0.49      6761\n",
      "   macro avg       0.06      0.06      0.05      6761\n",
      "weighted avg       0.38      0.49      0.38      6761\n",
      "\n"
     ]
    }
   ],
   "source": [
    "x_train,x_test,y_train,y_test=train_test_split(x,y,random_state=58,test_size=.20)\n",
    "lg=LogisticRegression()\n",
    "lg.fit(x_train,y_train)\n",
    "predlg=lg.predict(x_test)\n",
    "print(accuracy_score(y_test,predlg))\n",
    "print(confusion_matrix(y_test,predlg))\n",
    "print(classification_report(y_test,predlg))"
   ]
  },
  {
   "cell_type": "code",
   "execution_count": null,
   "metadata": {},
   "outputs": [],
   "source": []
  },
  {
   "cell_type": "code",
   "execution_count": null,
   "metadata": {},
   "outputs": [],
   "source": []
  },
  {
   "cell_type": "code",
   "execution_count": null,
   "metadata": {},
   "outputs": [],
   "source": []
  }
 ],
 "metadata": {
  "kernelspec": {
   "display_name": "Python 3",
   "language": "python",
   "name": "python3"
  },
  "language_info": {
   "codemirror_mode": {
    "name": "ipython",
    "version": 3
   },
   "file_extension": ".py",
   "mimetype": "text/x-python",
   "name": "python",
   "nbconvert_exporter": "python",
   "pygments_lexer": "ipython3",
   "version": "3.8.3"
  }
 },
 "nbformat": 4,
 "nbformat_minor": 4
}
